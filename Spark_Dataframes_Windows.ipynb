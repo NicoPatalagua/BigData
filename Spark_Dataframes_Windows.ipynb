{
  "nbformat": 4,
  "nbformat_minor": 0,
  "metadata": {
    "colab": {
      "name": "Spark-Dataframes-Windows.ipynb",
      "provenance": [],
      "collapsed_sections": [],
      "toc_visible": true,
      "authorship_tag": "ABX9TyMEqiMvDgwAiWwWo7oFeqv8",
      "include_colab_link": true
    },
    "kernelspec": {
      "name": "python3",
      "display_name": "Python 3"
    }
  },
  "cells": [
    {
      "cell_type": "markdown",
      "metadata": {
        "id": "view-in-github",
        "colab_type": "text"
      },
      "source": [
        "<a href=\"https://colab.research.google.com/github/NicoPatalagua/BigData/blob/master/Spark_Dataframes_Windows.ipynb\" target=\"_parent\"><img src=\"https://colab.research.google.com/assets/colab-badge.svg\" alt=\"Open In Colab\"/></a>"
      ]
    },
    {
      "cell_type": "markdown",
      "metadata": {
        "id": "47CCUKp7RAsS",
        "colab_type": "text"
      },
      "source": [
        "# **Taller Spark-Dataframes-Windows**\n",
        "## *Nicolás Patalagua*\n",
        "## Infraestructura para BigData - Universidad Sergio Arboleda\n",
        "# **Spark**\n",
        "[Apache Spark](https://spark.apache.org/) es un framework de computación en clúster open-source. Spark fue desarrollado en sus inicios por Matei Zaharia en la Universidad de California,el AMPLab de la UC Berkeley en 2009. Fue liberado como código abierto en 2010 bajo licencia BSD. El código base del proyecto Spark fue donado más tarde a la Apache Software Foundation que se encarga de su mantenimiento desde entonces. \n",
        "\n",
        "## **¿Para que sirve Spark?**\n",
        "\n",
        "*Spark proporciona una interfaz para la programación de clusters completos con Paralelismo de Datos implícito y tolerancia a fallos.Apache Spark se puede considerar un sistema de computación en clúster de propósito general y orientado a la velocidad. Proporciona APIs en Java, Scala, Python y R. También proporciona un motor optimizado que soporta la ejecución de grafos en general. También soporta un conjunto extenso y rico de herramientas de alto nivel entre las que se incluyen Spark SQL (para el procesamiento de datos estructurados basada en SQL), MLlib para implementar machine learning, GraphX para el procesamiento de grafos y Spark Streaming.*\n",
        "\n",
        "# **Funciones de ventana en Spark**\n",
        "*Las funciones de ventana permiten a los usuarios de Spark SQL calcular resultados como el rango de una fila determinada o un promedio móvil en un rango de filas de entrada. Mejoran significativamente la expresividad de las API de SQL y DataFrame de Spark.\n",
        "En esencia, una función de ventana calcula un valor de retorno para cada fila de entrada de una tabla en función de un grupo de filas, llamado Marco . Cada fila de entrada puede tener un marco único asociado. Esta característica de las funciones de ventana las hace más potentes que otras funciones y permite a los usuarios expresar varias tareas de procesamiento de datos que son difíciles (si no imposibles) de expresar de manera concisa sin las funciones de ventana.* \n",
        "\n",
        "http://queirozf.com/entries/spark-dataframe-examples-window-functions"
      ]
    },
    {
      "cell_type": "code",
      "metadata": {
        "id": "bGn1vKcUQywj",
        "colab_type": "code",
        "colab": {
          "base_uri": "https://localhost:8080/",
          "height": 350
        },
        "outputId": "b2a82417-2d95-41ee-9eca-f2ba530f0a83"
      },
      "source": [
        "!apt-get install openjdk-8-jdk-headless -qq > /dev/null\n",
        "!wget -q http://apache.osuosl.org/spark/spark-2.4.5/spark-2.4.5-bin-hadoop2.7.tgz\n",
        "!tar xf spark-2.4.5-bin-hadoop2.7.tgz\n",
        "!pip install -q findspark\n",
        "!pip install pyspark\n",
        "import os\n",
        "import time \n",
        "os.environ[\"JAVA_HOME\"] = \"/usr/lib/jvm/java-8-openjdk-amd64\"\n",
        "os.environ[\"SPARK_HOME\"] = \"/content/spark-2.4.5-bin-hadoop2.7\"\n",
        "\n",
        "from google.colab import drive\n",
        "drive.mount('/content/gdrive')\n",
        "from pyspark import SparkConf, SparkContext\n",
        "conf = SparkConf().setAppName(\"app\")\n",
        "sc = SparkContext.getOrCreate();"
      ],
      "execution_count": 1,
      "outputs": [
        {
          "output_type": "stream",
          "text": [
            "Collecting pyspark\n",
            "\u001b[?25l  Downloading https://files.pythonhosted.org/packages/9a/5a/271c416c1c2185b6cb0151b29a91fff6fcaed80173c8584ff6d20e46b465/pyspark-2.4.5.tar.gz (217.8MB)\n",
            "\u001b[K     |████████████████████████████████| 217.8MB 54kB/s \n",
            "\u001b[?25hCollecting py4j==0.10.7\n",
            "\u001b[?25l  Downloading https://files.pythonhosted.org/packages/e3/53/c737818eb9a7dc32a7cd4f1396e787bd94200c3997c72c1dbe028587bd76/py4j-0.10.7-py2.py3-none-any.whl (197kB)\n",
            "\u001b[K     |████████████████████████████████| 204kB 44.7MB/s \n",
            "\u001b[?25hBuilding wheels for collected packages: pyspark\n",
            "  Building wheel for pyspark (setup.py) ... \u001b[?25l\u001b[?25hdone\n",
            "  Created wheel for pyspark: filename=pyspark-2.4.5-py2.py3-none-any.whl size=218257927 sha256=d8274614e957c8b4058b5efe5a7c3597c869494bc5f62f137956c380d51ce65e\n",
            "  Stored in directory: /root/.cache/pip/wheels/bf/db/04/61d66a5939364e756eb1c1be4ec5bdce6e04047fc7929a3c3c\n",
            "Successfully built pyspark\n",
            "Installing collected packages: py4j, pyspark\n",
            "Successfully installed py4j-0.10.7 pyspark-2.4.5\n",
            "Go to this URL in a browser: https://accounts.google.com/o/oauth2/auth?client_id=947318989803-6bn6qk8qdgf4n4g3pfee6491hc0brc4i.apps.googleusercontent.com&redirect_uri=urn%3aietf%3awg%3aoauth%3a2.0%3aoob&response_type=code&scope=email%20https%3a%2f%2fwww.googleapis.com%2fauth%2fdocs.test%20https%3a%2f%2fwww.googleapis.com%2fauth%2fdrive%20https%3a%2f%2fwww.googleapis.com%2fauth%2fdrive.photos.readonly%20https%3a%2f%2fwww.googleapis.com%2fauth%2fpeopleapi.readonly\n",
            "\n",
            "Enter your authorization code:\n",
            "··········\n",
            "Mounted at /content/gdrive\n"
          ],
          "name": "stdout"
        }
      ]
    },
    {
      "cell_type": "code",
      "metadata": {
        "id": "p8Q6xwf7VYvs",
        "colab_type": "code",
        "colab": {}
      },
      "source": [
        "#Importamos las bibliotecas y dependencias que necesitamos\n",
        "import numpy as np\n",
        "import pandas as pd\n",
        "from pyspark.sql import Window\n",
        "from pyspark.sql import SparkSession\n",
        "from pyspark.sql import functions as F\n",
        "from pyspark.sql.functions import col\n",
        "from matplotlib import pyplot as plt\n",
        "sp= SparkSession.builder.appName('test').getOrCreate()"
      ],
      "execution_count": 0,
      "outputs": []
    },
    {
      "cell_type": "markdown",
      "metadata": {
        "id": "pmnKrbToRRL1",
        "colab_type": "text"
      },
      "source": [
        "# ***Taller***\n",
        "**1. Descargar las acciones de Ecopetrol, Avianca, y Grupo Aval para el último año de Yahoo finances(23 de sept-2018 y 23 de sept-2019).** \n",
        "\n",
        "*Los CSV de acciones se obtienen de [Yahho! Finance](https://finance.yahoo.com/), el cual es un servicio de Yahoo! que proporciona información financiera y comentarios con un enfoque en los mercados de los Estados Unidos.*\n",
        "\n",
        "\n",
        "\n",
        "Las acciones de [Ecopetrol](www.ecopetrol.com.co) se pueden consultar en [EC-Yahoo! Finance](https://finance.yahoo.com/quote/EC?p=EC&.tsrc=fin-srch), y pertenecen a la primera compañía de petróleo de Colombia, antiguamente llamada Empresa Colombiana de Petróleos S.A.Es la cuarta empresa petrolera más grande de Latinoamérica.\n",
        "\n",
        "Las acciones de [Avianca S.A](www.avianca.com) se pueden consultar en [AVH-Yahoo! Finance](https://finance.yahoo.com/quote/AVH?p=AVH&.tsrc=fin-srch), y pertenecen a Aerovías del Continente Americano, anteriormente Aerovías Nacionales de Colombia. Es la mayor aerolínea de Colombia. Fundada en 1919 con el nombre de SCADTA, es mundialmente la segunda aerolínea más antigua después de la KLM que fue fundada 58 días antes y la más antigua del mundo con operaciones ininterrumpidas.\n",
        "\n",
        "Las acciones del [Grupo Aval](www.grupoaval.com) se pueden consultar en [AVA-Yahoo! Finance](https://finance.yahoo.com/quote/AVAL?p=AVAL&.tsrc=fin-srch), corresponden a las acciones del Grupo Acciones y Valores S.A, un n conglomerado empresarial colombiano dedicado a una amplia variedad de actividades, principalmente financieras. El Grupo AVAL es controlado por Luis Carlos Sarmiento Angulo.\n",
        "\n",
        "Una vez descargados son agregados a un repositorio de Github y posteriormente cargados en nuestro entorno de trabajo:\n",
        "\n",
        "\n",
        "*   [EC](https://github.com/NicoPatalagua/BigData/blob/master/EC.csv)\n",
        "*   [AVH](https://github.com/NicoPatalagua/BigData/blob/master/AVH.csv)\n",
        "*   [AVA](https://github.com/NicoPatalagua/BigData/blob/master/AVA.csv)\n",
        "\n"
      ]
    },
    {
      "cell_type": "code",
      "metadata": {
        "id": "1k4mbxWJUT1L",
        "colab_type": "code",
        "colab": {}
      },
      "source": [
        "#Asignamos el dataset (CSV) a una variable\n",
        "ObjEC = sp.read.option(\"inferSchema\",\"true\").csv(\"/content/EC.csv\",header=True)\n",
        "ObjAVH = sp.read.option(\"inferSchema\",\"true\").csv(\"/content/AVH.csv\",header=True)\n",
        "ObjAVA = sp.read.option(\"inferSchema\",\"true\").csv(\"/content/AVA.csv\",header=True)"
      ],
      "execution_count": 0,
      "outputs": []
    },
    {
      "cell_type": "markdown",
      "metadata": {
        "id": "J1TSjm9TbbY-",
        "colab_type": "text"
      },
      "source": [
        "Imprimir cada uno de los dataset:"
      ]
    },
    {
      "cell_type": "code",
      "metadata": {
        "id": "dM6qsu4fbYNW",
        "colab_type": "code",
        "colab": {
          "base_uri": "https://localhost:8080/",
          "height": 34
        },
        "outputId": "b426f2aa-7b16-4026-e780-f6e55f0af001"
      },
      "source": [
        "ObjEC"
      ],
      "execution_count": 81,
      "outputs": [
        {
          "output_type": "execute_result",
          "data": {
            "text/plain": [
              "DataFrame[Date: timestamp, Open: double, High: double, Low: double, Close: double, Adj Close: double, Volume: int]"
            ]
          },
          "metadata": {
            "tags": []
          },
          "execution_count": 81
        }
      ]
    },
    {
      "cell_type": "code",
      "metadata": {
        "id": "8MjeHRhtbgb3",
        "colab_type": "code",
        "colab": {
          "base_uri": "https://localhost:8080/",
          "height": 34
        },
        "outputId": "1c190e56-477a-4679-9549-0d537722d84a"
      },
      "source": [
        "ObjAVH"
      ],
      "execution_count": 82,
      "outputs": [
        {
          "output_type": "execute_result",
          "data": {
            "text/plain": [
              "DataFrame[Date: timestamp, Open: double, High: double, Low: double, Close: double, Adj Close: double, Volume: int]"
            ]
          },
          "metadata": {
            "tags": []
          },
          "execution_count": 82
        }
      ]
    },
    {
      "cell_type": "code",
      "metadata": {
        "id": "1Ou6M9ogbjBV",
        "colab_type": "code",
        "colab": {
          "base_uri": "https://localhost:8080/",
          "height": 34
        },
        "outputId": "5bb1ded6-ca07-4f41-d2c8-6de2a631ef53"
      },
      "source": [
        "ObjAVA"
      ],
      "execution_count": 83,
      "outputs": [
        {
          "output_type": "execute_result",
          "data": {
            "text/plain": [
              "DataFrame[Date: timestamp, Open: double, High: double, Low: double, Close: double, Adj Close: double, Volume: int]"
            ]
          },
          "metadata": {
            "tags": []
          },
          "execution_count": 83
        }
      ]
    },
    {
      "cell_type": "markdown",
      "metadata": {
        "id": "e8RQSsHyaTlP",
        "colab_type": "text"
      },
      "source": [
        "El resultado que nos envia, significa que los dataset no estan corectamente esquematizados y se debe eparar la fecha por año, mes y día.\n",
        "\n",
        "Por tanto se debe realizar un ajuste de esquema a cada uno de los dataset. \n",
        "\n",
        "Para EC:"
      ]
    },
    {
      "cell_type": "code",
      "metadata": {
        "id": "rDPLBCSNaPTy",
        "colab_type": "code",
        "colab": {}
      },
      "source": [
        "ObjSplt= F.split(ObjEC['Date'], '-')\n",
        "ObjEC = ObjEC.withColumn('Year', ObjSplt.getItem(0))\n",
        "ObjEC = ObjEC.withColumn('Month', ObjSplt.getItem(1))\n",
        "ObjEC = ObjEC.withColumn('Day', ObjSplt.getItem(2))"
      ],
      "execution_count": 0,
      "outputs": []
    },
    {
      "cell_type": "markdown",
      "metadata": {
        "id": "eDSxhDYBc7fB",
        "colab_type": "text"
      },
      "source": [
        "Verificamos que el Esquema se modificó:"
      ]
    },
    {
      "cell_type": "code",
      "metadata": {
        "id": "xAXX-PLlcVWb",
        "colab_type": "code",
        "colab": {
          "base_uri": "https://localhost:8080/",
          "height": 225
        },
        "outputId": "49150d0a-8557-4288-90eb-2fc44b7fedc5"
      },
      "source": [
        "ObjEC.printSchema()"
      ],
      "execution_count": 100,
      "outputs": [
        {
          "output_type": "stream",
          "text": [
            "root\n",
            " |-- Date: timestamp (nullable = true)\n",
            " |-- Open: double (nullable = true)\n",
            " |-- High: double (nullable = true)\n",
            " |-- Low: double (nullable = true)\n",
            " |-- Close: double (nullable = true)\n",
            " |-- Adj Close: double (nullable = true)\n",
            " |-- Volume: integer (nullable = true)\n",
            " |-- Year: string (nullable = true)\n",
            " |-- Month: string (nullable = true)\n",
            " |-- Day: string (nullable = true)\n",
            "\n"
          ],
          "name": "stdout"
        }
      ]
    },
    {
      "cell_type": "markdown",
      "metadata": {
        "id": "Mh-xkW6OdX0s",
        "colab_type": "text"
      },
      "source": [
        "Efectivamente la fecha se dividio en año, mes y día.\n",
        "\n",
        "\n",
        "Para AVH:"
      ]
    },
    {
      "cell_type": "code",
      "metadata": {
        "id": "Sr3xyk9vfZi_",
        "colab_type": "code",
        "colab": {}
      },
      "source": [
        "ObjSplt= F.split(ObjAVH['Date'], '-')\n",
        "ObjAVH = ObjAVH.withColumn('Year', ObjSplt.getItem(0))\n",
        "ObjAVH = ObjAVH.withColumn('Month', ObjSplt.getItem(1))\n",
        "ObjAVH = ObjAVH.withColumn('Day', ObjSplt.getItem(2))"
      ],
      "execution_count": 0,
      "outputs": []
    },
    {
      "cell_type": "markdown",
      "metadata": {
        "id": "GaVswJa7ddky",
        "colab_type": "text"
      },
      "source": [
        "Verificamos que el Esquema se modificó:"
      ]
    },
    {
      "cell_type": "code",
      "metadata": {
        "id": "GNo8PYbYflTU",
        "colab_type": "code",
        "colab": {
          "base_uri": "https://localhost:8080/",
          "height": 225
        },
        "outputId": "626c36a5-f8a0-4e99-934a-39fa99cd3603"
      },
      "source": [
        "ObjAVH.printSchema()"
      ],
      "execution_count": 106,
      "outputs": [
        {
          "output_type": "stream",
          "text": [
            "root\n",
            " |-- Date: timestamp (nullable = true)\n",
            " |-- Open: double (nullable = true)\n",
            " |-- High: double (nullable = true)\n",
            " |-- Low: double (nullable = true)\n",
            " |-- Close: double (nullable = true)\n",
            " |-- Adj Close: double (nullable = true)\n",
            " |-- Volume: integer (nullable = true)\n",
            " |-- Year: string (nullable = true)\n",
            " |-- Month: string (nullable = true)\n",
            " |-- Day: string (nullable = true)\n",
            "\n"
          ],
          "name": "stdout"
        }
      ]
    },
    {
      "cell_type": "markdown",
      "metadata": {
        "id": "LpzYRWiKaoJc",
        "colab_type": "text"
      },
      "source": [
        "Efectivamente la fecha se dividio en año, mes y día.\n",
        "\n",
        "Para AVA:"
      ]
    },
    {
      "cell_type": "code",
      "metadata": {
        "id": "voj2xi-Matcd",
        "colab_type": "code",
        "colab": {}
      },
      "source": [
        "ObjSplt= F.split(ObjAVA['Date'], '-')\n",
        "ObjAVA = ObjAVA.withColumn('Year', ObjSplt.getItem(0))\n",
        "ObjAVA = ObjAVA.withColumn('Month', ObjSplt.getItem(1))\n",
        "ObjAVA = ObjAVA.withColumn('Day', ObjSplt.getItem(2))"
      ],
      "execution_count": 0,
      "outputs": []
    },
    {
      "cell_type": "markdown",
      "metadata": {
        "id": "eDheNZyGdegy",
        "colab_type": "text"
      },
      "source": [
        "Verificamos que el Esquema se modificó:"
      ]
    },
    {
      "cell_type": "code",
      "metadata": {
        "id": "TH_0qtgMdfBw",
        "colab_type": "code",
        "colab": {
          "base_uri": "https://localhost:8080/",
          "height": 225
        },
        "outputId": "b3ef461c-1c7b-43ab-b7f5-c330bdd16c77"
      },
      "source": [
        "ObjAVA.printSchema()"
      ],
      "execution_count": 108,
      "outputs": [
        {
          "output_type": "stream",
          "text": [
            "root\n",
            " |-- Date: timestamp (nullable = true)\n",
            " |-- Open: double (nullable = true)\n",
            " |-- High: double (nullable = true)\n",
            " |-- Low: double (nullable = true)\n",
            " |-- Close: double (nullable = true)\n",
            " |-- Adj Close: double (nullable = true)\n",
            " |-- Volume: integer (nullable = true)\n",
            " |-- Year: string (nullable = true)\n",
            " |-- Month: string (nullable = true)\n",
            " |-- Day: string (nullable = true)\n",
            "\n"
          ],
          "name": "stdout"
        }
      ]
    },
    {
      "cell_type": "markdown",
      "metadata": {
        "id": "nDMUQbCBS_2E",
        "colab_type": "text"
      },
      "source": [
        "Efectivamente la fecha se dividio en año, mes y día.\n",
        "\n",
        "**2.Porcentaje de retorno diaro.**\n",
        "\n",
        "Para EC:\n"
      ]
    },
    {
      "cell_type": "code",
      "metadata": {
        "id": "zzVeVLvHhc6O",
        "colab_type": "code",
        "colab": {
          "base_uri": "https://localhost:8080/",
          "height": 990
        },
        "outputId": "e94fd414-8f43-4dc3-b5b9-2d41ddb67240"
      },
      "source": [
        "ObjOpen = ObjEC.groupby('Year','Month','Day').agg(F.sum('Open').alias('Open'))\n",
        "ObjClose = ObjEC.groupby('Year','Month','Day').agg(F.sum('Close').alias('Close'))\n",
        "ObjJoin = ObjOpen.join(ObjClose, ['Year','Month','Day'])\n",
        "ObjPRDEC = ObjJoin.withColumn('PRD ECOPETROL', (((ObjJoin['Close'] - ObjJoin['Open']) / ObjJoin['Open'] )* 100))\n",
        "ObjPRDEC.orderBy('Year','Month','Day').show(50)"
      ],
      "execution_count": 163,
      "outputs": [
        {
          "output_type": "stream",
          "text": [
            "+----+-----+-----------+---------+---------+--------------------+\n",
            "|Year|Month|        Day|     Open|    Close|       PRD ECOPETROL|\n",
            "+----+-----+-----------+---------+---------+--------------------+\n",
            "|2018|   09|24 00:00:00|25.120001|    26.01|  3.5429895086389656|\n",
            "|2018|   09|25 00:00:00|26.209999|    26.32|  0.4196909736623815|\n",
            "|2018|   09|26 00:00:00|26.139999|26.219999|  0.3060443881424856|\n",
            "|2018|   09|27 00:00:00|    26.41|26.610001|  0.7572926921620611|\n",
            "|2018|   09|28 00:00:00|26.459999|    26.93|   1.776269908400223|\n",
            "|2018|   10|01 00:00:00|    27.16|    27.65|  1.8041237113402004|\n",
            "|2018|   10|02 00:00:00|    27.65|27.139999| -1.8444882459312806|\n",
            "|2018|   10|03 00:00:00|27.280001|    27.58|  1.0997030388671896|\n",
            "|2018|   10|04 00:00:00|     27.5|26.860001|  -2.327269090909089|\n",
            "|2018|   10|05 00:00:00|26.809999|    26.66| -0.5594890175117168|\n",
            "|2018|   10|08 00:00:00|    26.34|    26.24|-0.37965072133637595|\n",
            "|2018|   10|09 00:00:00|    26.34|    26.74|  1.5186028853454767|\n",
            "|2018|   10|10 00:00:00|    26.73|25.690001|  -3.890755705200156|\n",
            "|2018|   10|11 00:00:00|25.309999|    25.15| -0.6321572750753671|\n",
            "|2018|   10|12 00:00:00|25.549999|     25.5|-0.19569081000746685|\n",
            "|2018|   10|15 00:00:00|    25.67|    24.73|  -3.661862095831715|\n",
            "|2018|   10|16 00:00:00|24.790001|25.719999|  3.7515044876359678|\n",
            "|2018|   10|17 00:00:00|25.610001|25.879999|  1.0542678229493279|\n",
            "|2018|   10|18 00:00:00|     25.5|    25.35| -0.5882352941176415|\n",
            "|2018|   10|19 00:00:00|25.559999|    25.59| 0.11737480897396987|\n",
            "|2018|   10|22 00:00:00|    25.91|25.799999| -0.4245503666538034|\n",
            "|2018|   10|23 00:00:00|25.110001|    24.74| -1.4735204510744624|\n",
            "|2018|   10|24 00:00:00|     25.0|    23.24|  -7.040000000000006|\n",
            "|2018|   10|25 00:00:00|23.639999|    23.52| -0.5076100045520305|\n",
            "|2018|   10|26 00:00:00|23.120001|    23.59|   2.032867559132032|\n",
            "|2018|   10|29 00:00:00|23.719999|23.110001|  -2.571661153948619|\n",
            "|2018|   10|30 00:00:00|23.030001|23.450001|   1.823708127498569|\n",
            "|2018|   10|31 00:00:00|23.719999|    23.26| -1.9392876028367447|\n",
            "|2018|   11|01 00:00:00|    23.32|    21.83|  -6.389365351629511|\n",
            "|2018|   11|02 00:00:00|    21.98|21.559999|   -1.91083257506824|\n",
            "|2018|   11|05 00:00:00|21.860001|22.190001|   1.509606518316254|\n",
            "|2018|   11|06 00:00:00|    22.33|    21.85| -2.1495745633676533|\n",
            "|2018|   11|07 00:00:00|22.280001|22.360001|  0.3590664111729701|\n",
            "|2018|   11|08 00:00:00|22.389999|    21.67|  -3.215716981496952|\n",
            "|2018|   11|09 00:00:00|    21.25|21.959999|   3.341171764705882|\n",
            "|2018|   11|12 00:00:00|    22.17|21.219999|  -4.285074424898513|\n",
            "|2018|   11|13 00:00:00|21.110001|    20.18| -4.4054995544528905|\n",
            "|2018|   11|14 00:00:00|20.639999|    20.41|  -1.114336294299236|\n",
            "|2018|   11|15 00:00:00|20.309999|20.629999|  1.5755786103189875|\n",
            "|2018|   11|16 00:00:00|    20.75|20.620001| -0.6265012048192845|\n",
            "|2018|   11|19 00:00:00|20.290001|    20.08|  -1.034997484721671|\n",
            "|2018|   11|20 00:00:00|    19.75|19.190001| -2.8354379746835505|\n",
            "|2018|   11|21 00:00:00|19.440001|19.719999|  1.4403188559506899|\n",
            "|2018|   11|23 00:00:00|    18.83|18.690001| -0.7434891131173635|\n",
            "|2018|   11|26 00:00:00|    19.01|18.860001| -0.7890531299316207|\n",
            "|2018|   11|27 00:00:00|    18.84|    19.15|  1.6454352441613522|\n",
            "|2018|   11|28 00:00:00|    19.09|    18.98| -0.5762179151388132|\n",
            "|2018|   11|29 00:00:00|19.040001|    19.17|  0.6827678212832107|\n",
            "|2018|   11|30 00:00:00|19.049999|19.209999|  0.8398950572123398|\n",
            "|2018|   12|03 00:00:00|19.889999|20.459999|  2.8657618333716375|\n",
            "+----+-----+-----------+---------+---------+--------------------+\n",
            "only showing top 50 rows\n",
            "\n"
          ],
          "name": "stdout"
        }
      ]
    },
    {
      "cell_type": "markdown",
      "metadata": {
        "id": "dSPxROF9hEvz",
        "colab_type": "text"
      },
      "source": [
        "Para AVH:"
      ]
    },
    {
      "cell_type": "code",
      "metadata": {
        "id": "SOKzylFPnUIR",
        "colab_type": "code",
        "colab": {
          "base_uri": "https://localhost:8080/",
          "height": 990
        },
        "outputId": "594dd47c-dfc8-4853-89ae-795cbd3a4210"
      },
      "source": [
        "ObjOpen = ObjAVH.groupby('Year','Month','Day').agg(F.sum('Open').alias('Open'))\n",
        "ObjClose = ObjAVH.groupby('Year','Month','Day').agg(F.sum('Close').alias('Close'))\n",
        "ObjJoin = ObjOpen.join(ObjClose, ['Year','Month','Day'])\n",
        "ObjPRDAVH = ObjJoin.withColumn('PRD AVIANCA', (((ObjJoin['Close'] - ObjJoin['Open']) / ObjJoin['Open'] )* 100))\n",
        "ObjPRDAVH.orderBy('Year','Month','Day').show(50)"
      ],
      "execution_count": 164,
      "outputs": [
        {
          "output_type": "stream",
          "text": [
            "+----+-----+-----------+----+-----+--------------------+\n",
            "|Year|Month|        Day|Open|Close|         PRD AVIANCA|\n",
            "+----+-----+-----------+----+-----+--------------------+\n",
            "|2018|   09|24 00:00:00|5.77| 5.72| -0.8665511265164615|\n",
            "|2018|   09|25 00:00:00|5.74|  5.7| -0.6968641114982584|\n",
            "|2018|   09|26 00:00:00|5.67|  5.6|  -1.234567901234573|\n",
            "|2018|   09|27 00:00:00| 5.6| 5.69|  1.6071428571428705|\n",
            "|2018|   09|28 00:00:00| 5.7| 5.62| -1.4035087719298258|\n",
            "|2018|   10|01 00:00:00|5.63| 5.61| -0.3552397868561203|\n",
            "|2018|   10|02 00:00:00| 5.6| 5.48|  -2.142857142857129|\n",
            "|2018|   10|03 00:00:00|5.48| 5.66|  3.2846715328467098|\n",
            "|2018|   10|04 00:00:00|5.62| 5.69|  1.2455516014234926|\n",
            "|2018|   10|05 00:00:00|5.67| 5.61| -1.0582010582010515|\n",
            "|2018|   10|08 00:00:00|5.61| 5.71|  1.7825311942958937|\n",
            "|2018|   10|09 00:00:00|5.73| 5.73|                 0.0|\n",
            "|2018|   10|10 00:00:00|5.75|  5.5| -4.3478260869565215|\n",
            "|2018|   10|11 00:00:00|5.42| 5.32| -1.8450184501844953|\n",
            "|2018|   10|12 00:00:00|5.36| 5.36|                 0.0|\n",
            "|2018|   10|15 00:00:00|5.34|  5.4|   1.123595505617987|\n",
            "|2018|   10|16 00:00:00|5.46| 5.64|   3.296703296703291|\n",
            "|2018|   10|17 00:00:00|5.69| 5.55| -2.4604569420035247|\n",
            "|2018|   10|18 00:00:00| 5.5| 5.44|  -1.090909090909084|\n",
            "|2018|   10|19 00:00:00|5.42| 5.45|  0.5535055350553552|\n",
            "|2018|   10|22 00:00:00| 5.5| 5.43|  -1.272727272727278|\n",
            "|2018|   10|23 00:00:00|5.35|  5.4|  0.9345794392523498|\n",
            "|2018|   10|24 00:00:00|5.41| 5.28| -2.4029574861367817|\n",
            "|2018|   10|25 00:00:00|5.26| 5.32|  1.1406844106463974|\n",
            "|2018|   10|26 00:00:00|5.25| 5.26|  0.1904761904761864|\n",
            "|2018|   10|29 00:00:00|5.26| 5.15| -2.0912547528517003|\n",
            "|2018|   10|30 00:00:00|5.13| 5.14| 0.19493177387913815|\n",
            "|2018|   10|31 00:00:00|5.17| 5.01|  -3.094777562862672|\n",
            "|2018|   11|01 00:00:00| 5.0| 5.14|  2.7999999999999936|\n",
            "|2018|   11|02 00:00:00|5.12| 5.28|  3.1250000000000027|\n",
            "|2018|   11|05 00:00:00|5.47|  5.4|  -1.279707495429605|\n",
            "|2018|   11|06 00:00:00|5.38| 5.51|  2.4163568773234183|\n",
            "|2018|   11|07 00:00:00|5.51| 5.42| -1.6333938294010864|\n",
            "|2018|   11|08 00:00:00|5.39| 5.34| -0.9276437847866387|\n",
            "|2018|   11|09 00:00:00|5.35| 5.31| -0.7476635514018699|\n",
            "|2018|   11|12 00:00:00| 5.3|  5.2|  -1.886792452830182|\n",
            "|2018|   11|13 00:00:00|5.19|  5.2| 0.19267822736030416|\n",
            "|2018|   11|14 00:00:00|5.32| 5.23| -1.6917293233082678|\n",
            "|2018|   11|15 00:00:00|5.19| 5.25|   1.156069364161842|\n",
            "|2018|   11|16 00:00:00|5.28| 5.31|   0.568181818181806|\n",
            "|2018|   11|19 00:00:00| 5.3| 5.28| -0.3773584905660297|\n",
            "|2018|   11|20 00:00:00|5.26| 5.14|  -2.281368821292778|\n",
            "|2018|   11|21 00:00:00|5.17|  5.1| -1.3539651837524234|\n",
            "|2018|   11|23 00:00:00|5.02|  5.0|-0.39840637450198363|\n",
            "|2018|   11|26 00:00:00| 5.0| 4.83|  -3.399999999999999|\n",
            "|2018|   11|27 00:00:00|4.85| 4.73| -2.4742268041236954|\n",
            "|2018|   11|28 00:00:00|4.72| 4.71| -0.2118644067796565|\n",
            "|2018|   11|29 00:00:00| 4.8| 4.75|  -1.041666666666663|\n",
            "|2018|   11|30 00:00:00|4.75| 5.05|   6.315789473684206|\n",
            "|2018|   12|03 00:00:00| 5.3| 5.44|   2.641509433962275|\n",
            "+----+-----+-----------+----+-----+--------------------+\n",
            "only showing top 50 rows\n",
            "\n"
          ],
          "name": "stdout"
        }
      ]
    },
    {
      "cell_type": "markdown",
      "metadata": {
        "id": "uzT-t_OehHdN",
        "colab_type": "text"
      },
      "source": [
        "Para AVA:"
      ]
    },
    {
      "cell_type": "code",
      "metadata": {
        "id": "uFCsq9jznpB4",
        "colab_type": "code",
        "colab": {
          "base_uri": "https://localhost:8080/",
          "height": 990
        },
        "outputId": "8a13716e-d552-4d62-8f45-b506103bf14b"
      },
      "source": [
        "ObjOpen = ObjAVA.groupby('Year','Month','Day').agg(F.sum('Open').alias('Open'))\n",
        "ObjClose = ObjAVA.groupby('Year','Month','Day').agg(F.sum('Close').alias('Close'))\n",
        "ObjJoin = ObjOpen.join(ObjClose, ['Year','Month','Day'])\n",
        "ObjPRDAVA = ObjJoin.withColumn('PRD GRUPO AVAL', (((ObjJoin['Close'] - ObjJoin['Open']) / ObjJoin['Open'] )* 100))\n",
        "ObjPRDAVA.orderBy('Year','Month','Day').show(50)"
      ],
      "execution_count": 165,
      "outputs": [
        {
          "output_type": "stream",
          "text": [
            "+----+-----+-----------+---------+---------+--------------------+\n",
            "|Year|Month|        Day|     Open|    Close|      PRD GRUPO AVAL|\n",
            "+----+-----+-----------+---------+---------+--------------------+\n",
            "|2018|   09|24 00:00:00|50.459999|50.439999|-0.03963535552191177|\n",
            "|2018|   09|25 00:00:00|50.400002|    50.59|  0.3769801437706347|\n",
            "|2018|   09|26 00:00:00|50.619999|50.389999|-0.45436587227114894|\n",
            "|2018|   09|27 00:00:00|50.529999|50.419998|-0.21769444325537574|\n",
            "|2018|   09|28 00:00:00|50.549999|50.560001| 0.01978635053978946|\n",
            "|2018|   10|01 00:00:00|50.560001|    50.41|-0.29667918717011726|\n",
            "|2018|   10|02 00:00:00|50.400002|50.599998|  0.3968174445707338|\n",
            "|2018|   10|03 00:00:00|50.610001|    50.48|-0.25686820278861494|\n",
            "|2018|   10|04 00:00:00|    50.34|50.130001|-0.41716130313866384|\n",
            "|2018|   10|05 00:00:00|50.549999|51.189999|  1.2660732199025377|\n",
            "|2018|   10|08 00:00:00|    51.27|    51.25|-0.03900916715428735|\n",
            "|2018|   10|09 00:00:00|    51.25|    51.27| 0.03902439024390854|\n",
            "|2018|   10|10 00:00:00|    51.25|51.060001| -0.3707297560975614|\n",
            "|2018|   10|11 00:00:00|51.099998|50.880001|-0.43052252174256317|\n",
            "|2018|   10|12 00:00:00|    50.93|50.779999| -0.2945238562733225|\n",
            "|2018|   10|15 00:00:00|    50.73|50.970001|  0.4730948156909257|\n",
            "|2018|   10|16 00:00:00|50.900002|51.119999|  0.4322141284002294|\n",
            "|2018|   10|17 00:00:00|51.009998|     51.0|-0.01960007918448...|\n",
            "|2018|   10|18 00:00:00|    50.93|    51.09|  0.3141566856469737|\n",
            "|2018|   10|19 00:00:00|51.080002|    51.84|  1.4878582032945165|\n",
            "|2018|   10|22 00:00:00|51.799999|51.860001| 0.11583397907014867|\n",
            "|2018|   10|23 00:00:00|51.849998|51.599998|-0.48216009574388025|\n",
            "|2018|   10|24 00:00:00|    51.66|51.380001| -0.5420034843205509|\n",
            "|2018|   10|25 00:00:00|51.299999|51.459999|  0.3118908442863784|\n",
            "|2018|   10|26 00:00:00|51.599998|    51.48| -0.2325542725796278|\n",
            "|2018|   10|29 00:00:00|51.549999|51.669998| 0.23278176979208082|\n",
            "|2018|   10|30 00:00:00|    51.75|    51.77|0.038647342995175124|\n",
            "|2018|   10|31 00:00:00|    51.75|51.419998|   -0.63768502415459|\n",
            "|2018|   11|01 00:00:00|51.529999|52.220001|  1.3390297174273318|\n",
            "|2018|   11|02 00:00:00|    52.32|    52.25|-0.13379204892966415|\n",
            "|2018|   11|05 00:00:00|    52.27|52.029999|-0.45915630380716765|\n",
            "|2018|   11|06 00:00:00|52.049999|     52.0|-0.09605955996271909|\n",
            "|2018|   11|07 00:00:00|51.900002|52.279999|  0.7321714554076432|\n",
            "|2018|   11|08 00:00:00|    52.23|    52.43| 0.38292169251388636|\n",
            "|2018|   11|09 00:00:00|    52.43|52.580002| 0.28609956131985625|\n",
            "|2018|   11|12 00:00:00|52.700001|52.400002| -0.5692580537142679|\n",
            "|2018|   11|13 00:00:00|52.400002|    52.32|-0.15267556669177293|\n",
            "|2018|   11|14 00:00:00|52.389999|52.310001|-0.15269708250997166|\n",
            "|2018|   11|15 00:00:00|    52.25|52.389999| 0.26794066985646525|\n",
            "|2018|   11|16 00:00:00|52.650002|52.299999| -0.6647730041871622|\n",
            "|2018|   11|19 00:00:00|52.360001|52.400002| 0.07639610243705634|\n",
            "|2018|   11|20 00:00:00|    52.41|    52.43|0.038160656363295416|\n",
            "|2018|   11|21 00:00:00|    52.43|52.419998|-0.01907686439061...|\n",
            "|2018|   11|23 00:00:00|52.349998|52.400002|  0.0955186282910675|\n",
            "|2018|   11|26 00:00:00|    52.43|52.349998|-0.15258821285523622|\n",
            "|2018|   11|27 00:00:00|52.380001|52.419998| 0.07635929598397605|\n",
            "|2018|   11|28 00:00:00|52.400002|52.439999| 0.07633014975839049|\n",
            "|2018|   11|29 00:00:00|52.200001|52.099998|-0.19157662468244196|\n",
            "|2018|   11|30 00:00:00|    52.18|    52.02| -0.3066308930624695|\n",
            "|2018|   12|03 00:00:00|52.009998|51.419998| -1.1343972749239548|\n",
            "+----+-----+-----------+---------+---------+--------------------+\n",
            "only showing top 50 rows\n",
            "\n"
          ],
          "name": "stdout"
        }
      ]
    },
    {
      "cell_type": "markdown",
      "metadata": {
        "id": "lGNSTeAATLM4",
        "colab_type": "text"
      },
      "source": [
        "**3.Porcentaje de retorno Mensual.**\n",
        "\n",
        "Para EC:\n"
      ]
    },
    {
      "cell_type": "code",
      "metadata": {
        "id": "_W355dYipCYQ",
        "colab_type": "code",
        "colab": {
          "base_uri": "https://localhost:8080/",
          "height": 330
        },
        "outputId": "f2f531e3-f6e4-4d20-daaa-fcaf31690746"
      },
      "source": [
        "ObjPRMEC= ObjPRDEC.groupby('Year','Month').agg(F.avg('PRD ECOPETROL').alias('PRM ECOPETROL'))\n",
        "ObjPRMEC=ObjPRMEC.orderBy('Year','Month')\n",
        "ObjPRMEC.show()"
      ],
      "execution_count": 175,
      "outputs": [
        {
          "output_type": "stream",
          "text": [
            "+----+-----+--------------------+\n",
            "|Year|Month|       PRM ECOPETROL|\n",
            "+----+-----+--------------------+\n",
            "|2018|   09|  1.3604574942012235|\n",
            "|2018|   10| -0.6449597997062496|\n",
            "|2018|   11| -0.8896312516430294|\n",
            "|2018|   12| -0.9766423294363785|\n",
            "|2019|   01|  0.8345324145987951|\n",
            "|2019|   02| 0.35187492019506605|\n",
            "|2019|   03| 0.23044138448293458|\n",
            "|2019|   04|  -0.713712232460116|\n",
            "|2019|   05|  -0.081363679607359|\n",
            "|2019|   06| 0.17839549977884622|\n",
            "|2019|   07|-0.30583588648860416|\n",
            "|2019|   08|-0.37583497541655986|\n",
            "|2019|   09| 0.36662064695531954|\n",
            "+----+-----+--------------------+\n",
            "\n"
          ],
          "name": "stdout"
        }
      ]
    },
    {
      "cell_type": "markdown",
      "metadata": {
        "id": "2FIAwWIeqFj-",
        "colab_type": "text"
      },
      "source": [
        "Para AVH:"
      ]
    },
    {
      "cell_type": "code",
      "metadata": {
        "id": "uRyHjZVzqKiq",
        "colab_type": "code",
        "colab": {
          "base_uri": "https://localhost:8080/",
          "height": 330
        },
        "outputId": "a4afa1b2-8797-4251-c703-739c5ca8593b"
      },
      "source": [
        "ObjPRMAVH= ObjPRDAVH.groupby('Year','Month').agg(F.avg('PRD AVIANCA').alias('PRM AVIANCA'))\n",
        "ObjPRMAVH=ObjPRMAVH.orderBy('Year','Month')\n",
        "ObjPRMAVH.show()"
      ],
      "execution_count": 176,
      "outputs": [
        {
          "output_type": "stream",
          "text": [
            "+----+-----+--------------------+\n",
            "|Year|Month|         PRM AVIANCA|\n",
            "+----+-----+--------------------+\n",
            "|2018|   09| -0.5188698108072496|\n",
            "|2018|   10| -0.3658693544499807|\n",
            "|2018|   11|-0.14912911543472887|\n",
            "|2018|   12| -1.3011778973839219|\n",
            "|2019|   01|  0.5716433302845226|\n",
            "|2019|   02|-0.35210257785344323|\n",
            "|2019|   03| -0.8737195524510399|\n",
            "|2019|   04| -0.5850313008407249|\n",
            "|2019|   05| 0.17274173243499125|\n",
            "|2019|   06|  0.3330837786005799|\n",
            "|2019|   07|  0.5473780887446394|\n",
            "|2019|   08| -1.8596725468647934|\n",
            "|2019|   09|  0.9843850485986011|\n",
            "+----+-----+--------------------+\n",
            "\n"
          ],
          "name": "stdout"
        }
      ]
    },
    {
      "cell_type": "markdown",
      "metadata": {
        "id": "2ZkvnSbDqHNr",
        "colab_type": "text"
      },
      "source": [
        "Para AVA:"
      ]
    },
    {
      "cell_type": "code",
      "metadata": {
        "id": "RgE8rji7qLB1",
        "colab_type": "code",
        "colab": {
          "base_uri": "https://localhost:8080/",
          "height": 330
        },
        "outputId": "35cc5e73-d834-4b49-dfac-2c11be519e07"
      },
      "source": [
        "ObjPRMAVA= ObjPRDAVA.groupby('Year','Month').agg(F.avg('PRD GRUPO AVAL').alias('PRM GRUPO AVAL'))\n",
        "ObjPRMAVA=ObjPRMAVA.orderBy('Year','Month')\n",
        "ObjPRMAVA.show()"
      ],
      "execution_count": 177,
      "outputs": [
        {
          "output_type": "stream",
          "text": [
            "+----+-----+--------------------+\n",
            "|Year|Month|      PRM GRUPO AVAL|\n",
            "+----+-----+--------------------+\n",
            "|2018|   09|-0.06298583534760246|\n",
            "|2018|   10|0.047343298849797655|\n",
            "|2018|   11|0.022506843550737104|\n",
            "|2018|   12|-0.35003723144228255|\n",
            "|2019|   01|-0.04241029085526...|\n",
            "|2019|   02|-0.03692076578349763|\n",
            "|2019|   03|-0.02737067258607...|\n",
            "|2019|   04|  0.2682942266447532|\n",
            "|2019|   05|-0.06407148498604325|\n",
            "|2019|   06| 0.28422729112121803|\n",
            "|2019|   07| 0.11565505505324412|\n",
            "|2019|   08| 0.06892819257512892|\n",
            "|2019|   09| 0.16912663241720144|\n",
            "+----+-----+--------------------+\n",
            "\n"
          ],
          "name": "stdout"
        }
      ]
    },
    {
      "cell_type": "markdown",
      "metadata": {
        "id": "BxT2ZPqlTNPB",
        "colab_type": "text"
      },
      "source": [
        "**4.Mes con mayor porcentaje de retorno.**\n"
      ]
    },
    {
      "cell_type": "markdown",
      "metadata": {
        "id": "SQ9whL2Mr9XU",
        "colab_type": "text"
      },
      "source": [
        "Para EC:"
      ]
    },
    {
      "cell_type": "code",
      "metadata": {
        "id": "v0kzovA4r8kl",
        "colab_type": "code",
        "colab": {}
      },
      "source": [
        ""
      ],
      "execution_count": 0,
      "outputs": []
    },
    {
      "cell_type": "markdown",
      "metadata": {
        "id": "Sud27tHCsBpT",
        "colab_type": "text"
      },
      "source": [
        "Para AVH:"
      ]
    },
    {
      "cell_type": "code",
      "metadata": {
        "id": "esAD3YwArrQ8",
        "colab_type": "code",
        "colab": {}
      },
      "source": [
        ""
      ],
      "execution_count": 0,
      "outputs": []
    },
    {
      "cell_type": "markdown",
      "metadata": {
        "id": "f-nRjkS7sDti",
        "colab_type": "text"
      },
      "source": [
        "Para AVA:"
      ]
    },
    {
      "cell_type": "code",
      "metadata": {
        "id": "z52xSlIrsFn4",
        "colab_type": "code",
        "colab": {}
      },
      "source": [
        ""
      ],
      "execution_count": 0,
      "outputs": []
    },
    {
      "cell_type": "markdown",
      "metadata": {
        "id": "2lS7MixwTNHd",
        "colab_type": "text"
      },
      "source": [
        "**5.Hallar y gráficar la media móvil de 20 dias para Ecopetrol.**\n"
      ]
    },
    {
      "cell_type": "markdown",
      "metadata": {
        "id": "gR200lN1sGbT",
        "colab_type": "text"
      },
      "source": [
        "La grafica se obtine con el siguiente código:"
      ]
    },
    {
      "cell_type": "code",
      "metadata": {
        "id": "Dsd4lmV8rrsC",
        "colab_type": "code",
        "colab": {}
      },
      "source": [
        ""
      ],
      "execution_count": 0,
      "outputs": []
    },
    {
      "cell_type": "markdown",
      "metadata": {
        "id": "goEAvAshTNBJ",
        "colab_type": "text"
      },
      "source": [
        "**6.Graficar comportamiento del precio de cierre para las 3 acciones a lo largo del año.**\n"
      ]
    },
    {
      "cell_type": "markdown",
      "metadata": {
        "id": "6jV4iDuKsrhY",
        "colab_type": "text"
      },
      "source": [
        "Se realiza una gráfica donde se obtenga el comportamiento solicitado de las acciones de las tres empresas."
      ]
    },
    {
      "cell_type": "code",
      "metadata": {
        "id": "dCCKqrVSrsCE",
        "colab_type": "code",
        "colab": {}
      },
      "source": [
        ""
      ],
      "execution_count": 0,
      "outputs": []
    },
    {
      "cell_type": "markdown",
      "metadata": {
        "id": "Vcv20qT8TM65",
        "colab_type": "text"
      },
      "source": [
        "**7.Calcular y graficar franjas Bollinger para K=2.**\n"
      ]
    },
    {
      "cell_type": "markdown",
      "metadata": {
        "id": "TyRLRz2ftIQ2",
        "colab_type": "text"
      },
      "source": [
        "Franjas Bollinger para EC:"
      ]
    },
    {
      "cell_type": "code",
      "metadata": {
        "id": "918GZ2-0tH4p",
        "colab_type": "code",
        "colab": {}
      },
      "source": [
        ""
      ],
      "execution_count": 0,
      "outputs": []
    },
    {
      "cell_type": "markdown",
      "metadata": {
        "id": "Wg25vf9GtJNH",
        "colab_type": "text"
      },
      "source": [
        "Franjas Bollinger para AVH:"
      ]
    },
    {
      "cell_type": "code",
      "metadata": {
        "id": "Z--XW4gJtHrE",
        "colab_type": "code",
        "colab": {}
      },
      "source": [
        ""
      ],
      "execution_count": 0,
      "outputs": []
    },
    {
      "cell_type": "markdown",
      "metadata": {
        "id": "ZNANLcb1tJeQ",
        "colab_type": "text"
      },
      "source": [
        "Franjas Bollinger para AVA:"
      ]
    },
    {
      "cell_type": "code",
      "metadata": {
        "id": "xL9j6i7arsZK",
        "colab_type": "code",
        "colab": {}
      },
      "source": [
        ""
      ],
      "execution_count": 0,
      "outputs": []
    },
    {
      "cell_type": "markdown",
      "metadata": {
        "id": "tBo35jQ4TM0-",
        "colab_type": "text"
      },
      "source": [
        "**8.Para qué fechas la tendecia se sale de las franjas calculadas en el punto anterior?**"
      ]
    },
    {
      "cell_type": "code",
      "metadata": {
        "id": "LYVRAvYtrt6U",
        "colab_type": "code",
        "colab": {}
      },
      "source": [
        ""
      ],
      "execution_count": 0,
      "outputs": []
    },
    {
      "cell_type": "markdown",
      "metadata": {
        "id": "0exKlZqxTLje",
        "colab_type": "text"
      },
      "source": [
        "**9.Calcular y graficar las franjas Bollinger con K=2 y K=1.**"
      ]
    },
    {
      "cell_type": "markdown",
      "metadata": {
        "id": "3fzOxXRbtczL",
        "colab_type": "text"
      },
      "source": [
        "Franjas Bollinger para EC con K=1:"
      ]
    },
    {
      "cell_type": "code",
      "metadata": {
        "id": "iTIrWMtLtcAK",
        "colab_type": "code",
        "colab": {}
      },
      "source": [
        ""
      ],
      "execution_count": 0,
      "outputs": []
    },
    {
      "cell_type": "markdown",
      "metadata": {
        "id": "O4LD42L2tgXl",
        "colab_type": "text"
      },
      "source": [
        "Franjas Bollinger para EC con K=2:"
      ]
    },
    {
      "cell_type": "code",
      "metadata": {
        "id": "_dZA_dwRtb1N",
        "colab_type": "code",
        "colab": {}
      },
      "source": [
        ""
      ],
      "execution_count": 0,
      "outputs": []
    },
    {
      "cell_type": "markdown",
      "metadata": {
        "id": "FDhbGm7stgHb",
        "colab_type": "text"
      },
      "source": [
        "Franjas Bollinger para AVH con K=1:"
      ]
    },
    {
      "cell_type": "code",
      "metadata": {
        "id": "iawhoQ3LtbqR",
        "colab_type": "code",
        "colab": {}
      },
      "source": [
        ""
      ],
      "execution_count": 0,
      "outputs": []
    },
    {
      "cell_type": "markdown",
      "metadata": {
        "id": "4BJJLzMcteTh",
        "colab_type": "text"
      },
      "source": [
        "Franjas Bollinger para AVH con K=2:"
      ]
    },
    {
      "cell_type": "code",
      "metadata": {
        "id": "leO-El41tbfl",
        "colab_type": "code",
        "colab": {}
      },
      "source": [
        ""
      ],
      "execution_count": 0,
      "outputs": []
    },
    {
      "cell_type": "markdown",
      "metadata": {
        "id": "UTrBFl-WtesB",
        "colab_type": "text"
      },
      "source": [
        "Franjas Bollinger para AVA con K=1:"
      ]
    },
    {
      "cell_type": "code",
      "metadata": {
        "id": "o4zC_FaVtbTD",
        "colab_type": "code",
        "colab": {}
      },
      "source": [
        ""
      ],
      "execution_count": 0,
      "outputs": []
    },
    {
      "cell_type": "markdown",
      "metadata": {
        "id": "vmLhpunItfZm",
        "colab_type": "text"
      },
      "source": [
        "Franjas Bollinger para AVA con K=2:"
      ]
    },
    {
      "cell_type": "code",
      "metadata": {
        "id": "e1xYN5Eotawx",
        "colab_type": "code",
        "colab": {}
      },
      "source": [
        ""
      ],
      "execution_count": 0,
      "outputs": []
    },
    {
      "cell_type": "markdown",
      "metadata": {
        "id": "fCgl-CdjTL_W",
        "colab_type": "text"
      },
      "source": [
        "**10.Determinar para qué fechas es conveniente comprar usando la técnica de doble franja Bollinger.**\n",
        "\n",
        "Para EC:"
      ]
    },
    {
      "cell_type": "code",
      "metadata": {
        "id": "_sqf5Q_uuY8v",
        "colab_type": "code",
        "colab": {}
      },
      "source": [
        ""
      ],
      "execution_count": 0,
      "outputs": []
    },
    {
      "cell_type": "markdown",
      "metadata": {
        "id": "XpRbQUbZug9u",
        "colab_type": "text"
      },
      "source": [
        "Para AVH:"
      ]
    },
    {
      "cell_type": "code",
      "metadata": {
        "id": "S9BIi8X-ufJI",
        "colab_type": "code",
        "colab": {}
      },
      "source": [
        ""
      ],
      "execution_count": 0,
      "outputs": []
    },
    {
      "cell_type": "markdown",
      "metadata": {
        "id": "umNkSmwTuiRf",
        "colab_type": "text"
      },
      "source": [
        "Para AVA:"
      ]
    },
    {
      "cell_type": "code",
      "metadata": {
        "id": "Fm2EzMIGufuH",
        "colab_type": "code",
        "colab": {}
      },
      "source": [
        ""
      ],
      "execution_count": 0,
      "outputs": []
    },
    {
      "cell_type": "markdown",
      "metadata": {
        "id": "n12C_guHTpOC",
        "colab_type": "text"
      },
      "source": [
        "**11.Determinar para qué fechas es conveniente vender en corto la técnica de doble franja Bollinger.**\n",
        "\n",
        "Para EC:"
      ]
    },
    {
      "cell_type": "code",
      "metadata": {
        "id": "NfV4kOj-uZcd",
        "colab_type": "code",
        "colab": {}
      },
      "source": [
        ""
      ],
      "execution_count": 0,
      "outputs": []
    },
    {
      "cell_type": "markdown",
      "metadata": {
        "id": "-yWOv4iTurO9",
        "colab_type": "text"
      },
      "source": [
        "Para AVH:"
      ]
    },
    {
      "cell_type": "code",
      "metadata": {
        "id": "nUCWKuZOusLJ",
        "colab_type": "code",
        "colab": {}
      },
      "source": [
        ""
      ],
      "execution_count": 0,
      "outputs": []
    },
    {
      "cell_type": "markdown",
      "metadata": {
        "id": "5WBNZxRcusoZ",
        "colab_type": "text"
      },
      "source": [
        "Para AVA:"
      ]
    },
    {
      "cell_type": "code",
      "metadata": {
        "id": "jEnwdctSutDi",
        "colab_type": "code",
        "colab": {}
      },
      "source": [
        ""
      ],
      "execution_count": 0,
      "outputs": []
    }
  ]
}