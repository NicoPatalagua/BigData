{
  "nbformat": 4,
  "nbformat_minor": 0,
  "metadata": {
    "colab": {
      "name": "Spark-Dataframes-Windows.ipynb",
      "provenance": [],
      "collapsed_sections": [],
      "authorship_tag": "ABX9TyMEJYYLEfeHWGu496gD1RwO",
      "include_colab_link": true
    },
    "kernelspec": {
      "name": "python3",
      "display_name": "Python 3"
    }
  },
  "cells": [
    {
      "cell_type": "markdown",
      "metadata": {
        "id": "view-in-github",
        "colab_type": "text"
      },
      "source": [
        "<a href=\"https://colab.research.google.com/github/NicoPatalagua/BigData/blob/master/Spark_Dataframes_Windows.ipynb\" target=\"_parent\"><img src=\"https://colab.research.google.com/assets/colab-badge.svg\" alt=\"Open In Colab\"/></a>"
      ]
    },
    {
      "cell_type": "markdown",
      "metadata": {
        "id": "IBjThxq3oaQi",
        "colab_type": "text"
      },
      "source": [
        "# **Taller Spark-Dataframes-Windows**\n",
        "## *Paula Oviedo - Nicolás Patalagua*\n",
        "## Infraestructura para BigData\n",
        "\n",
        "# **Spark**\n",
        "[Apache Spark](https://spark.apache.org/) es un framework de computación en clúster open-source. Spark fue desarrollado en sus inicios por Matei Zaharia en la Universidad de California,el AMPLab de la UC Berkeley en 2009. Fue liberado como código abierto en 2010 bajo licencia BSD. El código base del proyecto Spark fue donado más tarde a la Apache Software Foundation que se encarga de su mantenimiento desde entonces. \n",
        "\n",
        "## **¿Para que sirve Spark?**\n",
        "\n",
        "*Spark proporciona una interfaz para la programación de clusters completos con Paralelismo de Datos implícito y tolerancia a fallos.Apache Spark se puede considerar un sistema de computación en clúster de propósito general y orientado a la velocidad. Proporciona APIs en Java, Scala, Python y R. También proporciona un motor optimizado que soporta la ejecución de grafos en general. También soporta un conjunto extenso y rico de herramientas de alto nivel entre las que se incluyen Spark SQL (para el procesamiento de datos estructurados basada en SQL), MLlib para implementar machine learning, GraphX para el procesamiento de grafos y Spark Streaming.*\n",
        "\n",
        "# **Funciones de ventana en Spark**\n",
        "*Las funciones de ventana permiten a los usuarios de Spark SQL calcular resultados como el rango de una fila determinada o un promedio móvil en un rango de filas de entrada. Mejoran significativamente la expresividad de las API de SQL y DataFrame de Spark.\n",
        "En esencia, una función de ventana calcula un valor de retorno para cada fila de entrada de una tabla en función de un grupo de filas, llamado Marco . Cada fila de entrada puede tener un marco único asociado. Esta característica de las funciones de ventana las hace más potentes que otras funciones y permite a los usuarios expresar varias tareas de procesamiento de datos que son difíciles (si no imposibles) de expresar de manera concisa sin las funciones de ventana.* \n",
        "\n",
        "http://queirozf.com/entries/spark-dataframe-examples-window-functions"
      ]
    },
    {
      "cell_type": "markdown",
      "metadata": {
        "id": "3QsfOAFmsic6",
        "colab_type": "text"
      },
      "source": [
        "# ***Taller***\n",
        "**1. Descargar las acciones de Ecopetrol, Avianca, y Grupo Aval para el último año de Yahoo finances(23 de sept-2018 y 23 de sept-2019).** \n",
        "\n",
        "*Los CSV de acciones se obtienen de [Yahho! Finance](https://finance.yahoo.com/), el cual es un servicio de Yahoo! que proporciona información financiera y comentarios con un enfoque en los mercados de los Estados Unidos.*\n",
        "\n",
        "\n",
        "\n",
        "Las acciones de [Ecopetrol](www.ecopetrol.com.co) se pueden consultar en [EC-Yahoo! Finance](https://finance.yahoo.com/quote/EC?p=EC&.tsrc=fin-srch), y pertenecen a la primera compañía de petróleo de Colombia, antiguamente llamada Empresa Colombiana de Petróleos S.A.Es la cuarta empresa petrolera más grande de Latinoamérica.\n",
        "\n",
        "Las acciones de [Avianca S.A](www.avianca.com) se pueden consultar en [AVH-Yahoo! Finance](https://finance.yahoo.com/quote/AVH?p=AVH&.tsrc=fin-srch), y pertenecen a Aerovías del Continente Americano, anteriormente Aerovías Nacionales de Colombia. Es la mayor aerolínea de Colombia. Fundada en 1919 con el nombre de SCADTA, es mundialmente la segunda aerolínea más antigua después de la KLM que fue fundada 58 días antes y la más antigua del mundo con operaciones ininterrumpidas.\n",
        "\n",
        "Las acciones del [Grupo Aval](www.grupoaval.com) se pueden consultar en [AVAL-Yahoo! Finance](https://finance.yahoo.com/quote/AVAL?p=AVAL&.tsrc=fin-srch), corresponden a las acciones del Grupo Acciones y Valores S.A, un n conglomerado empresarial colombiano dedicado a una amplia variedad de actividades, principalmente financieras. El Grupo AVAL es controlado por Luis Carlos Sarmiento Angulo.\n",
        "\n",
        " "
      ]
    },
    {
      "cell_type": "code",
      "metadata": {
        "id": "riwRLFY7xcW8",
        "colab_type": "code",
        "outputId": "b901731d-617c-4d23-c0b4-401221b3838e",
        "colab": {
          "base_uri": "https://localhost:8080/",
          "height": 34
        }
      },
      "source": [
        "EC= 'https://github.com/NicoPatalagua/BigData/blob/master/EC.csv'\n",
        "EC"
      ],
      "execution_count": 19,
      "outputs": [
        {
          "output_type": "execute_result",
          "data": {
            "text/plain": [
              "'https://github.com/NicoPatalagua/BigData/blob/master/EC.csv'"
            ]
          },
          "metadata": {
            "tags": []
          },
          "execution_count": 19
        }
      ]
    },
    {
      "cell_type": "markdown",
      "metadata": {
        "id": "D_Iyy3i1slrm",
        "colab_type": "text"
      },
      "source": [
        "2.Porcentaje de retorno diaro. 3.Porcentaje de retorno Mensual 4.Mes con mayor porcentaje de retorno 5.Hallar y gráficar la media móvil de 20 dias para Ecopetrol 6.Graficar comportamiento del precio de cierre para las 3 acciones a lo largo del año. 7.Calcular y graficar franajas Bollinger para K=2 8.Para qué fechas la tendecia se sale de las franjas calculadas en el punto anterior? 9.Calcular y graficar las franjas Bollinger con K=2 y K=1 10.Determinar para qué fechas es conveniente comprar usando la técnica de doble franja Bollinger 11.Determinar para qué fechas es conveniente vender en corto la técnica de doble franja Bollinger"
      ]
    }
  ]
}