{
  "nbformat": 4,
  "nbformat_minor": 0,
  "metadata": {
    "colab": {
      "name": "Spark-Dataframes-Windows.ipynb",
      "provenance": [],
      "collapsed_sections": [],
      "authorship_tag": "ABX9TyNTNYwi0AuVB3PB6iyTLLkl",
      "include_colab_link": true
    },
    "kernelspec": {
      "name": "python3",
      "display_name": "Python 3"
    }
  },
  "cells": [
    {
      "cell_type": "markdown",
      "metadata": {
        "id": "view-in-github",
        "colab_type": "text"
      },
      "source": [
        "<a href=\"https://colab.research.google.com/github/NicoPatalagua/BigData/blob/master/Spark_Dataframes_Windows.ipynb\" target=\"_parent\"><img src=\"https://colab.research.google.com/assets/colab-badge.svg\" alt=\"Open In Colab\"/></a>"
      ]
    },
    {
      "cell_type": "markdown",
      "metadata": {
        "id": "47CCUKp7RAsS",
        "colab_type": "text"
      },
      "source": [
        "# **Taller Spark-Dataframes-Windows**\n",
        "## *Nicolás Patalagua*\n",
        "## Infraestructura para BigData - Universidad Sergio Arboleda\n",
        "# **Spark**\n",
        "[Apache Spark](https://spark.apache.org/) es un framework de computación en clúster open-source. Spark fue desarrollado en sus inicios por Matei Zaharia en la Universidad de California,el AMPLab de la UC Berkeley en 2009. Fue liberado como código abierto en 2010 bajo licencia BSD. El código base del proyecto Spark fue donado más tarde a la Apache Software Foundation que se encarga de su mantenimiento desde entonces. \n",
        "\n",
        "## **¿Para que sirve Spark?**\n",
        "\n",
        "*Spark proporciona una interfaz para la programación de clusters completos con Paralelismo de Datos implícito y tolerancia a fallos.Apache Spark se puede considerar un sistema de computación en clúster de propósito general y orientado a la velocidad. Proporciona APIs en Java, Scala, Python y R. También proporciona un motor optimizado que soporta la ejecución de grafos en general. También soporta un conjunto extenso y rico de herramientas de alto nivel entre las que se incluyen Spark SQL (para el procesamiento de datos estructurados basada en SQL), MLlib para implementar machine learning, GraphX para el procesamiento de grafos y Spark Streaming.*\n",
        "\n",
        "# **Funciones de ventana en Spark**\n",
        "*Las funciones de ventana permiten a los usuarios de Spark SQL calcular resultados como el rango de una fila determinada o un promedio móvil en un rango de filas de entrada. Mejoran significativamente la expresividad de las API de SQL y DataFrame de Spark.\n",
        "En esencia, una función de ventana calcula un valor de retorno para cada fila de entrada de una tabla en función de un grupo de filas, llamado Marco . Cada fila de entrada puede tener un marco único asociado. Esta característica de las funciones de ventana las hace más potentes que otras funciones y permite a los usuarios expresar varias tareas de procesamiento de datos que son difíciles (si no imposibles) de expresar de manera concisa sin las funciones de ventana.* \n",
        "\n",
        "http://queirozf.com/entries/spark-dataframe-examples-window-functions"
      ]
    },
    {
      "cell_type": "code",
      "metadata": {
        "id": "bGn1vKcUQywj",
        "colab_type": "code",
        "outputId": "9fd1aa29-9323-44a4-edff-769fe38dcc1c",
        "colab": {
          "base_uri": "https://localhost:8080/",
          "height": 356
        }
      },
      "source": [
        "!apt-get install openjdk-8-jdk-headless -qq > /dev/null\n",
        "!wget -q http://apache.osuosl.org/spark/spark-2.4.5/spark-2.4.5-bin-hadoop2.7.tgz\n",
        "!tar xf spark-2.4.5-bin-hadoop2.7.tgz\n",
        "!pip install -q findspark\n",
        "!pip install pyspark\n",
        "import os\n",
        "import time \n",
        "os.environ[\"JAVA_HOME\"] = \"/usr/lib/jvm/java-8-openjdk-amd64\"\n",
        "os.environ[\"SPARK_HOME\"] = \"/content/spark-2.4.5-bin-hadoop2.7\"\n",
        "\n",
        "from google.colab import drive\n",
        "drive.mount('/content/gdrive')\n",
        "from pyspark import SparkConf, SparkContext\n",
        "conf = SparkConf().setAppName(\"app\")\n",
        "sc = SparkContext.getOrCreate();"
      ],
      "execution_count": 1,
      "outputs": [
        {
          "output_type": "stream",
          "text": [
            "Collecting pyspark\n",
            "\u001b[?25l  Downloading https://files.pythonhosted.org/packages/9a/5a/271c416c1c2185b6cb0151b29a91fff6fcaed80173c8584ff6d20e46b465/pyspark-2.4.5.tar.gz (217.8MB)\n",
            "\u001b[K     |████████████████████████████████| 217.8MB 59kB/s \n",
            "\u001b[?25hCollecting py4j==0.10.7\n",
            "\u001b[?25l  Downloading https://files.pythonhosted.org/packages/e3/53/c737818eb9a7dc32a7cd4f1396e787bd94200c3997c72c1dbe028587bd76/py4j-0.10.7-py2.py3-none-any.whl (197kB)\n",
            "\u001b[K     |████████████████████████████████| 204kB 35.8MB/s \n",
            "\u001b[?25hBuilding wheels for collected packages: pyspark\n",
            "  Building wheel for pyspark (setup.py) ... \u001b[?25l\u001b[?25hdone\n",
            "  Created wheel for pyspark: filename=pyspark-2.4.5-py2.py3-none-any.whl size=218257927 sha256=f7e1a13e85cc0dd55e734da5f342f5c7451da9091b0093d3426a8a507498b076\n",
            "  Stored in directory: /root/.cache/pip/wheels/bf/db/04/61d66a5939364e756eb1c1be4ec5bdce6e04047fc7929a3c3c\n",
            "Successfully built pyspark\n",
            "Installing collected packages: py4j, pyspark\n",
            "Successfully installed py4j-0.10.7 pyspark-2.4.5\n",
            "Go to this URL in a browser: https://accounts.google.com/o/oauth2/auth?client_id=947318989803-6bn6qk8qdgf4n4g3pfee6491hc0brc4i.apps.googleusercontent.com&redirect_uri=urn%3aietf%3awg%3aoauth%3a2.0%3aoob&response_type=code&scope=email%20https%3a%2f%2fwww.googleapis.com%2fauth%2fdocs.test%20https%3a%2f%2fwww.googleapis.com%2fauth%2fdrive%20https%3a%2f%2fwww.googleapis.com%2fauth%2fdrive.photos.readonly%20https%3a%2f%2fwww.googleapis.com%2fauth%2fpeopleapi.readonly\n",
            "\n",
            "Enter your authorization code:\n",
            "··········\n",
            "Mounted at /content/gdrive\n"
          ],
          "name": "stdout"
        }
      ]
    },
    {
      "cell_type": "code",
      "metadata": {
        "id": "p8Q6xwf7VYvs",
        "colab_type": "code",
        "colab": {}
      },
      "source": [
        "#Importamos las bibliotecas y dependencias que necesitamos\n",
        "import numpy as np\n",
        "import pandas as pd\n",
        "from pyspark.sql import Window\n",
        "from pyspark.sql import SparkSession\n",
        "from pyspark.sql import functions as F\n",
        "from pyspark.sql.functions import col\n",
        "from matplotlib import pyplot as plt\n",
        "from mpl_toolkits.mplot3d import Axes3D\n",
        "sp= SparkSession.builder.appName('test').getOrCreate()"
      ],
      "execution_count": 0,
      "outputs": []
    },
    {
      "cell_type": "markdown",
      "metadata": {
        "id": "pmnKrbToRRL1",
        "colab_type": "text"
      },
      "source": [
        "# ***Taller***\n",
        "**1. Descargar las acciones de Ecopetrol, Avianca, y Grupo Aval para el último año de Yahoo finances(23 de sept-2018 y 23 de sept-2019).** \n",
        "\n",
        "*Los CSV de acciones se obtienen de [Yahho! Finance](https://finance.yahoo.com/), el cual es un servicio de Yahoo! que proporciona información financiera y comentarios con un enfoque en los mercados de los Estados Unidos.*\n",
        "\n",
        "\n",
        "\n",
        "Las acciones de [Ecopetrol](www.ecopetrol.com.co) se pueden consultar en [EC-Yahoo! Finance](https://finance.yahoo.com/quote/EC?p=EC&.tsrc=fin-srch), y pertenecen a la primera compañía de petróleo de Colombia, antiguamente llamada Empresa Colombiana de Petróleos S.A.Es la cuarta empresa petrolera más grande de Latinoamérica.\n",
        "\n",
        "Las acciones de [Avianca S.A](www.avianca.com) se pueden consultar en [AVH-Yahoo! Finance](https://finance.yahoo.com/quote/AVH?p=AVH&.tsrc=fin-srch), y pertenecen a Aerovías del Continente Americano, anteriormente Aerovías Nacionales de Colombia. Es la mayor aerolínea de Colombia. Fundada en 1919 con el nombre de SCADTA, es mundialmente la segunda aerolínea más antigua después de la KLM que fue fundada 58 días antes y la más antigua del mundo con operaciones ininterrumpidas.\n",
        "\n",
        "Las acciones del [Grupo Aval](www.grupoaval.com) se pueden consultar en [AVA-Yahoo! Finance](https://finance.yahoo.com/quote/AVAL?p=AVAL&.tsrc=fin-srch), corresponden a las acciones del Grupo Acciones y Valores S.A, un n conglomerado empresarial colombiano dedicado a una amplia variedad de actividades, principalmente financieras. El Grupo AVAL es controlado por Luis Carlos Sarmiento Angulo.\n",
        "\n",
        "Una vez descargados son agregados a un repositorio de Github y posteriormente cargados en nuestro entorno de trabajo:\n",
        "\n",
        "\n",
        "*   [EC](https://github.com/NicoPatalagua/BigData/blob/master/EC.csv)\n",
        "*   [AVH](https://github.com/NicoPatalagua/BigData/blob/master/AVH.csv)\n",
        "*   [AVA](https://github.com/NicoPatalagua/BigData/blob/master/AVA.csv)\n",
        "\n"
      ]
    },
    {
      "cell_type": "code",
      "metadata": {
        "id": "1k4mbxWJUT1L",
        "colab_type": "code",
        "colab": {}
      },
      "source": [
        "#Asignamos el dataset (CSV) a una variable\n",
        "ObjEC = sp.read.option(\"inferSchema\",\"true\").csv(\"/content/EC.csv\",header=True)\n",
        "ObjAVH = sp.read.option(\"inferSchema\",\"true\").csv(\"/content/AVH.csv\",header=True)\n",
        "ObjAVA = sp.read.option(\"inferSchema\",\"true\").csv(\"/content/AVA.csv\",header=True)"
      ],
      "execution_count": 0,
      "outputs": []
    },
    {
      "cell_type": "markdown",
      "metadata": {
        "id": "J1TSjm9TbbY-",
        "colab_type": "text"
      },
      "source": [
        "Imprimir cada esquema de los dataset:"
      ]
    },
    {
      "cell_type": "code",
      "metadata": {
        "id": "dM6qsu4fbYNW",
        "colab_type": "code",
        "outputId": "60f92386-5a03-40c1-83b5-87f2db89a2c5",
        "colab": {
          "base_uri": "https://localhost:8080/",
          "height": 54
        }
      },
      "source": [
        "ObjEC"
      ],
      "execution_count": 47,
      "outputs": [
        {
          "output_type": "execute_result",
          "data": {
            "text/plain": [
              "DataFrame[Date: timestamp, Open: double, High: double, Low: double, Close: double, Adj Close: double, Volume: int]"
            ]
          },
          "metadata": {
            "tags": []
          },
          "execution_count": 47
        }
      ]
    },
    {
      "cell_type": "code",
      "metadata": {
        "id": "8MjeHRhtbgb3",
        "colab_type": "code",
        "outputId": "df6f8ada-b721-4954-a76b-9f291e9a5f00",
        "colab": {
          "base_uri": "https://localhost:8080/",
          "height": 54
        }
      },
      "source": [
        "ObjAVH"
      ],
      "execution_count": 48,
      "outputs": [
        {
          "output_type": "execute_result",
          "data": {
            "text/plain": [
              "DataFrame[Date: timestamp, Open: double, High: double, Low: double, Close: double, Adj Close: double, Volume: int]"
            ]
          },
          "metadata": {
            "tags": []
          },
          "execution_count": 48
        }
      ]
    },
    {
      "cell_type": "code",
      "metadata": {
        "id": "1Ou6M9ogbjBV",
        "colab_type": "code",
        "outputId": "5aab044e-7ae9-4a23-ad4e-2a79e2982246",
        "colab": {
          "base_uri": "https://localhost:8080/",
          "height": 54
        }
      },
      "source": [
        "ObjAVA"
      ],
      "execution_count": 49,
      "outputs": [
        {
          "output_type": "execute_result",
          "data": {
            "text/plain": [
              "DataFrame[Date: timestamp, Open: double, High: double, Low: double, Close: double, Adj Close: double, Volume: int, Year: string, Month: string, Day: string]"
            ]
          },
          "metadata": {
            "tags": []
          },
          "execution_count": 49
        }
      ]
    },
    {
      "cell_type": "markdown",
      "metadata": {
        "id": "e8RQSsHyaTlP",
        "colab_type": "text"
      },
      "source": [
        "El resultado que nos envia, significa que los dataset no estan corectamente esquematizados y se debe eparar la fecha por año, mes y día.\n",
        "\n",
        "Por tanto se debe realizar un ajuste de esquema a cada uno de los dataset. \n",
        "\n",
        "Para EC:"
      ]
    },
    {
      "cell_type": "code",
      "metadata": {
        "id": "rDPLBCSNaPTy",
        "colab_type": "code",
        "colab": {}
      },
      "source": [
        "ObjSplt= F.split(ObjEC['Date'], '-')\n",
        "ObjEC = ObjEC.withColumn('Year', ObjSplt.getItem(0))\n",
        "ObjEC = ObjEC.withColumn('Month', ObjSplt.getItem(1))\n",
        "ObjEC = ObjEC.withColumn('Day', ObjSplt.getItem(2))"
      ],
      "execution_count": 0,
      "outputs": []
    },
    {
      "cell_type": "markdown",
      "metadata": {
        "id": "eDSxhDYBc7fB",
        "colab_type": "text"
      },
      "source": [
        "Verificamos que el Esquema se modificó:"
      ]
    },
    {
      "cell_type": "code",
      "metadata": {
        "id": "xAXX-PLlcVWb",
        "colab_type": "code",
        "outputId": "4f81fb4b-c839-4673-ca6f-e2d0c5d365b4",
        "colab": {
          "base_uri": "https://localhost:8080/",
          "height": 230
        }
      },
      "source": [
        "ObjEC.printSchema()"
      ],
      "execution_count": 58,
      "outputs": [
        {
          "output_type": "stream",
          "text": [
            "root\n",
            " |-- Date: timestamp (nullable = true)\n",
            " |-- Open: double (nullable = true)\n",
            " |-- High: double (nullable = true)\n",
            " |-- Low: double (nullable = true)\n",
            " |-- Close: double (nullable = true)\n",
            " |-- Adj Close: double (nullable = true)\n",
            " |-- Volume: integer (nullable = true)\n",
            " |-- Year: string (nullable = true)\n",
            " |-- Month: string (nullable = true)\n",
            " |-- Day: string (nullable = true)\n",
            "\n"
          ],
          "name": "stdout"
        }
      ]
    },
    {
      "cell_type": "markdown",
      "metadata": {
        "id": "Mh-xkW6OdX0s",
        "colab_type": "text"
      },
      "source": [
        "Efectivamente la fecha se dividio en año, mes y día.\n",
        "\n",
        "\n",
        "Para AVH:"
      ]
    },
    {
      "cell_type": "code",
      "metadata": {
        "id": "Sr3xyk9vfZi_",
        "colab_type": "code",
        "colab": {}
      },
      "source": [
        "ObjSplt= F.split(ObjAVH['Date'], '-')\n",
        "ObjAVH = ObjAVH.withColumn('Year', ObjSplt.getItem(0))\n",
        "ObjAVH = ObjAVH.withColumn('Month', ObjSplt.getItem(1))\n",
        "ObjAVH = ObjAVH.withColumn('Day', ObjSplt.getItem(2))"
      ],
      "execution_count": 0,
      "outputs": []
    },
    {
      "cell_type": "markdown",
      "metadata": {
        "id": "GaVswJa7ddky",
        "colab_type": "text"
      },
      "source": [
        "Verificamos que el Esquema se modificó:"
      ]
    },
    {
      "cell_type": "code",
      "metadata": {
        "id": "GNo8PYbYflTU",
        "colab_type": "code",
        "outputId": "618bd15c-520e-4651-f791-6e47de67dbfc",
        "colab": {
          "base_uri": "https://localhost:8080/",
          "height": 230
        }
      },
      "source": [
        "ObjAVH.printSchema()"
      ],
      "execution_count": 53,
      "outputs": [
        {
          "output_type": "stream",
          "text": [
            "root\n",
            " |-- Date: timestamp (nullable = true)\n",
            " |-- Open: double (nullable = true)\n",
            " |-- High: double (nullable = true)\n",
            " |-- Low: double (nullable = true)\n",
            " |-- Close: double (nullable = true)\n",
            " |-- Adj Close: double (nullable = true)\n",
            " |-- Volume: integer (nullable = true)\n",
            " |-- Year: string (nullable = true)\n",
            " |-- Month: string (nullable = true)\n",
            " |-- Day: string (nullable = true)\n",
            "\n"
          ],
          "name": "stdout"
        }
      ]
    },
    {
      "cell_type": "markdown",
      "metadata": {
        "id": "LpzYRWiKaoJc",
        "colab_type": "text"
      },
      "source": [
        "Efectivamente la fecha se dividio en año, mes y día.\n",
        "\n",
        "Para AVA:"
      ]
    },
    {
      "cell_type": "code",
      "metadata": {
        "id": "voj2xi-Matcd",
        "colab_type": "code",
        "colab": {}
      },
      "source": [
        "ObjSplt= F.split(ObjAVA['Date'], '-')\n",
        "ObjAVA = ObjAVA.withColumn('Year', ObjSplt.getItem(0))\n",
        "ObjAVA = ObjAVA.withColumn('Month', ObjSplt.getItem(1))\n",
        "ObjAVA = ObjAVA.withColumn('Day', ObjSplt.getItem(2))"
      ],
      "execution_count": 0,
      "outputs": []
    },
    {
      "cell_type": "markdown",
      "metadata": {
        "id": "eDheNZyGdegy",
        "colab_type": "text"
      },
      "source": [
        "Verificamos que el Esquema se modificó:"
      ]
    },
    {
      "cell_type": "code",
      "metadata": {
        "id": "TH_0qtgMdfBw",
        "colab_type": "code",
        "outputId": "39aa975b-a585-4c06-f204-e79e1794cbfb",
        "colab": {
          "base_uri": "https://localhost:8080/",
          "height": 230
        }
      },
      "source": [
        "ObjAVA.printSchema()"
      ],
      "execution_count": 55,
      "outputs": [
        {
          "output_type": "stream",
          "text": [
            "root\n",
            " |-- Date: timestamp (nullable = true)\n",
            " |-- Open: double (nullable = true)\n",
            " |-- High: double (nullable = true)\n",
            " |-- Low: double (nullable = true)\n",
            " |-- Close: double (nullable = true)\n",
            " |-- Adj Close: double (nullable = true)\n",
            " |-- Volume: integer (nullable = true)\n",
            " |-- Year: string (nullable = true)\n",
            " |-- Month: string (nullable = true)\n",
            " |-- Day: string (nullable = true)\n",
            "\n"
          ],
          "name": "stdout"
        }
      ]
    },
    {
      "cell_type": "markdown",
      "metadata": {
        "id": "nDMUQbCBS_2E",
        "colab_type": "text"
      },
      "source": [
        "Efectivamente la fecha se dividio en año, mes y día.\n",
        "\n",
        "**2.Porcentaje de retorno diaro.**\n",
        "\n",
        "Para EC:\n"
      ]
    },
    {
      "cell_type": "code",
      "metadata": {
        "id": "zzVeVLvHhc6O",
        "colab_type": "code",
        "outputId": "f8171237-74cd-4e8e-dc0f-2d1bf05333f7",
        "colab": {
          "base_uri": "https://localhost:8080/",
          "height": 478
        }
      },
      "source": [
        "ObjOpen = ObjEC.groupby('Year','Month','Day').agg(F.sum('Open').alias('Open'))\n",
        "ObjClose = ObjEC.groupby('Year','Month','Day').agg(F.sum('Close').alias('Close'))\n",
        "ObjJoin = ObjOpen.join(ObjClose, ['Year','Month','Day'])\n",
        "ObjPRDEC = ObjJoin.withColumn('PR ECOPETROL', (((ObjJoin['Close'] - ObjJoin['Open']) / ObjJoin['Open'] )* 100))\n",
        "ObjPRDEC.orderBy('Year','Month','Day')\n",
        "ObjPRDEC.show()"
      ],
      "execution_count": 67,
      "outputs": [
        {
          "output_type": "stream",
          "text": [
            "+----+-----+-----------+---------+---------+--------------------+\n",
            "|Year|Month|        Day|     Open|    Close|        PR ECOPETROL|\n",
            "+----+-----+-----------+---------+---------+--------------------+\n",
            "|2019|   09|20 00:00:00|17.690001|    17.57| -0.6783549644796429|\n",
            "|2018|   10|23 00:00:00|25.110001|    24.74| -1.4735204510744624|\n",
            "|2019|   05|01 00:00:00|    18.48|    18.07| -2.2186147186147194|\n",
            "|2019|   01|03 00:00:00|16.559999|     16.5|-0.36231282381116836|\n",
            "|2018|   10|26 00:00:00|23.120001|    23.59|   2.032867559132032|\n",
            "|2019|   01|09 00:00:00|     18.6|    18.76|  0.8602150537634415|\n",
            "|2019|   09|18 00:00:00|    17.66|17.690001| 0.16988108720271014|\n",
            "|2019|   06|03 00:00:00|16.540001|    16.82|  1.6928596316288018|\n",
            "|2019|   07|16 00:00:00|     19.0|18.870001| -0.6842052631579029|\n",
            "|2019|   08|19 00:00:00|    16.34|16.110001| -1.4075826193390417|\n",
            "|2018|   09|25 00:00:00|26.209999|    26.32|  0.4196909736623815|\n",
            "|2018|   10|11 00:00:00|25.309999|    25.15| -0.6321572750753671|\n",
            "|2019|   07|03 00:00:00|18.120001|    18.32|  1.1037471797049119|\n",
            "|2019|   08|28 00:00:00|    15.38|    15.29| -0.5851755526658103|\n",
            "|2018|   11|20 00:00:00|    19.75|19.190001| -2.8354379746835505|\n",
            "|2019|   08|30 00:00:00|    15.59|    15.79|  1.2828736369467564|\n",
            "|2018|   10|17 00:00:00|25.610001|25.879999|  1.0542678229493279|\n",
            "|2018|   11|26 00:00:00|    19.01|18.860001| -0.7890531299316207|\n",
            "|2019|   01|17 00:00:00|18.450001|    18.59|  0.7588021268941911|\n",
            "|2019|   03|19 00:00:00|22.370001|    22.41| 0.17880642919954126|\n",
            "+----+-----+-----------+---------+---------+--------------------+\n",
            "only showing top 20 rows\n",
            "\n"
          ],
          "name": "stdout"
        }
      ]
    },
    {
      "cell_type": "markdown",
      "metadata": {
        "id": "dSPxROF9hEvz",
        "colab_type": "text"
      },
      "source": [
        "Para AVH:"
      ]
    },
    {
      "cell_type": "code",
      "metadata": {
        "id": "SOKzylFPnUIR",
        "colab_type": "code",
        "outputId": "341c5e02-d547-409b-d3cb-7c8a8f0a7241",
        "colab": {
          "base_uri": "https://localhost:8080/",
          "height": 478
        }
      },
      "source": [
        "ObjOpen = ObjAVH.groupby('Year','Month','Day').agg(F.sum('Open').alias('Open'))\n",
        "ObjClose = ObjAVH.groupby('Year','Month','Day').agg(F.sum('Close').alias('Close'))\n",
        "ObjJoin = ObjOpen.join(ObjClose, ['Year','Month','Day'])\n",
        "ObjPRDAVH = ObjJoin.withColumn('PR AVIANCA', (((ObjJoin['Close'] - ObjJoin['Open']) / ObjJoin['Open'] )* 100))\n",
        "ObjPRDAVH.orderBy('Year','Month','Day')\n",
        "ObjPRDAVH.show()"
      ],
      "execution_count": 68,
      "outputs": [
        {
          "output_type": "stream",
          "text": [
            "+----+-----+-----------+----+-----+--------------------+\n",
            "|Year|Month|        Day|Open|Close|          PR AVIANCA|\n",
            "+----+-----+-----------+----+-----+--------------------+\n",
            "|2019|   09|20 00:00:00|3.05| 2.99| -1.9672131147540857|\n",
            "|2018|   10|23 00:00:00|5.35|  5.4|  0.9345794392523498|\n",
            "|2019|   05|01 00:00:00|3.73| 3.85|  3.2171581769437028|\n",
            "|2019|   01|03 00:00:00|4.15| 4.13|-0.48192771084338454|\n",
            "|2018|   10|26 00:00:00|5.25| 5.26|  0.1904761904761864|\n",
            "|2019|   01|09 00:00:00|4.58| 4.65|  1.5283842794759888|\n",
            "|2019|   09|18 00:00:00|3.13| 3.14|  0.3194888178913812|\n",
            "|2019|   06|03 00:00:00|3.67| 3.46|  -5.722070844686647|\n",
            "|2019|   07|16 00:00:00| 4.3| 4.25| -1.1627906976744147|\n",
            "|2019|   08|19 00:00:00|3.65| 3.52| -3.5616438356164357|\n",
            "|2018|   09|25 00:00:00|5.74|  5.7| -0.6968641114982584|\n",
            "|2018|   10|11 00:00:00|5.42| 5.32| -1.8450184501844953|\n",
            "|2019|   07|03 00:00:00|3.69| 3.89|   5.420054200542011|\n",
            "|2019|   08|28 00:00:00|2.73| 2.58|  -5.494505494505491|\n",
            "|2018|   11|20 00:00:00|5.26| 5.14|  -2.281368821292778|\n",
            "|2019|   08|30 00:00:00| 2.7| 2.68| -0.7407407407407414|\n",
            "|2018|   10|17 00:00:00|5.69| 5.55| -2.4604569420035247|\n",
            "|2018|   11|26 00:00:00| 5.0| 4.83|  -3.399999999999999|\n",
            "|2019|   01|17 00:00:00|4.78| 4.74|  -0.836820083682009|\n",
            "|2019|   03|19 00:00:00|4.39|  4.4|  0.2277904328018377|\n",
            "+----+-----+-----------+----+-----+--------------------+\n",
            "only showing top 20 rows\n",
            "\n"
          ],
          "name": "stdout"
        }
      ]
    },
    {
      "cell_type": "markdown",
      "metadata": {
        "id": "uzT-t_OehHdN",
        "colab_type": "text"
      },
      "source": [
        "Para AVA:"
      ]
    },
    {
      "cell_type": "code",
      "metadata": {
        "id": "uFCsq9jznpB4",
        "colab_type": "code",
        "outputId": "4fa0892d-3b69-4c4a-f63d-01da71b3c4db",
        "colab": {
          "base_uri": "https://localhost:8080/",
          "height": 478
        }
      },
      "source": [
        "ObjOpen = ObjAVA.groupby('Year','Month','Day').agg(F.sum('Open').alias('Open'))\n",
        "ObjClose = ObjAVA.groupby('Year','Month','Day').agg(F.sum('Close').alias('Close'))\n",
        "ObjJoin = ObjOpen.join(ObjClose, ['Year','Month','Day'])\n",
        "ObjPRDAVA = ObjJoin.withColumn('PR GRUPO AVAL', (((ObjJoin['Close'] - ObjJoin['Open']) / ObjJoin['Open'] )* 100))\n",
        "ObjPRDAVA.orderBy('Year','Month','Day')\n",
        "ObjPRDAVA.show()"
      ],
      "execution_count": 71,
      "outputs": [
        {
          "output_type": "stream",
          "text": [
            "+----+-----+-----------+---------+---------+--------------------+\n",
            "|Year|Month|        Day|     Open|    Close|       PR GRUPO AVAL|\n",
            "+----+-----+-----------+---------+---------+--------------------+\n",
            "|2019|   09|20 00:00:00|47.619999|47.880001|  0.5459932916000273|\n",
            "|2018|   10|23 00:00:00|51.849998|51.599998|-0.48216009574388025|\n",
            "|2019|   05|01 00:00:00|43.139999|    42.27| -2.0166875757229383|\n",
            "|2019|   01|03 00:00:00|    42.73|41.970001| -1.7786075356891962|\n",
            "|2018|   10|26 00:00:00|51.599998|    51.48| -0.2325542725796278|\n",
            "|2019|   01|09 00:00:00|41.580002|41.610001| 0.07214766367735277|\n",
            "|2019|   09|18 00:00:00|47.349998|47.560001|  0.4435121623447595|\n",
            "|2019|   06|03 00:00:00|41.919998|42.630001|  1.6937095273716385|\n",
            "|2019|   07|16 00:00:00|    45.16|    45.57|  0.9078830823737903|\n",
            "|2019|   08|19 00:00:00|    46.59|46.349998| -0.5151362953423568|\n",
            "|2018|   09|25 00:00:00|50.400002|    50.59|  0.3769801437706347|\n",
            "|2018|   10|11 00:00:00|51.099998|50.880001|-0.43052252174256317|\n",
            "|2019|   07|03 00:00:00|    44.59|44.830002|  0.5382417582417514|\n",
            "|2019|   08|28 00:00:00|46.779999|46.490002| -0.6199166442906501|\n",
            "|2018|   11|20 00:00:00|    52.41|    52.43|0.038160656363295416|\n",
            "|2019|   08|30 00:00:00|    47.02|46.900002|-0.25520629519353993|\n",
            "|2018|   10|17 00:00:00|51.009998|     51.0|-0.01960007918448...|\n",
            "|2018|   11|26 00:00:00|    52.43|52.349998|-0.15258821285523622|\n",
            "|2019|   01|17 00:00:00|40.720001|41.310001|  1.4489194143192587|\n",
            "|2019|   03|19 00:00:00|41.439999|40.669998|  -1.858110566074098|\n",
            "+----+-----+-----------+---------+---------+--------------------+\n",
            "only showing top 20 rows\n",
            "\n"
          ],
          "name": "stdout"
        }
      ]
    },
    {
      "cell_type": "markdown",
      "metadata": {
        "id": "lGNSTeAATLM4",
        "colab_type": "text"
      },
      "source": [
        "**3.Porcentaje de retorno Mensual.**\n",
        "\n",
        "Para EC:\n"
      ]
    },
    {
      "cell_type": "code",
      "metadata": {
        "id": "_W355dYipCYQ",
        "colab_type": "code",
        "outputId": "a8fabeec-d0ff-4ab0-8325-f372f9848566",
        "colab": {
          "base_uri": "https://localhost:8080/",
          "height": 336
        }
      },
      "source": [
        "ObjPRMEC= ObjPRDEC.groupby('Year','Month').agg(F.avg('PR ECOPETROL').alias('PR ECOPETROL'))\n",
        "ObjPRMEC=ObjPRMEC.orderBy('Year','Month')\n",
        "ObjPRMEC.show()"
      ],
      "execution_count": 72,
      "outputs": [
        {
          "output_type": "stream",
          "text": [
            "+----+-----+--------------------+\n",
            "|Year|Month|        PR ECOPETROL|\n",
            "+----+-----+--------------------+\n",
            "|2018|   09|  1.3604574942012235|\n",
            "|2018|   10| -0.6449597997062496|\n",
            "|2018|   11| -0.8896312516430294|\n",
            "|2018|   12| -0.9766423294363785|\n",
            "|2019|   01|  0.8345324145987951|\n",
            "|2019|   02| 0.35187492019506605|\n",
            "|2019|   03| 0.23044138448293458|\n",
            "|2019|   04|  -0.713712232460116|\n",
            "|2019|   05|  -0.081363679607359|\n",
            "|2019|   06| 0.17839549977884622|\n",
            "|2019|   07|-0.30583588648860416|\n",
            "|2019|   08|-0.37583497541655986|\n",
            "|2019|   09| 0.36662064695531954|\n",
            "+----+-----+--------------------+\n",
            "\n"
          ],
          "name": "stdout"
        }
      ]
    },
    {
      "cell_type": "markdown",
      "metadata": {
        "id": "2FIAwWIeqFj-",
        "colab_type": "text"
      },
      "source": [
        "Para AVH:"
      ]
    },
    {
      "cell_type": "code",
      "metadata": {
        "id": "uRyHjZVzqKiq",
        "colab_type": "code",
        "outputId": "74c2cbc2-a353-41ad-c308-d739adb9f64d",
        "colab": {
          "base_uri": "https://localhost:8080/",
          "height": 336
        }
      },
      "source": [
        "ObjPRMAVH= ObjPRDAVH.groupby('Year','Month').agg(F.avg('PR AVIANCA').alias('PR AVIANCA'))\n",
        "ObjPRMAVH=ObjPRMAVH.orderBy('Year','Month')\n",
        "ObjPRMAVH.show()"
      ],
      "execution_count": 73,
      "outputs": [
        {
          "output_type": "stream",
          "text": [
            "+----+-----+--------------------+\n",
            "|Year|Month|          PR AVIANCA|\n",
            "+----+-----+--------------------+\n",
            "|2018|   09| -0.5188698108072496|\n",
            "|2018|   10| -0.3658693544499807|\n",
            "|2018|   11|-0.14912911543472887|\n",
            "|2018|   12| -1.3011778973839219|\n",
            "|2019|   01|  0.5716433302845226|\n",
            "|2019|   02|-0.35210257785344323|\n",
            "|2019|   03| -0.8737195524510399|\n",
            "|2019|   04| -0.5850313008407249|\n",
            "|2019|   05| 0.17274173243499125|\n",
            "|2019|   06|  0.3330837786005799|\n",
            "|2019|   07|  0.5473780887446394|\n",
            "|2019|   08| -1.8596725468647934|\n",
            "|2019|   09|  0.9843850485986011|\n",
            "+----+-----+--------------------+\n",
            "\n"
          ],
          "name": "stdout"
        }
      ]
    },
    {
      "cell_type": "markdown",
      "metadata": {
        "id": "2ZkvnSbDqHNr",
        "colab_type": "text"
      },
      "source": [
        "Para AVA:"
      ]
    },
    {
      "cell_type": "code",
      "metadata": {
        "id": "RgE8rji7qLB1",
        "colab_type": "code",
        "outputId": "8d0c5e93-0ff9-4c22-e8f5-4a82b00c1f61",
        "colab": {
          "base_uri": "https://localhost:8080/",
          "height": 336
        }
      },
      "source": [
        "ObjPRMAVA= ObjPRDAVA.groupby('Year','Month').agg(F.avg('PR GRUPO AVAL').alias('PR GRUPO AVAL'))\n",
        "ObjPRMAVA=ObjPRMAVA.orderBy('Year','Month')\n",
        "ObjPRMAVA.show()"
      ],
      "execution_count": 74,
      "outputs": [
        {
          "output_type": "stream",
          "text": [
            "+----+-----+--------------------+\n",
            "|Year|Month|       PR GRUPO AVAL|\n",
            "+----+-----+--------------------+\n",
            "|2018|   09|-0.06298583534760246|\n",
            "|2018|   10|0.047343298849797655|\n",
            "|2018|   11|0.022506843550737104|\n",
            "|2018|   12|-0.35003723144228255|\n",
            "|2019|   01|-0.04241029085526...|\n",
            "|2019|   02|-0.03692076578349763|\n",
            "|2019|   03|-0.02737067258607...|\n",
            "|2019|   04|  0.2682942266447532|\n",
            "|2019|   05|-0.06407148498604325|\n",
            "|2019|   06| 0.28422729112121803|\n",
            "|2019|   07| 0.11565505505324412|\n",
            "|2019|   08| 0.06892819257512892|\n",
            "|2019|   09| 0.16912663241720144|\n",
            "+----+-----+--------------------+\n",
            "\n"
          ],
          "name": "stdout"
        }
      ]
    },
    {
      "cell_type": "markdown",
      "metadata": {
        "id": "BxT2ZPqlTNPB",
        "colab_type": "text"
      },
      "source": [
        "**4.Mes con mayor porcentaje de retorno.**\n"
      ]
    },
    {
      "cell_type": "markdown",
      "metadata": {
        "id": "SQ9whL2Mr9XU",
        "colab_type": "text"
      },
      "source": [
        "Para EC:"
      ]
    },
    {
      "cell_type": "code",
      "metadata": {
        "id": "v0kzovA4r8kl",
        "colab_type": "code",
        "colab": {
          "base_uri": "https://localhost:8080/",
          "height": 141
        },
        "outputId": "2a4da1b6-ddd5-457d-be1f-9cd6a4754017"
      },
      "source": [
        "ObjPRMEC.orderBy(col('PR ECOPETROL').desc()).show(1)"
      ],
      "execution_count": 77,
      "outputs": [
        {
          "output_type": "stream",
          "text": [
            "+----+-----+------------------+\n",
            "|Year|Month|      PR ECOPETROL|\n",
            "+----+-----+------------------+\n",
            "|2018|   09|1.3604574942012235|\n",
            "+----+-----+------------------+\n",
            "only showing top 1 row\n",
            "\n"
          ],
          "name": "stdout"
        }
      ]
    },
    {
      "cell_type": "markdown",
      "metadata": {
        "id": "Sud27tHCsBpT",
        "colab_type": "text"
      },
      "source": [
        "Para AVH:"
      ]
    },
    {
      "cell_type": "code",
      "metadata": {
        "id": "esAD3YwArrQ8",
        "colab_type": "code",
        "colab": {
          "base_uri": "https://localhost:8080/",
          "height": 141
        },
        "outputId": "67cd6765-f566-4afe-a28a-79a70e394587"
      },
      "source": [
        "ObjPRMAVH.orderBy(col('PR AVIANCA').desc()).show(1)"
      ],
      "execution_count": 78,
      "outputs": [
        {
          "output_type": "stream",
          "text": [
            "+----+-----+------------------+\n",
            "|Year|Month|        PR AVIANCA|\n",
            "+----+-----+------------------+\n",
            "|2019|   09|0.9843850485986011|\n",
            "+----+-----+------------------+\n",
            "only showing top 1 row\n",
            "\n"
          ],
          "name": "stdout"
        }
      ]
    },
    {
      "cell_type": "markdown",
      "metadata": {
        "id": "f-nRjkS7sDti",
        "colab_type": "text"
      },
      "source": [
        "Para AVA:"
      ]
    },
    {
      "cell_type": "code",
      "metadata": {
        "id": "z52xSlIrsFn4",
        "colab_type": "code",
        "colab": {
          "base_uri": "https://localhost:8080/",
          "height": 141
        },
        "outputId": "a7a955dc-5789-421e-845b-23c0f0649541"
      },
      "source": [
        "ObjPRMAVA.orderBy(col('PR GRUPO AVAL').desc()).show(1)"
      ],
      "execution_count": 79,
      "outputs": [
        {
          "output_type": "stream",
          "text": [
            "+----+-----+-------------------+\n",
            "|Year|Month|      PR GRUPO AVAL|\n",
            "+----+-----+-------------------+\n",
            "|2019|   06|0.28422729112121803|\n",
            "+----+-----+-------------------+\n",
            "only showing top 1 row\n",
            "\n"
          ],
          "name": "stdout"
        }
      ]
    },
    {
      "cell_type": "markdown",
      "metadata": {
        "id": "2lS7MixwTNHd",
        "colab_type": "text"
      },
      "source": [
        "**5.Hallar y gráficar la media móvil de 20 dias para Ecopetrol.**\n"
      ]
    },
    {
      "cell_type": "markdown",
      "metadata": {
        "id": "gR200lN1sGbT",
        "colab_type": "text"
      },
      "source": [
        "La grafica se obtine con el siguiente código:"
      ]
    },
    {
      "cell_type": "code",
      "metadata": {
        "id": "Dsd4lmV8rrsC",
        "colab_type": "code",
        "colab": {}
      },
      "source": [
        ""
      ],
      "execution_count": 0,
      "outputs": []
    },
    {
      "cell_type": "markdown",
      "metadata": {
        "id": "goEAvAshTNBJ",
        "colab_type": "text"
      },
      "source": [
        "**6.Graficar comportamiento del precio de cierre para las 3 acciones a lo largo del año.**\n"
      ]
    },
    {
      "cell_type": "markdown",
      "metadata": {
        "id": "6jV4iDuKsrhY",
        "colab_type": "text"
      },
      "source": [
        "Se realiza una gráfica donde se obtenga el comportamiento solicitado de las acciones de las tres empresas."
      ]
    },
    {
      "cell_type": "code",
      "metadata": {
        "id": "dCCKqrVSrsCE",
        "colab_type": "code",
        "colab": {}
      },
      "source": [
        ""
      ],
      "execution_count": 0,
      "outputs": []
    },
    {
      "cell_type": "markdown",
      "metadata": {
        "id": "Vcv20qT8TM65",
        "colab_type": "text"
      },
      "source": [
        "**7.Calcular y graficar franjas Bollinger para K=2.**\n"
      ]
    },
    {
      "cell_type": "markdown",
      "metadata": {
        "id": "TyRLRz2ftIQ2",
        "colab_type": "text"
      },
      "source": [
        "Franjas Bollinger para EC:"
      ]
    },
    {
      "cell_type": "code",
      "metadata": {
        "id": "918GZ2-0tH4p",
        "colab_type": "code",
        "colab": {}
      },
      "source": [
        ""
      ],
      "execution_count": 0,
      "outputs": []
    },
    {
      "cell_type": "markdown",
      "metadata": {
        "id": "Wg25vf9GtJNH",
        "colab_type": "text"
      },
      "source": [
        "Franjas Bollinger para AVH:"
      ]
    },
    {
      "cell_type": "code",
      "metadata": {
        "id": "Z--XW4gJtHrE",
        "colab_type": "code",
        "colab": {}
      },
      "source": [
        ""
      ],
      "execution_count": 0,
      "outputs": []
    },
    {
      "cell_type": "markdown",
      "metadata": {
        "id": "ZNANLcb1tJeQ",
        "colab_type": "text"
      },
      "source": [
        "Franjas Bollinger para AVA:"
      ]
    },
    {
      "cell_type": "code",
      "metadata": {
        "id": "xL9j6i7arsZK",
        "colab_type": "code",
        "colab": {}
      },
      "source": [
        ""
      ],
      "execution_count": 0,
      "outputs": []
    },
    {
      "cell_type": "markdown",
      "metadata": {
        "id": "tBo35jQ4TM0-",
        "colab_type": "text"
      },
      "source": [
        "**8.Para qué fechas la tendecia se sale de las franjas calculadas en el punto anterior?**"
      ]
    },
    {
      "cell_type": "code",
      "metadata": {
        "id": "LYVRAvYtrt6U",
        "colab_type": "code",
        "colab": {}
      },
      "source": [
        ""
      ],
      "execution_count": 0,
      "outputs": []
    },
    {
      "cell_type": "markdown",
      "metadata": {
        "id": "0exKlZqxTLje",
        "colab_type": "text"
      },
      "source": [
        "**9.Calcular y graficar las franjas Bollinger con K=2 y K=1.**"
      ]
    },
    {
      "cell_type": "markdown",
      "metadata": {
        "id": "3fzOxXRbtczL",
        "colab_type": "text"
      },
      "source": [
        "Franjas Bollinger para EC con K=1:"
      ]
    },
    {
      "cell_type": "code",
      "metadata": {
        "id": "iTIrWMtLtcAK",
        "colab_type": "code",
        "colab": {}
      },
      "source": [
        ""
      ],
      "execution_count": 0,
      "outputs": []
    },
    {
      "cell_type": "markdown",
      "metadata": {
        "id": "O4LD42L2tgXl",
        "colab_type": "text"
      },
      "source": [
        "Franjas Bollinger para EC con K=2:"
      ]
    },
    {
      "cell_type": "code",
      "metadata": {
        "id": "_dZA_dwRtb1N",
        "colab_type": "code",
        "colab": {}
      },
      "source": [
        ""
      ],
      "execution_count": 0,
      "outputs": []
    },
    {
      "cell_type": "markdown",
      "metadata": {
        "id": "FDhbGm7stgHb",
        "colab_type": "text"
      },
      "source": [
        "Franjas Bollinger para AVH con K=1:"
      ]
    },
    {
      "cell_type": "code",
      "metadata": {
        "id": "iawhoQ3LtbqR",
        "colab_type": "code",
        "colab": {}
      },
      "source": [
        ""
      ],
      "execution_count": 0,
      "outputs": []
    },
    {
      "cell_type": "markdown",
      "metadata": {
        "id": "4BJJLzMcteTh",
        "colab_type": "text"
      },
      "source": [
        "Franjas Bollinger para AVH con K=2:"
      ]
    },
    {
      "cell_type": "code",
      "metadata": {
        "id": "leO-El41tbfl",
        "colab_type": "code",
        "colab": {}
      },
      "source": [
        ""
      ],
      "execution_count": 0,
      "outputs": []
    },
    {
      "cell_type": "markdown",
      "metadata": {
        "id": "UTrBFl-WtesB",
        "colab_type": "text"
      },
      "source": [
        "Franjas Bollinger para AVA con K=1:"
      ]
    },
    {
      "cell_type": "code",
      "metadata": {
        "id": "o4zC_FaVtbTD",
        "colab_type": "code",
        "colab": {}
      },
      "source": [
        ""
      ],
      "execution_count": 0,
      "outputs": []
    },
    {
      "cell_type": "markdown",
      "metadata": {
        "id": "vmLhpunItfZm",
        "colab_type": "text"
      },
      "source": [
        "Franjas Bollinger para AVA con K=2:"
      ]
    },
    {
      "cell_type": "code",
      "metadata": {
        "id": "e1xYN5Eotawx",
        "colab_type": "code",
        "colab": {}
      },
      "source": [
        ""
      ],
      "execution_count": 0,
      "outputs": []
    },
    {
      "cell_type": "markdown",
      "metadata": {
        "id": "fCgl-CdjTL_W",
        "colab_type": "text"
      },
      "source": [
        "**10.Determinar para qué fechas es conveniente comprar usando la técnica de doble franja Bollinger.**\n",
        "\n",
        "Para EC:"
      ]
    },
    {
      "cell_type": "code",
      "metadata": {
        "id": "_sqf5Q_uuY8v",
        "colab_type": "code",
        "colab": {}
      },
      "source": [
        ""
      ],
      "execution_count": 0,
      "outputs": []
    },
    {
      "cell_type": "markdown",
      "metadata": {
        "id": "XpRbQUbZug9u",
        "colab_type": "text"
      },
      "source": [
        "Para AVH:"
      ]
    },
    {
      "cell_type": "code",
      "metadata": {
        "id": "S9BIi8X-ufJI",
        "colab_type": "code",
        "colab": {}
      },
      "source": [
        ""
      ],
      "execution_count": 0,
      "outputs": []
    },
    {
      "cell_type": "markdown",
      "metadata": {
        "id": "umNkSmwTuiRf",
        "colab_type": "text"
      },
      "source": [
        "Para AVA:"
      ]
    },
    {
      "cell_type": "code",
      "metadata": {
        "id": "Fm2EzMIGufuH",
        "colab_type": "code",
        "colab": {}
      },
      "source": [
        ""
      ],
      "execution_count": 0,
      "outputs": []
    },
    {
      "cell_type": "markdown",
      "metadata": {
        "id": "n12C_guHTpOC",
        "colab_type": "text"
      },
      "source": [
        "**11.Determinar para qué fechas es conveniente vender en corto la técnica de doble franja Bollinger.**\n",
        "\n",
        "Para EC:"
      ]
    },
    {
      "cell_type": "code",
      "metadata": {
        "id": "NfV4kOj-uZcd",
        "colab_type": "code",
        "colab": {}
      },
      "source": [
        ""
      ],
      "execution_count": 0,
      "outputs": []
    },
    {
      "cell_type": "markdown",
      "metadata": {
        "id": "-yWOv4iTurO9",
        "colab_type": "text"
      },
      "source": [
        "Para AVH:"
      ]
    },
    {
      "cell_type": "code",
      "metadata": {
        "id": "nUCWKuZOusLJ",
        "colab_type": "code",
        "colab": {}
      },
      "source": [
        ""
      ],
      "execution_count": 0,
      "outputs": []
    },
    {
      "cell_type": "markdown",
      "metadata": {
        "id": "5WBNZxRcusoZ",
        "colab_type": "text"
      },
      "source": [
        "Para AVA:"
      ]
    },
    {
      "cell_type": "code",
      "metadata": {
        "id": "jEnwdctSutDi",
        "colab_type": "code",
        "colab": {}
      },
      "source": [
        ""
      ],
      "execution_count": 0,
      "outputs": []
    }
  ]
}