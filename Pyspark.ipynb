{
  "nbformat": 4,
  "nbformat_minor": 0,
  "metadata": {
    "colab": {
      "name": "Pyspark.ipynb",
      "provenance": [],
      "collapsed_sections": [],
      "authorship_tag": "ABX9TyMmFK7setDGjpbOZ447F/GW",
      "include_colab_link": true
    },
    "kernelspec": {
      "name": "python3",
      "display_name": "Python 3"
    }
  },
  "cells": [
    {
      "cell_type": "markdown",
      "metadata": {
        "id": "view-in-github",
        "colab_type": "text"
      },
      "source": [
        "<a href=\"https://colab.research.google.com/github/NicoPatalagua/BigData/blob/master/Pyspark.ipynb\" target=\"_parent\"><img src=\"https://colab.research.google.com/assets/colab-badge.svg\" alt=\"Open In Colab\"/></a>"
      ]
    },
    {
      "cell_type": "markdown",
      "metadata": {
        "id": "M8iD5vBYYzfh",
        "colab_type": "text"
      },
      "source": [
        "# Proyecto \n",
        "## Procesamiento distribuido con Pyspark\n",
        "\n",
        "### Paula Oviedo - Nicolás Patalagua"
      ]
    },
    {
      "cell_type": "code",
      "metadata": {
        "id": "oKAX5L1HYscE",
        "colab_type": "code",
        "outputId": "e81be3e1-42d8-4a2b-e5e6-b8836d3bdd2b",
        "colab": {
          "base_uri": "https://localhost:8080/",
          "height": 350
        }
      },
      "source": [
        "!apt-get install openjdk-8-jdk-headless -qq > /dev/null\n",
        "!wget -q http://apache.osuosl.org/spark/spark-2.4.5/spark-2.4.5-bin-hadoop2.7.tgz\n",
        "!tar xf spark-2.4.5-bin-hadoop2.7.tgz\n",
        "!pip install -q findspark\n",
        "!pip install pyspark\n",
        "import os\n",
        "os.environ[\"JAVA_HOME\"] = \"/usr/lib/jvm/java-8-openjdk-amd64\"\n",
        "os.environ[\"SPARK_HOME\"] = \"/content/spark-2.4.5-bin-hadoop2.7\"\n",
        "\n",
        "from google.colab import drive\n",
        "drive.mount('/content/gdrive')\n",
        "from pyspark import SparkConf, SparkContext\n",
        "conf = SparkConf().setAppName(\"app\")\n",
        "sc = SparkContext.getOrCreate();"
      ],
      "execution_count": 0,
      "outputs": [
        {
          "output_type": "stream",
          "text": [
            "Collecting pyspark\n",
            "\u001b[?25l  Downloading https://files.pythonhosted.org/packages/9a/5a/271c416c1c2185b6cb0151b29a91fff6fcaed80173c8584ff6d20e46b465/pyspark-2.4.5.tar.gz (217.8MB)\n",
            "\u001b[K     |████████████████████████████████| 217.8MB 57kB/s \n",
            "\u001b[?25hCollecting py4j==0.10.7\n",
            "\u001b[?25l  Downloading https://files.pythonhosted.org/packages/e3/53/c737818eb9a7dc32a7cd4f1396e787bd94200c3997c72c1dbe028587bd76/py4j-0.10.7-py2.py3-none-any.whl (197kB)\n",
            "\u001b[K     |████████████████████████████████| 204kB 54.1MB/s \n",
            "\u001b[?25hBuilding wheels for collected packages: pyspark\n",
            "  Building wheel for pyspark (setup.py) ... \u001b[?25l\u001b[?25hdone\n",
            "  Created wheel for pyspark: filename=pyspark-2.4.5-py2.py3-none-any.whl size=218257927 sha256=b1fd45cfae916c5a17ca32378393e38afde5d1fe7293315fdb5c5a221e92ef4c\n",
            "  Stored in directory: /root/.cache/pip/wheels/bf/db/04/61d66a5939364e756eb1c1be4ec5bdce6e04047fc7929a3c3c\n",
            "Successfully built pyspark\n",
            "Installing collected packages: py4j, pyspark\n",
            "Successfully installed py4j-0.10.7 pyspark-2.4.5\n",
            "Go to this URL in a browser: https://accounts.google.com/o/oauth2/auth?client_id=947318989803-6bn6qk8qdgf4n4g3pfee6491hc0brc4i.apps.googleusercontent.com&redirect_uri=urn%3aietf%3awg%3aoauth%3a2.0%3aoob&response_type=code&scope=email%20https%3a%2f%2fwww.googleapis.com%2fauth%2fdocs.test%20https%3a%2f%2fwww.googleapis.com%2fauth%2fdrive%20https%3a%2f%2fwww.googleapis.com%2fauth%2fdrive.photos.readonly%20https%3a%2f%2fwww.googleapis.com%2fauth%2fpeopleapi.readonly\n",
            "\n",
            "Enter your authorization code:\n",
            "··········\n",
            "Mounted at /content/gdrive\n"
          ],
          "name": "stdout"
        }
      ]
    },
    {
      "cell_type": "code",
      "metadata": {
        "id": "kgKhC0O2auPF",
        "colab_type": "code",
        "outputId": "f02eb96e-5a16-4452-8e4c-17fb80d685d5",
        "colab": {
          "base_uri": "https://localhost:8080/",
          "height": 228
        }
      },
      "source": [
        "!wget https://bigdata20192.s3.amazonaws.com/uk-housing-prices-paid.zip"
      ],
      "execution_count": 0,
      "outputs": [
        {
          "output_type": "stream",
          "text": [
            "--2020-04-03 00:22:48--  https://bigdata20192.s3.amazonaws.com/uk-housing-prices-paid.zip\n",
            "Resolving bigdata20192.s3.amazonaws.com (bigdata20192.s3.amazonaws.com)... 52.216.24.60\n",
            "Connecting to bigdata20192.s3.amazonaws.com (bigdata20192.s3.amazonaws.com)|52.216.24.60|:443... connected.\n",
            "HTTP request sent, awaiting response... 200 OK\n",
            "Length: 796204510 (759M) [application/zip]\n",
            "Saving to: ‘uk-housing-prices-paid.zip’\n",
            "\n",
            "uk-housing-prices-p 100%[===================>] 759.32M  59.7MB/s    in 11s     \n",
            "\n",
            "2020-04-03 00:22:59 (69.7 MB/s) - ‘uk-housing-prices-paid.zip’ saved [796204510/796204510]\n",
            "\n"
          ],
          "name": "stdout"
        }
      ]
    },
    {
      "cell_type": "code",
      "metadata": {
        "id": "dkUbo_aXayNE",
        "colab_type": "code",
        "outputId": "c8f064ad-120a-4901-a855-344dedf403da",
        "colab": {
          "base_uri": "https://localhost:8080/",
          "height": 69
        }
      },
      "source": [
        "!unzip uk-housing-prices-paid.zip"
      ],
      "execution_count": 0,
      "outputs": [
        {
          "output_type": "stream",
          "text": [
            "Archive:  uk-housing-prices-paid.zip\n",
            "replace price_paid_records.csv? [y]es, [n]o, [A]ll, [N]one, [r]ename: y\n",
            "  inflating: price_paid_records.csv  \n"
          ],
          "name": "stdout"
        }
      ]
    },
    {
      "cell_type": "code",
      "metadata": {
        "id": "8fZ7uqBZlYIt",
        "colab_type": "code",
        "colab": {}
      },
      "source": [
        "path= \"price_paid_records.csv\"\n",
        "ObjDt= sc.textFile(path)\n",
        "ObjDt.take(20)"
      ],
      "execution_count": 0,
      "outputs": []
    },
    {
      "cell_type": "markdown",
      "metadata": {
        "id": "EGMIGVNHZKhr",
        "colab_type": "text"
      },
      "source": [
        "#### 1. Número de casas vendidas por año:"
      ]
    },
    {
      "cell_type": "code",
      "metadata": {
        "id": "wwqbA2PXbfPB",
        "colab_type": "code",
        "colab": {}
      },
      "source": [
        "def Mapper1():\n",
        "  for i in sys.stdin:\n",
        "    ObjDt=re.split(\",\",i)\n",
        "    ObjDate=str(ObjDt[2]).split(\"-\")\n",
        "    if len(ObjDt)!=0:\n",
        "      print(ObjDate[0]+\"\\t\"+\"1\")"
      ],
      "execution_count": 0,
      "outputs": []
    },
    {
      "cell_type": "code",
      "metadata": {
        "id": "P4eA2vOBcQQ5",
        "colab_type": "code",
        "colab": {}
      },
      "source": [
        "def Reduce1():\n",
        "  ObjCont=0\n",
        "  ObjLast=\"\"\n",
        "  for j in sys.stdin:\n",
        "    ObjDt=i.split()\n",
        "    if ObjDt[0]!=\"Date of Transfer\":\n",
        "      ObjCont=ObjCont+int(ObjDt[1])\n",
        "      ObjLast=ObjDt[0]\n",
        "    else:\n",
        "      print(ObjLast+\"\\t\"+str(ObjCont))\n",
        "      ObjCont=0\n",
        "      ObjLast=ObjDt[0]\n",
        "  print(ObjLast+\"\\t\"+str(ObjCont))"
      ],
      "execution_count": 0,
      "outputs": []
    },
    {
      "cell_type": "markdown",
      "metadata": {
        "id": "x8DykGQNZQki",
        "colab_type": "text"
      },
      "source": [
        "#### 2. Precio promedio de las casas en cada ciudad:"
      ]
    },
    {
      "cell_type": "code",
      "metadata": {
        "id": "1TgOcpIhnw5F",
        "colab_type": "code",
        "colab": {}
      },
      "source": [
        "def mapper2(i):\n",
        "    ObjDt=i.split(\",\")\n",
        "    ObjCity=ObjDt[6]\n",
        "    ObjPrice=ObjDt[1]\n",
        "    return (ObjCity,(float(ObjPrice),float(1)))"
      ],
      "execution_count": 0,
      "outputs": []
    },
    {
      "cell_type": "code",
      "metadata": {
        "id": "QFfZMPmVn0NI",
        "colab_type": "code",
        "colab": {}
      },
      "source": [
        "ObjMapper=ObjDt.map(lambda Obj: mapper2(Obj))\n",
        "ObjMapper.take(7)\n",
        "ObjMapper=ObjMapper.reduceByKey(lambda i,j:(i[0]+j[0],i[1]+j[1]))\n",
        "ObjMapper.take(7)"
      ],
      "execution_count": 0,
      "outputs": []
    },
    {
      "cell_type": "code",
      "metadata": {
        "id": "iDtyG0kVoTkh",
        "colab_type": "code",
        "colab": {}
      },
      "source": [
        "ObjMean=ObjMapper.map(lambda i:(i[0],i[1][0]/i[1][1]))\n",
        "ObjMean.take(10)\n",
        "ObjMean=ObjMean.sortByKey()\n",
        "ObjMean.take(100)"
      ],
      "execution_count": 0,
      "outputs": []
    },
    {
      "cell_type": "code",
      "metadata": {
        "id": "PXK2cbYvoX6d",
        "colab_type": "code",
        "colab": {}
      },
      "source": [
        "ObjMean.saveAsTextFile(\"s3://nicopatalagua/AnswerMean2\")"
      ],
      "execution_count": 0,
      "outputs": []
    },
    {
      "cell_type": "markdown",
      "metadata": {
        "id": "QagTQBq1ZXXi",
        "colab_type": "text"
      },
      "source": [
        "#### 3. Casa con menor precio por ciudad:"
      ]
    },
    {
      "cell_type": "markdown",
      "metadata": {
        "id": "Ak5V6f7iZbR8",
        "colab_type": "text"
      },
      "source": [
        "#### 4. Listado de precios de menor a mayor en la ciudad de STAMFORD para 2015:"
      ]
    },
    {
      "cell_type": "code",
      "metadata": {
        "id": "ETSgk3BLsiKi",
        "colab_type": "code",
        "colab": {}
      },
      "source": [
        "def mapper4(i):\n",
        "    ObjPrice=ObjDt[1]\n",
        "    ObjCity=ObjDt[6]\n",
        "    ObjYear=ObjDt[2]\n",
        "    ObjYear=ObjYear[0:4]\n",
        "    if(ObjCity==\"STAMFORD\" and ObjYear==\"2015\"):\n",
        "        return (ObjCity, int(ObjPrice))\n",
        "    return \"OtherCity\""
      ],
      "execution_count": 0,
      "outputs": []
    },
    {
      "cell_type": "code",
      "metadata": {
        "id": "N_8Og7LBto9t",
        "colab_type": "code",
        "colab": {}
      },
      "source": [
        "ObjMapper=ObjDt.map(lambda Obj: mapper4(Obj))\n",
        "ObjMapper.take(7)\n",
        "ObjStamford=ObjMapper.filter(lambda Obj:\"OtherCity\" not in Obj)\n",
        "ObjStamford.take(15)\n",
        "ObjStamford1=ObjStamford.map(lambda Obj:(Obj[1],Obj[0]))\n",
        "ObjStamford1.take(10)\n",
        "ObjStamfordPrice=ObjStamford1.sortByKey()\n",
        "ObjStamfordPrice.take(100)"
      ],
      "execution_count": 0,
      "outputs": []
    },
    {
      "cell_type": "code",
      "metadata": {
        "id": "98WdtO--ty6o",
        "colab_type": "code",
        "colab": {}
      },
      "source": [
        "ObjStanfordPrice.saveAsTextFile(\"s3://nicopatalagua/AnswerStamford5\")"
      ],
      "execution_count": 0,
      "outputs": []
    },
    {
      "cell_type": "markdown",
      "metadata": {
        "id": "MubQY0T-ZgYt",
        "colab_type": "text"
      },
      "source": [
        "#### 5. Mes con mayor número de ventas en cada año:"
      ]
    },
    {
      "cell_type": "markdown",
      "metadata": {
        "id": "OPnNxFm5bWs7",
        "colab_type": "text"
      },
      "source": [
        "#### 6. Conteo de condados  con el respectivo número de ciudades:"
      ]
    },
    {
      "cell_type": "code",
      "metadata": {
        "id": "LlIWDZfNuSiu",
        "colab_type": "code",
        "colab": {}
      },
      "source": [
        "def mapper6(i):\n",
        "    ObjDt=i.split(\",\")\n",
        "    ObjCity=ObjDt[6]\n",
        "    ObjCountry=ObjDt[8]\n",
        "    return (ObjCountry,ObjCity)"
      ],
      "execution_count": 0,
      "outputs": []
    },
    {
      "cell_type": "code",
      "metadata": {
        "id": "fEw7hek8uT31",
        "colab_type": "code",
        "colab": {}
      },
      "source": [
        "ObjMapper=ObjDt.map(lambda Obj: mapper6(Obj))\n",
        "ObjMapper.take(10)\n",
        "ObjMapper1=ObjMapper.distinct()\n",
        "ObjMapper1.take(10)"
      ],
      "execution_count": 0,
      "outputs": []
    },
    {
      "cell_type": "code",
      "metadata": {
        "id": "qiJggSZkuYWH",
        "colab_type": "code",
        "colab": {}
      },
      "source": [
        "ObjCondado=ObjMapper1.map(lambda Obj:[Obj[1],1])\n",
        "ObjCondado.take(10)\n",
        "ObjCondado1=ObjCondado.reduceByKey(lambda i,j:i+j)\n",
        "ObjCondado1.take(5)"
      ],
      "execution_count": 0,
      "outputs": []
    },
    {
      "cell_type": "code",
      "metadata": {
        "id": "JLUOyMb-31eE",
        "colab_type": "code",
        "colab": {}
      },
      "source": [
        "ObjConteo=ObjCondado1.map(lambda Obj:[Obj[1],1])\n",
        "ObjConteo.take(10)\n",
        "\n",
        "ObjConteoAnswer=ObjConteo.sortByKey()\n",
        "ObjConteoAnswer.take(100)"
      ],
      "execution_count": 0,
      "outputs": []
    },
    {
      "cell_type": "code",
      "metadata": {
        "id": "VnloulP835-b",
        "colab_type": "code",
        "colab": {}
      },
      "source": [
        "ObjConteoAnswer.saveAsTextFile(\"s3://nicopatalagua/Answer6\")"
      ],
      "execution_count": 0,
      "outputs": []
    },
    {
      "cell_type": "code",
      "metadata": {
        "id": "0YxTrY7I9Ht0",
        "colab_type": "code",
        "colab": {}
      },
      "source": [
        "def Mapper4(i):\n",
        "  ObjIf= i.split(\",\")\n",
        "  ObjYear= ObjIf[2].split(\"\")[0].strip()\n",
        "  ObjName= ObjIf[6].strip()\n",
        "  if ObjYear == \"2015\" and ObjName == \"STAMFORD\":\n",
        "      return True\n",
        "ObjAnswer4=ObjDt.filter(Mapper4).map(lambda x:(float(x.split(\",\")[1]),1)).sortByKey()\n",
        "ObjAnswer4.take(10)\n",
        "ObjAnswer4.saveAsTextFile(\"s3://nicopatalagua/Answer4\")"
      ],
      "execution_count": 0,
      "outputs": []
    },
    {
      "cell_type": "code",
      "metadata": {
        "id": "9BLhbS7u9HXd",
        "colab_type": "code",
        "colab": {}
      },
      "source": [
        ""
      ],
      "execution_count": 0,
      "outputs": []
    }
  ]
}