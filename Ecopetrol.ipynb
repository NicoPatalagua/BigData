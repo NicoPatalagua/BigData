{
  "nbformat": 4,
  "nbformat_minor": 0,
  "metadata": {
    "kernelspec": {
      "display_name": "Python 2",
      "language": "python",
      "name": "python2"
    },
    "language_info": {
      "codemirror_mode": {
        "name": "ipython",
        "version": 2
      },
      "file_extension": ".py",
      "mimetype": "text/x-python",
      "name": "python",
      "nbconvert_exporter": "python",
      "pygments_lexer": "ipython2",
      "version": "2.7.15+"
    },
    "colab": {
      "name": "Ecopetrol.ipynb",
      "provenance": [],
      "include_colab_link": true
    }
  },
  "cells": [
    {
      "cell_type": "markdown",
      "metadata": {
        "id": "view-in-github",
        "colab_type": "text"
      },
      "source": [
        "<a href=\"https://colab.research.google.com/github/NicoPatalagua/BigData/blob/master/Ecopetrol.ipynb\" target=\"_parent\"><img src=\"https://colab.research.google.com/assets/colab-badge.svg\" alt=\"Open In Colab\"/></a>"
      ]
    },
    {
      "cell_type": "code",
      "metadata": {
        "id": "AVWmtR5Kr39G",
        "colab_type": "code",
        "outputId": "e6eb5253-c640-4b1a-e635-d5ba8781b247",
        "colab": {
          "base_uri": "https://localhost:8080/",
          "height": 54
        }
      },
      "source": [
        "!apt-get install openjdk-8-jdk-headless -qq > /dev/null\n",
        "!wget -q http://apache.osuosl.org/spark/spark-2.4.5/spark-2.4.5-bin-hadoop2.7.tgz\n",
        "!tar xf spark-2.4.5-bin-hadoop2.7.tgz\n",
        "!pip install -q findspark\n",
        "!pip install pyspark"
      ],
      "execution_count": 0,
      "outputs": [
        {
          "output_type": "stream",
          "text": [
            "Requirement already satisfied: pyspark in /usr/local/lib/python2.7/dist-packages (2.4.5)\n",
            "Requirement already satisfied: py4j==0.10.7 in /usr/local/lib/python2.7/dist-packages (from pyspark) (0.10.7)\n"
          ],
          "name": "stdout"
        }
      ]
    },
    {
      "cell_type": "code",
      "metadata": {
        "id": "i4xh99D8vlPe",
        "colab_type": "code",
        "colab": {}
      },
      "source": [
        "import os\n",
        "os.environ[\"JAVA_HOME\"] = \"/usr/lib/jvm/java-8-openjdk-amd64\"\n",
        "os.environ[\"SPARK_HOME\"] = \"/content/spark-2.4.5-bin-hadoop2.7\""
      ],
      "execution_count": 0,
      "outputs": []
    },
    {
      "cell_type": "code",
      "metadata": {
        "id": "vw3WHZZBvnOh",
        "colab_type": "code",
        "colab": {}
      },
      "source": [
        "from google.colab import drive\n",
        "drive.mount('/content/gdrive')\n",
        "from pyspark import SparkConf, SparkContext\n",
        "conf = SparkConf().setAppName(\"app\")\n",
        "sc = SparkContext.getOrCreate();"
      ],
      "execution_count": 0,
      "outputs": []
    },
    {
      "cell_type": "code",
      "metadata": {
        "id": "TLacSK-4q_jt",
        "colab_type": "code",
        "colab": {}
      },
      "source": [
        "from pyspark.sql import SparkSession"
      ],
      "execution_count": 0,
      "outputs": []
    },
    {
      "cell_type": "code",
      "metadata": {
        "id": "lblT1uqfq_j9",
        "colab_type": "code",
        "colab": {}
      },
      "source": [
        "spark =  SparkSession.builder.appName(\"test\").getOrCreate()"
      ],
      "execution_count": 0,
      "outputs": []
    },
    {
      "cell_type": "code",
      "metadata": {
        "id": "gzaK0xHgq_kK",
        "colab_type": "code",
        "colab": {}
      },
      "source": [
        "df = spark.read.csv(\"EC.csv\", header=True, inferSchema=True)\n",
        "df.printSchema()"
      ],
      "execution_count": 0,
      "outputs": []
    },
    {
      "cell_type": "code",
      "metadata": {
        "id": "cxvuE5wosb5p",
        "colab_type": "code",
        "colab": {}
      },
      "source": [
        "df = spark.read.csv(\"EC.csv\", header=True, inferSchema=True).limit(50)"
      ],
      "execution_count": 0,
      "outputs": []
    },
    {
      "cell_type": "code",
      "metadata": {
        "id": "4X2DrAUfq_kV",
        "colab_type": "code",
        "colab": {}
      },
      "source": [
        "from pyspark.sql.window import Window\n",
        "from pyspark.sql import functions as f"
      ],
      "execution_count": 0,
      "outputs": []
    },
    {
      "cell_type": "code",
      "metadata": {
        "id": "AVhhzniOq_kc",
        "colab_type": "code",
        "colab": {}
      },
      "source": [
        "w = Window.orderBy('Date')"
      ],
      "execution_count": 0,
      "outputs": []
    },
    {
      "cell_type": "code",
      "metadata": {
        "id": "ZnnL_MDWq_kl",
        "colab_type": "code",
        "colab": {}
      },
      "source": [
        "df2 = df.select(\"Close\", f.lag('Close').over(w).alias(\"ClosePrev\"))\n",
        "df2 = df2.select(\"Close\", \"ClosePrev\", df2.Close - df2.ClosePrev)"
      ],
      "execution_count": 0,
      "outputs": []
    },
    {
      "cell_type": "code",
      "metadata": {
        "id": "x2jo2Dbwq_kr",
        "colab_type": "code",
        "outputId": "6528ee5d-a20b-4dad-edfd-306851eb647b",
        "colab": {}
      },
      "source": [
        "df2.show()"
      ],
      "execution_count": 0,
      "outputs": [
        {
          "output_type": "stream",
          "text": [
            "+---------+---------+--------------------+\n",
            "|    Close|ClosePrev| (Close - ClosePrev)|\n",
            "+---------+---------+--------------------+\n",
            "|21.879999|     null|                null|\n",
            "|    21.84|21.879999|-0.03999900000000167|\n",
            "|    21.83|    21.84|-0.01000000000000...|\n",
            "|     21.4|    21.83| -0.4299999999999997|\n",
            "|    21.58|     21.4| 0.17999999999999972|\n",
            "|21.969999|    21.58|  0.3899990000000031|\n",
            "|21.610001|21.969999|-0.35999800000000093|\n",
            "|21.860001|21.610001|                0.25|\n",
            "|    21.32|21.860001| -0.5400010000000002|\n",
            "|     21.0|    21.32| -0.3200000000000003|\n",
            "|20.559999|     21.0|-0.44000099999999875|\n",
            "|20.639999|20.559999|  0.0799999999999983|\n",
            "|    20.32|20.639999|-0.31999899999999926|\n",
            "|     19.9|    20.32| -0.4200000000000017|\n",
            "|20.809999|     19.9|  0.9099990000000027|\n",
            "|    19.42|20.809999| -1.3899989999999995|\n",
            "|18.870001|    19.42| -0.5499990000000032|\n",
            "|18.889999|18.870001| 0.01999800000000107|\n",
            "|    18.58|18.889999|-0.30999900000000125|\n",
            "|    18.51|    18.58|-0.06999999999999673|\n",
            "+---------+---------+--------------------+\n",
            "only showing top 20 rows\n",
            "\n"
          ],
          "name": "stdout"
        }
      ]
    },
    {
      "cell_type": "code",
      "metadata": {
        "id": "QFhxnTTOq_kv",
        "colab_type": "code",
        "colab": {}
      },
      "source": [
        ""
      ],
      "execution_count": 0,
      "outputs": []
    }
  ]
}