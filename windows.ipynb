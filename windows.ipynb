{
  "nbformat": 4,
  "nbformat_minor": 0,
  "metadata": {
    "kernelspec": {
      "display_name": "Python 2",
      "language": "python",
      "name": "python2"
    },
    "language_info": {
      "codemirror_mode": {
        "name": "ipython",
        "version": 2
      },
      "file_extension": ".py",
      "mimetype": "text/x-python",
      "name": "python",
      "nbconvert_exporter": "python",
      "pygments_lexer": "ipython2",
      "version": "2.7.15+"
    },
    "colab": {
      "name": "windows.ipynb",
      "provenance": [],
      "include_colab_link": true
    }
  },
  "cells": [
    {
      "cell_type": "markdown",
      "metadata": {
        "id": "view-in-github",
        "colab_type": "text"
      },
      "source": [
        "<a href=\"https://colab.research.google.com/github/NicoPatalagua/BigData/blob/master/windows.ipynb\" target=\"_parent\"><img src=\"https://colab.research.google.com/assets/colab-badge.svg\" alt=\"Open In Colab\"/></a>"
      ]
    },
    {
      "cell_type": "code",
      "metadata": {
        "id": "48SYyPy7TBJ5",
        "colab_type": "code",
        "colab": {}
      },
      "source": [
        "from pyspark.sql import SparkSession"
      ],
      "execution_count": 0,
      "outputs": []
    },
    {
      "cell_type": "code",
      "metadata": {
        "id": "e3BJ2Jl1TBKB",
        "colab_type": "code",
        "colab": {}
      },
      "source": [
        "spark =  SparkSession.builder.appName(\"test\").getOrCreate()"
      ],
      "execution_count": 0,
      "outputs": []
    },
    {
      "cell_type": "code",
      "metadata": {
        "id": "bQsY0ZBdTBKI",
        "colab_type": "code",
        "colab": {},
        "outputId": "54a62c81-bd5b-4df4-e786-d6e7c6f4f57f"
      },
      "source": [
        "df = spark.read.csv(\"EC.csv\", header=True, inferSchema=True)\n",
        "df.printSchema()"
      ],
      "execution_count": 0,
      "outputs": [
        {
          "output_type": "stream",
          "text": [
            "root\n",
            " |-- Date: timestamp (nullable = true)\n",
            " |-- Open: double (nullable = true)\n",
            " |-- High: double (nullable = true)\n",
            " |-- Low: double (nullable = true)\n",
            " |-- Close: double (nullable = true)\n",
            " |-- Adj Close: double (nullable = true)\n",
            " |-- Volume: integer (nullable = true)\n",
            "\n"
          ],
          "name": "stdout"
        }
      ]
    },
    {
      "cell_type": "code",
      "metadata": {
        "id": "bnJwJ-NxTBKO",
        "colab_type": "code",
        "colab": {}
      },
      "source": [
        "from pyspark.sql.window import Window\n",
        "from pyspark.sql import functions as f"
      ],
      "execution_count": 0,
      "outputs": []
    },
    {
      "cell_type": "code",
      "metadata": {
        "id": "C60M0QMkTBKU",
        "colab_type": "code",
        "colab": {}
      },
      "source": [
        "w = Window.orderBy('Date')"
      ],
      "execution_count": 0,
      "outputs": []
    },
    {
      "cell_type": "code",
      "metadata": {
        "id": "aU5SEGhyTBKZ",
        "colab_type": "code",
        "colab": {}
      },
      "source": [
        "df2 = df.select(\"Close\", f.lag('Close').over(w).alias(\"ClosePrev\"))\n",
        "df2 = df2.select(\"Close\", \"ClosePrev\", df2.Close - df2.ClosePrev)"
      ],
      "execution_count": 0,
      "outputs": []
    },
    {
      "cell_type": "code",
      "metadata": {
        "id": "kempO5P0TBKf",
        "colab_type": "code",
        "colab": {},
        "outputId": "55fe121b-de7f-436b-d7c9-b011cb54f4e2"
      },
      "source": [
        "df2.show()"
      ],
      "execution_count": 0,
      "outputs": [
        {
          "output_type": "stream",
          "text": [
            "+---------+---------+--------------------+\n",
            "|    Close|ClosePrev| (Close - ClosePrev)|\n",
            "+---------+---------+--------------------+\n",
            "|21.879999|     null|                null|\n",
            "|    21.84|21.879999|-0.03999900000000167|\n",
            "|    21.83|    21.84|-0.01000000000000...|\n",
            "|     21.4|    21.83| -0.4299999999999997|\n",
            "|    21.58|     21.4| 0.17999999999999972|\n",
            "|21.969999|    21.58|  0.3899990000000031|\n",
            "|21.610001|21.969999|-0.35999800000000093|\n",
            "|21.860001|21.610001|                0.25|\n",
            "|    21.32|21.860001| -0.5400010000000002|\n",
            "|     21.0|    21.32| -0.3200000000000003|\n",
            "|20.559999|     21.0|-0.44000099999999875|\n",
            "|20.639999|20.559999|  0.0799999999999983|\n",
            "|    20.32|20.639999|-0.31999899999999926|\n",
            "|     19.9|    20.32| -0.4200000000000017|\n",
            "|20.809999|     19.9|  0.9099990000000027|\n",
            "|    19.42|20.809999| -1.3899989999999995|\n",
            "|18.870001|    19.42| -0.5499990000000032|\n",
            "|18.889999|18.870001| 0.01999800000000107|\n",
            "|    18.58|18.889999|-0.30999900000000125|\n",
            "|    18.51|    18.58|-0.06999999999999673|\n",
            "+---------+---------+--------------------+\n",
            "only showing top 20 rows\n",
            "\n"
          ],
          "name": "stdout"
        }
      ]
    },
    {
      "cell_type": "code",
      "metadata": {
        "id": "TFtmfdJ6TBKl",
        "colab_type": "code",
        "colab": {}
      },
      "source": [
        ""
      ],
      "execution_count": 0,
      "outputs": []
    }
  ]
}