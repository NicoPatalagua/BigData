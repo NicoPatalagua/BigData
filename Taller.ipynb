{
  "nbformat": 4,
  "nbformat_minor": 0,
  "metadata": {
    "kernelspec": {
      "display_name": "Python 3",
      "language": "python",
      "name": "python3"
    },
    "language_info": {
      "codemirror_mode": {
        "name": "ipython",
        "version": 3
      },
      "file_extension": ".py",
      "mimetype": "text/x-python",
      "name": "python",
      "nbconvert_exporter": "python",
      "pygments_lexer": "ipython3",
      "version": "3.7.3"
    },
    "colab": {
      "name": "Taller.ipynb",
      "provenance": [],
      "collapsed_sections": []
    }
  },
  "cells": [
    {
      "cell_type": "markdown",
      "metadata": {
        "id": "3WvJuwFwStWY",
        "colab_type": "text"
      },
      "source": [
        "# Infraestructura para Bigdata"
      ]
    },
    {
      "cell_type": "markdown",
      "metadata": {
        "id": "xKN_fT6GStWe",
        "colab_type": "text"
      },
      "source": [
        "## Programación funcional con python\n",
        "### Nicolás Patalagua Suárez"
      ]
    },
    {
      "cell_type": "markdown",
      "metadata": {
        "id": "V0sAyhg3VGxR",
        "colab_type": "text"
      },
      "source": [
        "*Importamos las librerias a ser usadas*"
      ]
    },
    {
      "cell_type": "code",
      "metadata": {
        "id": "xEo1PYQpVMcv",
        "colab_type": "code",
        "colab": {}
      },
      "source": [
        "import math\n",
        "from functools import reduce"
      ],
      "execution_count": 0,
      "outputs": []
    },
    {
      "cell_type": "markdown",
      "metadata": {
        "id": "xBtLIg3iStWh",
        "colab_type": "text"
      },
      "source": [
        "**1.** Genere una lista con los números del 1 al 20."
      ]
    },
    {
      "cell_type": "code",
      "metadata": {
        "id": "iHE9EhSIStWk",
        "colab_type": "code",
        "outputId": "2a164044-6083-4865-beb5-07a26f55ed46",
        "colab": {
          "base_uri": "https://localhost:8080/",
          "height": 35
        }
      },
      "source": [
        "y=list(range(1,21))\n",
        "y"
      ],
      "execution_count": 0,
      "outputs": [
        {
          "output_type": "execute_result",
          "data": {
            "text/plain": [
              "[1, 2, 3, 4, 5, 6, 7, 8, 9, 10, 11, 12, 13, 14, 15, 16, 17, 18, 19, 20]"
            ]
          },
          "metadata": {
            "tags": []
          },
          "execution_count": 267
        }
      ]
    },
    {
      "cell_type": "markdown",
      "metadata": {
        "id": "T8RUfmXkStWw",
        "colab_type": "text"
      },
      "source": [
        " *Lista donde se le aplique la siguiente función a cada elemento:\n",
        "g(x)=1/x^2*\n"
      ]
    },
    {
      "cell_type": "code",
      "metadata": {
        "id": "b5qHPCCVStWz",
        "colab_type": "code",
        "outputId": "7d279fad-3359-41c2-8453-13684199213c",
        "colab": {
          "base_uri": "https://localhost:8080/",
          "height": 55
        }
      },
      "source": [
        "r=[]\n",
        "for i in y:\n",
        "  r.append(1/(pow(i,2)))\n",
        "print(r)"
      ],
      "execution_count": 0,
      "outputs": [
        {
          "output_type": "stream",
          "text": [
            "[1.0, 0.25, 0.1111111111111111, 0.0625, 0.04, 0.027777777777777776, 0.02040816326530612, 0.015625, 0.012345679012345678, 0.01, 0.008264462809917356, 0.006944444444444444, 0.005917159763313609, 0.00510204081632653, 0.0044444444444444444, 0.00390625, 0.0034602076124567475, 0.0030864197530864196, 0.002770083102493075, 0.0025]\n"
          ],
          "name": "stdout"
        }
      ]
    },
    {
      "cell_type": "markdown",
      "metadata": {
        "id": "NhSof17oStW6",
        "colab_type": "text"
      },
      "source": [
        "*Lista solo con los valores impares*"
      ]
    },
    {
      "cell_type": "code",
      "metadata": {
        "id": "ZdKhV7QhStW-",
        "colab_type": "code",
        "outputId": "5fbf4485-8563-446d-c9d9-d0d5fca65e11",
        "colab": {
          "base_uri": "https://localhost:8080/",
          "height": 35
        }
      },
      "source": [
        "Impares = [i for i in range(0,len(y)) if i%2!= 0]\n",
        "Impares"
      ],
      "execution_count": 0,
      "outputs": [
        {
          "output_type": "execute_result",
          "data": {
            "text/plain": [
              "[1, 3, 5, 7, 9, 11, 13, 15, 17, 19]"
            ]
          },
          "metadata": {
            "tags": []
          },
          "execution_count": 269
        }
      ]
    },
    {
      "cell_type": "markdown",
      "metadata": {
        "id": "CbLJeKamStXF",
        "colab_type": "text"
      },
      "source": [
        "*Lista con los múltiplos de 3*"
      ]
    },
    {
      "cell_type": "code",
      "metadata": {
        "id": "MLRWbRgwStXH",
        "colab_type": "code",
        "outputId": "acfbe6d9-a686-4b09-fd4d-be1a9e60fac0",
        "colab": {
          "base_uri": "https://localhost:8080/",
          "height": 35
        }
      },
      "source": [
        "multiplos = [i for i in range(0,len(y)) if i%3==0]\n",
        "multiplos"
      ],
      "execution_count": 0,
      "outputs": [
        {
          "output_type": "execute_result",
          "data": {
            "text/plain": [
              "[0, 3, 6, 9, 12, 15, 18]"
            ]
          },
          "metadata": {
            "tags": []
          },
          "execution_count": 270
        }
      ]
    },
    {
      "cell_type": "markdown",
      "metadata": {
        "id": "gxDDlUcZStXP",
        "colab_type": "text"
      },
      "source": [
        "**2**. Escribir una función es_primo que devuelva True si un número es primo o False encaso contrario."
      ]
    },
    {
      "cell_type": "code",
      "metadata": {
        "id": "EWO6Nro5StXR",
        "colab_type": "code",
        "outputId": "191791e6-b9d4-4649-99db-f0340875d9f9",
        "colab": {
          "base_uri": "https://localhost:8080/",
          "height": 54
        }
      },
      "source": [
        "def es_primo(n):\n",
        "    r= True\n",
        "    if n<1:\n",
        "        r =  False\n",
        "    elif n==2:\n",
        "        r = True\n",
        "    else:\n",
        "        for i in range(2,int(n/2)):\n",
        "            if n%i==0:\n",
        "                r = False\n",
        "    return r\n",
        "\n",
        "number=int(input('Write a number:'))\n",
        "resultado=es_primo(number)\n",
        "print(resultado)"
      ],
      "execution_count": 0,
      "outputs": [
        {
          "output_type": "stream",
          "text": [
            "Write a number:997\n",
            "True\n"
          ],
          "name": "stdout"
        }
      ]
    },
    {
      "cell_type": "markdown",
      "metadata": {
        "id": "QW2q2H7dStXZ",
        "colab_type": "text"
      },
      "source": [
        "**3.** Escribir una función que devuelva los números primos para un intervalo dado."
      ]
    },
    {
      "cell_type": "code",
      "metadata": {
        "id": "kuKfpRghStXb",
        "colab_type": "code",
        "outputId": "98367d37-6c21-41d4-f031-275221b4a0b9",
        "colab": {
          "base_uri": "https://localhost:8080/",
          "height": 72
        }
      },
      "source": [
        "def primos(x,y):\n",
        "    c=[]\n",
        "    for i in range(x,y):\n",
        "        if es_primo(i):\n",
        "            c.append(i)\n",
        "    print(c)\n",
        "\n",
        "a=int(input('Inicio intervalo:'))\n",
        "b=int(input('Fin intervalo:'))\n",
        "cd=primos(a,b)"
      ],
      "execution_count": 0,
      "outputs": [
        {
          "output_type": "stream",
          "text": [
            "Inicio intervalo:2\n",
            "Fin intervalo:20\n",
            "[2, 3, 4, 5, 7, 11, 13, 17, 19]\n"
          ],
          "name": "stdout"
        }
      ]
    },
    {
      "cell_type": "markdown",
      "metadata": {
        "id": "s8gcAOJaU0ru",
        "colab_type": "text"
      },
      "source": [
        "**4.** Escribir un generador que devuelva los n primeros números primos."
      ]
    },
    {
      "cell_type": "code",
      "metadata": {
        "id": "Mw1yJjoAStXn",
        "colab_type": "code",
        "outputId": "15717061-e2fc-4ebd-ba08-c58b0175b270",
        "colab": {
          "base_uri": "https://localhost:8080/",
          "height": 54
        }
      },
      "source": [
        "def primos(n):\n",
        "    a=n*n+2\n",
        "    b=[]\n",
        "    for i in range(2,a):\n",
        "          esprimo=True\n",
        "          for j in range(2,i):\n",
        "              if i%j==0:\n",
        "                  esprimo=False\n",
        "                  break\n",
        "          if esprimo and len(b)<n:\n",
        "                b.append(i)  \n",
        "    yield b\n",
        "\n",
        "f=int(input(\"Ingrese un número:\"))\n",
        "for z in primos(f):\n",
        "    print(z)"
      ],
      "execution_count": 0,
      "outputs": [
        {
          "output_type": "stream",
          "text": [
            "Ingrese un número:20\n",
            "[2, 3, 5, 7, 11, 13, 17, 19, 23, 29, 31, 37, 41, 43, 47, 53, 59, 61, 67, 71]\n"
          ],
          "name": "stdout"
        }
      ]
    },
    {
      "cell_type": "markdown",
      "metadata": {
        "id": "71QVUA6kIay1",
        "colab_type": "text"
      },
      "source": [
        "**5.**  Escribir una función sumatoria que reciba una función **f** y un valor límite **limit**."
      ]
    },
    {
      "cell_type": "code",
      "metadata": {
        "id": "89Z11cJkJNZ7",
        "colab_type": "code",
        "colab": {}
      },
      "source": [
        "def sumatoria(f,limit):\n",
        "  l=[]\n",
        "  for i in range(1, limit+1):\n",
        "    l.append(f(i))\n",
        "  print(l)\n",
        "  print(math.fsum(l))"
      ],
      "execution_count": 0,
      "outputs": []
    },
    {
      "cell_type": "markdown",
      "metadata": {
        "id": "yIKcFOPiJO6W",
        "colab_type": "text"
      },
      "source": [
        "**6.**Cree la función g que halle el cubo de un número. "
      ]
    },
    {
      "cell_type": "code",
      "metadata": {
        "id": "aLknAryzJVJA",
        "colab_type": "code",
        "colab": {}
      },
      "source": [
        "def g(x):\n",
        "  return pow(x,3)"
      ],
      "execution_count": 0,
      "outputs": []
    },
    {
      "cell_type": "markdown",
      "metadata": {
        "id": "ydsvhTIQJVdl",
        "colab_type": "text"
      },
      "source": [
        "**7.**Cree la función h.\n",
        "\n"
      ]
    },
    {
      "cell_type": "code",
      "metadata": {
        "id": "Tac8VnxmJjkG",
        "colab_type": "code",
        "colab": {}
      },
      "source": [
        "def h(x):\n",
        "  return 1/pow(x,2)"
      ],
      "execution_count": 0,
      "outputs": []
    },
    {
      "cell_type": "markdown",
      "metadata": {
        "id": "TQUg3RcXJkCT",
        "colab_type": "text"
      },
      "source": [
        "**8.Utilice las funciones anteriormente creadas en los puntos 5,6,7.**"
      ]
    },
    {
      "cell_type": "markdown",
      "metadata": {
        "id": "EpPkutdFJxqW",
        "colab_type": "text"
      },
      "source": [
        "*Función 1*"
      ]
    },
    {
      "cell_type": "code",
      "metadata": {
        "id": "bQwXp-sGnJCE",
        "colab_type": "code",
        "outputId": "c1ba9f0c-4a34-4975-df02-d06c32670ccc",
        "colab": {
          "base_uri": "https://localhost:8080/",
          "height": 54
        }
      },
      "source": [
        "f1=sumatoria(g,5)"
      ],
      "execution_count": 0,
      "outputs": [
        {
          "output_type": "stream",
          "text": [
            "[1, 8, 27, 64, 125]\n",
            "225.0\n"
          ],
          "name": "stdout"
        }
      ]
    },
    {
      "cell_type": "markdown",
      "metadata": {
        "id": "rDQRICV7J4np",
        "colab_type": "text"
      },
      "source": [
        "*Función 2*"
      ]
    },
    {
      "cell_type": "code",
      "metadata": {
        "id": "Yo-VnUUzvNB2",
        "colab_type": "code",
        "outputId": "4f03f8fe-f463-491d-991d-273148b964ff",
        "colab": {
          "base_uri": "https://localhost:8080/",
          "height": 54
        }
      },
      "source": [
        "f2=sumatoria(h,5)"
      ],
      "execution_count": 0,
      "outputs": [
        {
          "output_type": "stream",
          "text": [
            "[1.0, 0.25, 0.1111111111111111, 0.0625, 0.04]\n",
            "1.4636111111111112\n"
          ],
          "name": "stdout"
        }
      ]
    },
    {
      "cell_type": "markdown",
      "metadata": {
        "id": "hEZBEvlXJ9Iw",
        "colab_type": "text"
      },
      "source": [
        "**9.** Realice el ejercicio anterior utilizando funciones anónimas."
      ]
    },
    {
      "cell_type": "markdown",
      "metadata": {
        "id": "ImVO15k2zbvY",
        "colab_type": "text"
      },
      "source": [
        "*Función 1*"
      ]
    },
    {
      "cell_type": "code",
      "metadata": {
        "id": "DKVPAtGyzg8z",
        "colab_type": "code",
        "outputId": "93619daf-3f9d-42e3-a952-f14899ecf092",
        "colab": {
          "base_uri": "https://localhost:8080/",
          "height": 35
        }
      },
      "source": [
        "Funcion1=lambda a,l:[math.fsum(a(i) for i in range(1,l+1))]\n",
        "Funcion1(g,5)"
      ],
      "execution_count": 0,
      "outputs": [
        {
          "output_type": "execute_result",
          "data": {
            "text/plain": [
              "[225.0]"
            ]
          },
          "metadata": {
            "tags": []
          },
          "execution_count": 287
        }
      ]
    },
    {
      "cell_type": "markdown",
      "metadata": {
        "id": "LYDob21_zqR-",
        "colab_type": "text"
      },
      "source": [
        "*Función 2*"
      ]
    },
    {
      "cell_type": "code",
      "metadata": {
        "id": "JU8t60xpKDl3",
        "colab_type": "code",
        "outputId": "1fc95c23-9cc5-42f6-a37b-1e0d338a8782",
        "colab": {
          "base_uri": "https://localhost:8080/",
          "height": 35
        }
      },
      "source": [
        "Funcion2=lambda a,l:[math.fsum(a(i) for i in range(1,l+1))]\n",
        "Funcion2(h,5)"
      ],
      "execution_count": 0,
      "outputs": [
        {
          "output_type": "execute_result",
          "data": {
            "text/plain": [
              "[1.4636111111111112]"
            ]
          },
          "metadata": {
            "tags": []
          },
          "execution_count": 289
        }
      ]
    },
    {
      "cell_type": "markdown",
      "metadata": {
        "id": "7Y0csE8XKD4D",
        "colab_type": "text"
      },
      "source": [
        "**10.**Realice lo ejercicios del punto 1 utilizando las funciones map y filter según el caso."
      ]
    },
    {
      "cell_type": "markdown",
      "metadata": {
        "id": "EkF2tg0E1CR9",
        "colab_type": "text"
      },
      "source": [
        "*Función g(x):*"
      ]
    },
    {
      "cell_type": "code",
      "metadata": {
        "id": "w-CO1Znr1iiF",
        "colab_type": "code",
        "outputId": "759efc46-8a05-43b7-f0ef-fe2bfab2dfe9",
        "colab": {
          "base_uri": "https://localhost:8080/",
          "height": 385
        }
      },
      "source": [
        "list(map(h,y))"
      ],
      "execution_count": 0,
      "outputs": [
        {
          "output_type": "execute_result",
          "data": {
            "text/plain": [
              "[1.0,\n",
              " 0.25,\n",
              " 0.1111111111111111,\n",
              " 0.0625,\n",
              " 0.04,\n",
              " 0.027777777777777776,\n",
              " 0.02040816326530612,\n",
              " 0.015625,\n",
              " 0.012345679012345678,\n",
              " 0.01,\n",
              " 0.008264462809917356,\n",
              " 0.006944444444444444,\n",
              " 0.005917159763313609,\n",
              " 0.00510204081632653,\n",
              " 0.0044444444444444444,\n",
              " 0.00390625,\n",
              " 0.0034602076124567475,\n",
              " 0.0030864197530864196,\n",
              " 0.002770083102493075,\n",
              " 0.0025]"
            ]
          },
          "metadata": {
            "tags": []
          },
          "execution_count": 290
        }
      ]
    },
    {
      "cell_type": "markdown",
      "metadata": {
        "id": "2liMC6Dx1JVA",
        "colab_type": "text"
      },
      "source": [
        "*Impares:*"
      ]
    },
    {
      "cell_type": "code",
      "metadata": {
        "id": "9Rpbb2Yv1iAj",
        "colab_type": "code",
        "outputId": "836d9c8f-088f-4ba7-aeb4-1c23bd01c080",
        "colab": {
          "base_uri": "https://localhost:8080/",
          "height": 35
        }
      },
      "source": [
        "def Impar(n):\n",
        "  if n%2!=0:\n",
        "    return n\n",
        "list(filter(Impar,y))"
      ],
      "execution_count": 0,
      "outputs": [
        {
          "output_type": "execute_result",
          "data": {
            "text/plain": [
              "[1, 3, 5, 7, 9, 11, 13, 15, 17, 19]"
            ]
          },
          "metadata": {
            "tags": []
          },
          "execution_count": 291
        }
      ]
    },
    {
      "cell_type": "markdown",
      "metadata": {
        "id": "9fE3KVd11RDe",
        "colab_type": "text"
      },
      "source": [
        "*Múltiplos de 3:*"
      ]
    },
    {
      "cell_type": "code",
      "metadata": {
        "id": "Lmcv7jsJKH4n",
        "colab_type": "code",
        "outputId": "9b0aa894-7826-4dcb-f0d4-8e48f327317e",
        "colab": {
          "base_uri": "https://localhost:8080/",
          "height": 35
        }
      },
      "source": [
        "def Tres(n):\n",
        "  if n%3==0:\n",
        "    return n\n",
        "list(filter(Tres,y))"
      ],
      "execution_count": 0,
      "outputs": [
        {
          "output_type": "execute_result",
          "data": {
            "text/plain": [
              "[3, 6, 9, 12, 15, 18]"
            ]
          },
          "metadata": {
            "tags": []
          },
          "execution_count": 292
        }
      ]
    },
    {
      "cell_type": "markdown",
      "metadata": {
        "id": "SgL_VnguKKYR",
        "colab_type": "text"
      },
      "source": [
        "**11.**Realice el punto 5 utilizando la función reduce."
      ]
    },
    {
      "cell_type": "code",
      "metadata": {
        "id": "EruhVL8oKMpH",
        "colab_type": "code",
        "outputId": "60618839-5a71-4a2f-dfc4-db3162af57bd",
        "colab": {
          "base_uri": "https://localhost:8080/",
          "height": 34
        }
      },
      "source": [
        "def fx(x,b):\n",
        "    return x+b\n",
        "\n",
        "A1=[1,2,3,4,5]\n",
        "R1 = reduce(fx,A1)\n",
        "print(R1)"
      ],
      "execution_count": 0,
      "outputs": [
        {
          "output_type": "stream",
          "text": [
            "15\n"
          ],
          "name": "stdout"
        }
      ]
    }
  ]
}