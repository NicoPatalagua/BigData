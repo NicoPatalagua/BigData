{
  "nbformat": 4,
  "nbformat_minor": 0,
  "metadata": {
    "colab": {
      "name": "EjerciciosPares.ipynb",
      "provenance": [],
      "collapsed_sections": [],
      "include_colab_link": true
    },
    "kernelspec": {
      "name": "python3",
      "display_name": "Python 3"
    }
  },
  "cells": [
    {
      "cell_type": "markdown",
      "metadata": {
        "id": "view-in-github",
        "colab_type": "text"
      },
      "source": [
        "<a href=\"https://colab.research.google.com/github/NicoPatalagua/BigData/blob/master/EjerciciosPares.ipynb\" target=\"_parent\"><img src=\"https://colab.research.google.com/assets/colab-badge.svg\" alt=\"Open In Colab\"/></a>"
      ]
    },
    {
      "cell_type": "code",
      "metadata": {
        "id": "wk4XrA7PyUUA",
        "colab_type": "code",
        "outputId": "17c28deb-7621-4e14-cb31-c41d59bdb90e",
        "colab": {
          "base_uri": "https://localhost:8080/",
          "height": 89
        }
      },
      "source": [
        "!apt-get install openjdk-8-jdk-headless -qq > /dev/null\n",
        "!wget -q http://apache.osuosl.org/spark/spark-2.4.5/spark-2.4.5-bin-hadoop2.7.tgz\n",
        "!tar xf spark-2.4.5-bin-hadoop2.7.tgz\n",
        "!pip install -q findspark\n",
        "!pip install pyspark\n",
        "import os\n",
        "os.environ[\"JAVA_HOME\"] = \"/usr/lib/jvm/java-8-openjdk-amd64\"\n",
        "os.environ[\"SPARK_HOME\"] = \"/content/spark-2.4.5-bin-hadoop2.7\"\n",
        "\n",
        "from google.colab import drive\n",
        "drive.mount('/content/gdrive')\n",
        "from pyspark import SparkConf, SparkContext\n",
        "conf = SparkConf().setAppName(\"app\")\n",
        "sc = SparkContext.getOrCreate();"
      ],
      "execution_count": 0,
      "outputs": [
        {
          "output_type": "stream",
          "text": [
            "Requirement already satisfied: pyspark in /usr/local/lib/python3.6/dist-packages (2.4.5)\n",
            "Requirement already satisfied: py4j==0.10.7 in /usr/local/lib/python3.6/dist-packages (from pyspark) (0.10.7)\n",
            "Drive already mounted at /content/gdrive; to attempt to forcibly remount, call drive.mount(\"/content/gdrive\", force_remount=True).\n"
          ],
          "name": "stdout"
        }
      ]
    },
    {
      "cell_type": "code",
      "metadata": {
        "id": "vBH3Y5YMnsLv",
        "colab_type": "code",
        "outputId": "e272ae4a-42ab-418e-c2cc-bc2d02d1eb27",
        "colab": {
          "base_uri": "https://localhost:8080/",
          "height": 228
        }
      },
      "source": [
        "!wget https://bigdata20192.s3.amazonaws.com/uk-housing-prices-paid.zip"
      ],
      "execution_count": 0,
      "outputs": [
        {
          "output_type": "stream",
          "text": [
            "--2020-04-03 01:35:51--  https://bigdata20192.s3.amazonaws.com/uk-housing-prices-paid.zip\n",
            "Resolving bigdata20192.s3.amazonaws.com (bigdata20192.s3.amazonaws.com)... 52.216.243.172\n",
            "Connecting to bigdata20192.s3.amazonaws.com (bigdata20192.s3.amazonaws.com)|52.216.243.172|:443... connected.\n",
            "HTTP request sent, awaiting response... 200 OK\n",
            "Length: 796204510 (759M) [application/zip]\n",
            "Saving to: ‘uk-housing-prices-paid.zip.2’\n",
            "\n",
            "uk-housing-prices-p 100%[===================>] 759.32M  16.5MB/s    in 48s     \n",
            "\n",
            "2020-04-03 01:36:40 (15.8 MB/s) - ‘uk-housing-prices-paid.zip.2’ saved [796204510/796204510]\n",
            "\n"
          ],
          "name": "stdout"
        }
      ]
    },
    {
      "cell_type": "code",
      "metadata": {
        "id": "D_mJr-3Nnu-t",
        "colab_type": "code",
        "outputId": "6368b3bd-4bcb-4342-ab4d-2594dcdfdaa5",
        "colab": {
          "base_uri": "https://localhost:8080/",
          "height": 69
        }
      },
      "source": [
        "!unzip uk-housing-prices-paid.zip"
      ],
      "execution_count": 0,
      "outputs": [
        {
          "output_type": "stream",
          "text": [
            "Archive:  uk-housing-prices-paid.zip\n",
            "replace price_paid_records.csv? [y]es, [n]o, [A]ll, [N]one, [r]ename: y\n",
            "  inflating: price_paid_records.csv  \n"
          ],
          "name": "stdout"
        }
      ]
    },
    {
      "cell_type": "code",
      "metadata": {
        "id": "ieuVnJO909IY",
        "colab_type": "code",
        "outputId": "b86ca88c-9a1c-4c4a-bb2f-64c7dbe1baaf",
        "colab": {
          "base_uri": "https://localhost:8080/",
          "height": 384
        }
      },
      "source": [
        "\"\"\"\n",
        "path = \"s3://archivobigda/archivo/price_paid_records.csv\"\n",
        "data = spark.read.csv(path)\n",
        "data.take(20)\n",
        "\n",
        "path = \"price_paid_records.csv\"\n",
        "data = spark.sparkContext.textFile(path)\n",
        "data.take(\n",
        "\"\"\"\n",
        "path= \"price_paid_records.csv\"\n",
        "ObjDt= sc.textFile(path)\n",
        "ObjDt.take(20)"
      ],
      "execution_count": 0,
      "outputs": [
        {
          "output_type": "execute_result",
          "data": {
            "text/plain": [
              "['Transaction unique identifier,Price,Date of Transfer,Property Type,Old/New,Duration,Town/City,District,County,PPDCategory Type,Record Status - monthly file only',\n",
              " '{81B82214-7FBC-4129-9F6B-4956B4A663AD},25000,1995-08-18 00:00,T,N,F,OLDHAM,OLDHAM,GREATER MANCHESTER,A,A',\n",
              " '{8046EC72-1466-42D6-A753-4956BF7CD8A2},42500,1995-08-09 00:00,S,N,F,GRAYS,THURROCK,THURROCK,A,A',\n",
              " '{278D581A-5BF3-4FCE-AF62-4956D87691E6},45000,1995-06-30 00:00,T,N,F,HIGHBRIDGE,SEDGEMOOR,SOMERSET,A,A',\n",
              " '{1D861C06-A416-4865-973C-4956DB12CD12},43150,1995-11-24 00:00,T,N,F,BEDFORD,NORTH BEDFORDSHIRE,BEDFORDSHIRE,A,A',\n",
              " '{DD8645FD-A815-43A6-A7BA-4956E58F1874},18899,1995-06-23 00:00,S,N,F,WAKEFIELD,LEEDS,WEST YORKSHIRE,A,A',\n",
              " '{895E4E63-203F-476A-9AA9-42389DD0AE5C},81750,1995-05-19 00:00,S,N,F,SALISBURY,SALISBURY,WILTSHIRE,A,A',\n",
              " '{FB195C27-E790-45FD-847A-4238BC94546A},56000,1995-03-10 00:00,S,N,F,WITNEY,WEST OXFORDSHIRE,OXFORDSHIRE,A,A',\n",
              " '{1D6B01EC-DC33-4147-8A21-4238BEB2D4C1},31000,1995-03-02 00:00,S,N,F,ST. AUSTELL,RESTORMEL,CORNWALL,A,A',\n",
              " '{B8D0F817-4553-448D-A2C1-4238BF81C6FA},82000,1995-06-16 00:00,S,N,F,GREENFORD,EALING,GREATER LONDON,A,A',\n",
              " '{6DD27423-CC39-4B31-A848-4238D58268D4},10000,1995-05-17 00:00,T,N,F,FERNDALE,RHONDDA,MID GLAMORGAN,A,A',\n",
              " '{26D2C1C8-A3E3-41CE-BC2B-45C866A5AA8B},105000,1995-05-26 00:00,S,N,L,LYTHAM ST. ANNES,FYLDE,LANCASHIRE,A,A',\n",
              " '{0B76F591-3A20-45C3-9866-3EA912F24661},59995,1995-01-20 00:00,D,N,F,BELPER,AMBER VALLEY,DERBYSHIRE,A,A',\n",
              " '{E8615B54-3171-4C96-ABFF-3EA9203EBF84},31500,1995-02-28 00:00,T,N,F,BRIDGWATER,SEDGEMOOR,SOMERSET,A,A',\n",
              " '{09268CEC-8551-4E3A-AED4-3EA9259D3470},37500,1995-12-08 00:00,T,N,F,WIRRAL,WIRRAL,MERSEYSIDE,A,A',\n",
              " '{DA56CFC9-DE18-4A77-9230-3EA92F12B798},41000,1995-04-24 00:00,T,N,F,BIDEFORD,TORRIDGE,DEVON,A,A',\n",
              " '{6F40F213-A5F8-497B-92FE-3B1849135192},82750,1995-05-02 00:00,S,N,F,FARNBOROUGH,HART,HAMPSHIRE,A,A',\n",
              " '{9AE61270-4481-4152-841B-4956EDE13AC6},34000,1995-07-31 00:00,S,N,L,SHEFFIELD,SHEFFIELD,SOUTH YORKSHIRE,A,A',\n",
              " '{DECB21B3-BCF5-4931-B9C6-45C880BAF99C},40000,1995-12-01 00:00,S,N,F,MIDDLESBROUGH,MIDDLESBROUGH,MIDDLESBROUGH,A,A',\n",
              " '{A64E6025-1BF6-4769-B080-45C8B9119ED8},55000,1995-03-31 00:00,S,N,F,SWINDON,THAMESDOWN,THAMESDOWN,A,A']"
            ]
          },
          "metadata": {
            "tags": []
          },
          "execution_count": 46
        }
      ]
    },
    {
      "cell_type": "markdown",
      "metadata": {
        "id": "MKJEfi68l2qH",
        "colab_type": "text"
      },
      "source": [
        "# 1. Número de casas vendidas por año"
      ]
    },
    {
      "cell_type": "code",
      "metadata": {
        "id": "Xjm6xONclKn4",
        "colab_type": "code",
        "colab": {}
      },
      "source": [
        "def map1():\n",
        "  for i in sys.stdin:\n",
        "    data= re.split(\",\",i)\n",
        "    date= str(data[2]).split(\"-\")\n",
        "    if len(data)!= 0:\n",
        "        print(date[0]+\"\\t\"+\"1\")"
      ],
      "execution_count": 0,
      "outputs": []
    },
    {
      "cell_type": "code",
      "metadata": {
        "id": "tDbtzvRxmhvw",
        "colab_type": "code",
        "colab": {}
      },
      "source": [
        "def red1():\n",
        "  cont = 0\n",
        "  anterior = \"\"\n",
        "  for x in sys.stdin:\n",
        "    temp = x.split(\"\\t\")\n",
        "    if temp[0]!= \"Date of Transfer\":\n",
        "        if(temp[0] == anterior):\n",
        "            cont = cont+int(temp[1])\n",
        "            anterior = temp[0]\n",
        "        else:\n",
        "            print(anterior+\"\\t\"+str(cont))\n",
        "            cont=0\n",
        "            anterior = temp[0]\n",
        "  print(anterior+\"\\t\"+str(cont))"
      ],
      "execution_count": 0,
      "outputs": []
    },
    {
      "cell_type": "markdown",
      "metadata": {
        "id": "IlcEvEc4eg0d",
        "colab_type": "text"
      },
      "source": [
        "# 2.Precio promedio de las casas en cada ciudad\n",
        "\n"
      ]
    },
    {
      "cell_type": "code",
      "metadata": {
        "id": "ygGNb7sM1X5U",
        "colab_type": "code",
        "outputId": "f7cf0cba-afe2-4d38-bd9d-52d92f594f92",
        "colab": {
          "base_uri": "https://localhost:8080/",
          "height": 211
        }
      },
      "source": [
        "palabras = data.flatMap(lambda dat : dat.split(\"\\n\"))\n",
        "palabra = palabras.first()\n",
        "palabras = palabras.filter(lambda line: line != palabra)\n",
        "palabras.take(10)"
      ],
      "execution_count": 0,
      "outputs": [
        {
          "output_type": "execute_result",
          "data": {
            "text/plain": [
              "['{81B82214-7FBC-4129-9F6B-4956B4A663AD},25000,1995-08-18 00:00,T,N,F,OLDHAM,OLDHAM,GREATER MANCHESTER,A,A',\n",
              " '{8046EC72-1466-42D6-A753-4956BF7CD8A2},42500,1995-08-09 00:00,S,N,F,GRAYS,THURROCK,THURROCK,A,A',\n",
              " '{278D581A-5BF3-4FCE-AF62-4956D87691E6},45000,1995-06-30 00:00,T,N,F,HIGHBRIDGE,SEDGEMOOR,SOMERSET,A,A',\n",
              " '{1D861C06-A416-4865-973C-4956DB12CD12},43150,1995-11-24 00:00,T,N,F,BEDFORD,NORTH BEDFORDSHIRE,BEDFORDSHIRE,A,A',\n",
              " '{DD8645FD-A815-43A6-A7BA-4956E58F1874},18899,1995-06-23 00:00,S,N,F,WAKEFIELD,LEEDS,WEST YORKSHIRE,A,A',\n",
              " '{895E4E63-203F-476A-9AA9-42389DD0AE5C},81750,1995-05-19 00:00,S,N,F,SALISBURY,SALISBURY,WILTSHIRE,A,A',\n",
              " '{FB195C27-E790-45FD-847A-4238BC94546A},56000,1995-03-10 00:00,S,N,F,WITNEY,WEST OXFORDSHIRE,OXFORDSHIRE,A,A',\n",
              " '{1D6B01EC-DC33-4147-8A21-4238BEB2D4C1},31000,1995-03-02 00:00,S,N,F,ST. AUSTELL,RESTORMEL,CORNWALL,A,A',\n",
              " '{B8D0F817-4553-448D-A2C1-4238BF81C6FA},82000,1995-06-16 00:00,S,N,F,GREENFORD,EALING,GREATER LONDON,A,A',\n",
              " '{6DD27423-CC39-4B31-A848-4238D58268D4},10000,1995-05-17 00:00,T,N,F,FERNDALE,RHONDDA,MID GLAMORGAN,A,A']"
            ]
          },
          "metadata": {
            "tags": []
          },
          "execution_count": 34
        }
      ]
    },
    {
      "cell_type": "code",
      "metadata": {
        "id": "oeS6SNlpGPeU",
        "colab_type": "code",
        "outputId": "5656b4a8-f3e2-4e3b-ff13-cbe60f5babc4",
        "colab": {
          "base_uri": "https://localhost:8080/",
          "height": 104
        }
      },
      "source": [
        "def mape(x):\n",
        "  ciudad = x.split(\",\")[6]\n",
        "  precio = x.split(\",\")[1]\n",
        "  return (ciudad, (float(precio),float(1)))\n",
        "a = palabras.map(lambda x: mape(x)) \n",
        "a.take(5)"
      ],
      "execution_count": 0,
      "outputs": [
        {
          "output_type": "execute_result",
          "data": {
            "text/plain": [
              "[('OLDHAM', (25000.0, 1.0)),\n",
              " ('GRAYS', (42500.0, 1.0)),\n",
              " ('HIGHBRIDGE', (45000.0, 1.0)),\n",
              " ('BEDFORD', (43150.0, 1.0)),\n",
              " ('WAKEFIELD', (18899.0, 1.0))]"
            ]
          },
          "metadata": {
            "tags": []
          },
          "execution_count": 35
        }
      ]
    },
    {
      "cell_type": "code",
      "metadata": {
        "id": "OhtJ6qtUKgUz",
        "colab_type": "code",
        "colab": {}
      },
      "source": [
        "a = a.reduceByKey(lambda i,j: i+j)\n",
        "a.take(5)"
      ],
      "execution_count": 0,
      "outputs": []
    },
    {
      "cell_type": "code",
      "metadata": {
        "id": "w4EPURvMbYyX",
        "colab_type": "code",
        "outputId": "15970a9b-21b7-4b5a-aff5-029e3003b4d7",
        "colab": {
          "base_uri": "https://localhost:8080/",
          "height": 104
        }
      },
      "source": [
        "def suma(y):\n",
        "  if len(y)==2:\n",
        "    return y\n",
        "  else:\n",
        "    h=0\n",
        "    j=0\n",
        "    for i in range(0,len(y),2):\n",
        "      h+=y[i]\n",
        "      j+=y[i+1]\n",
        "    return (h,j)\n",
        "\n",
        "asd = a.map(lambda a: (a[0],suma(a[1])))\n",
        "asd.take(5)"
      ],
      "execution_count": 0,
      "outputs": [
        {
          "output_type": "execute_result",
          "data": {
            "text/plain": [
              "[('BEXHILL-ON-SEA', (4377609266.0, 28054.0)),\n",
              " ('ROMSEY', (2858276190.0, 11527.0)),\n",
              " ('AYLESBURY', (12216686515.0, 59878.0)),\n",
              " ('GREAT YARMOUTH', (4913901501.0, 42749.0)),\n",
              " ('ROSSENDALE', (1760562005.0, 16262.0))]"
            ]
          },
          "metadata": {
            "tags": []
          },
          "execution_count": 43
        }
      ]
    },
    {
      "cell_type": "code",
      "metadata": {
        "id": "VVhhy5kLdBAw",
        "colab_type": "code",
        "outputId": "dbc8ca8f-3187-4eb2-afb9-799c1ab32e92",
        "colab": {
          "base_uri": "https://localhost:8080/",
          "height": 104
        }
      },
      "source": [
        "def div(y):\n",
        "  return y[0]/y[1]\n",
        "\n",
        "asd = asd.map(lambda s: (s[0],div(s[1])))\n",
        "asd.take(5)"
      ],
      "execution_count": 0,
      "outputs": [
        {
          "output_type": "execute_result",
          "data": {
            "text/plain": [
              "[('BEXHILL-ON-SEA', 156042.2494474941),\n",
              " ('ROMSEY', 247963.5802897545),\n",
              " ('AYLESBURY', 204026.29538394735),\n",
              " ('GREAT YARMOUTH', 114947.75318720906),\n",
              " ('ROSSENDALE', 108262.32966424794)]"
            ]
          },
          "metadata": {
            "tags": []
          },
          "execution_count": 44
        }
      ]
    },
    {
      "cell_type": "markdown",
      "metadata": {
        "id": "hvaoi2NLnLot",
        "colab_type": "text"
      },
      "source": [
        "# 3. Casa con menor precio por ciudad."
      ]
    },
    {
      "cell_type": "code",
      "metadata": {
        "id": "Kn1_vPOPnRH6",
        "colab_type": "code",
        "colab": {}
      },
      "source": [
        "def map3():\n",
        "  for i in sys.stdin:\n",
        "    data= re.split(\",\",i)\n",
        "    if len(data)!= 0:\n",
        "        print(data[6]+\"\\t\"+data[1])"
      ],
      "execution_count": 0,
      "outputs": []
    },
    {
      "cell_type": "code",
      "metadata": {
        "id": "Rce1XEfDnRih",
        "colab_type": "code",
        "colab": {}
      },
      "source": [
        "def red3():\n",
        "  for x in sys.stdin:\n",
        "    temp = x.split(\"\\t\")\n",
        "    if dict.get(temp[0]) == None:\n",
        "        dict[temp[0]] = temp[1]\n",
        "    else:\n",
        "        if dict.get(temp[0]) < int(temp[1]):\n",
        "            dict.update({temp[0]: int(temp[1])})\n",
        "  for x in dict:\n",
        "    print(x +\"\\t\" + str(dict[x]))"
      ],
      "execution_count": 0,
      "outputs": []
    },
    {
      "cell_type": "markdown",
      "metadata": {
        "id": "ZmF3O5SheoDK",
        "colab_type": "text"
      },
      "source": [
        "# 4. Listado de precios de menor a mayor en la ciudad de STAMFORD para 2015"
      ]
    },
    {
      "cell_type": "code",
      "metadata": {
        "id": "xGZc6819er1F",
        "colab_type": "code",
        "colab": {}
      },
      "source": [
        "def mapper4(x):\n",
        "  ObjCity = x.split(\",\")[6]\n",
        "  ObjPrice = x.split(\",\")[1]\n",
        "  ObjDate = x.split(\",\")[2]\n",
        "  ObjDate = ObjDate.split(\"-\")\n",
        "  return (Objcity, (float(ObjPrice),float(ObjDate[0])))\n",
        "a4 = palabras.map(lambda x: mape4(x)) \n",
        "a4.take(5)"
      ],
      "execution_count": 0,
      "outputs": []
    },
    {
      "cell_type": "code",
      "metadata": {
        "id": "paDX1jidgOeG",
        "colab_type": "code",
        "colab": {}
      },
      "source": [
        "\"\"\"\n",
        " * prueba con pocos datos, hay cambiar != por == cuando sea con todos\n",
        "\"\"\"\n",
        "a41 = a4.filter(lambda line: line != 'STAMFORD')\n",
        "a41.take(10)"
      ],
      "execution_count": 0,
      "outputs": []
    },
    {
      "cell_type": "code",
      "metadata": {
        "id": "dSVGEPELh86R",
        "colab_type": "code",
        "colab": {}
      },
      "source": [
        "a41 = a4.map(lambda g: g)\n",
        "a41.take(5)"
      ],
      "execution_count": 0,
      "outputs": []
    },
    {
      "cell_type": "code",
      "metadata": {
        "id": "LHlDvNqUiOak",
        "colab_type": "code",
        "colab": {}
      },
      "source": [
        "\"\"\"\n",
        " * prueba con pocos datos, hay cambiar != por == cuando sea con todos\n",
        "\"\"\"\n",
        "dat4 = a4.filter(lambda line: line != 2015)\n",
        "dat4.take(10)"
      ],
      "execution_count": 0,
      "outputs": []
    },
    {
      "cell_type": "code",
      "metadata": {
        "id": "t8iTvioVjexL",
        "colab_type": "code",
        "colab": {}
      },
      "source": [
        "sor = dat4.sortByKey()\n",
        "sor.take(10)"
      ],
      "execution_count": 0,
      "outputs": []
    },
    {
      "cell_type": "markdown",
      "metadata": {
        "id": "6pTVjUWBnVQR",
        "colab_type": "text"
      },
      "source": [
        "# 5. Mes con mayor número de ventas en cada año"
      ]
    },
    {
      "cell_type": "markdown",
      "metadata": {
        "id": "vwBcJWTsbFeF",
        "colab_type": "text"
      },
      "source": [
        "#### 6. Conteo de condados  con el respectivo número de ciudades:"
      ]
    }
  ]
}