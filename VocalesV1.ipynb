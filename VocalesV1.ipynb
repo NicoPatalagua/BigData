{
 "cells": [
  {
   "cell_type": "markdown",
   "metadata": {
    "colab_type": "text",
    "id": "DqCXz5ifK1VK"
   },
   "source": [
    "# CONTEO DE VOCALES CON PYSPARK\n",
    "\n",
    "## Nicolás Patalagua\n",
    "### Universidad Sergio Arboleda\n",
    "### Infraestructura para BigData"
   ]
  },
  {
   "cell_type": "markdown",
   "metadata": {
    "colab_type": "text",
    "id": "_Z6cj1wNLmNI"
   },
   "source": [
    "# Spark\n",
    "\n",
    "Spark se ha incorporado herramientas de la mayoría de los científicos de datos. Es un framework open source para la computación en paralelo utilizando clusters. Se utiliza especialmente para acelerar la computación iterativa de grandes cantidades de datos o de modelos muy complejos."
   ]
  },
  {
   "cell_type": "code",
   "execution_count": 0,
   "metadata": {
    "colab": {
     "base_uri": "https://localhost:8080/",
     "height": 263
    },
    "colab_type": "code",
    "id": "fy2RBfjAPz13",
    "outputId": "b3ed4ea0-a1f4-4b5a-aad4-cb07b22afb5d"
   },
   "outputs": [
    {
     "name": "stdout",
     "output_type": "stream",
     "text": [
      "Collecting pyspark\n",
      "\u001b[?25l  Downloading https://files.pythonhosted.org/packages/9a/5a/271c416c1c2185b6cb0151b29a91fff6fcaed80173c8584ff6d20e46b465/pyspark-2.4.5.tar.gz (217.8MB)\n",
      "\u001b[K     |████████████████████████████████| 217.8MB 62kB/s \n",
      "\u001b[?25hCollecting py4j==0.10.7\n",
      "\u001b[?25l  Downloading https://files.pythonhosted.org/packages/e3/53/c737818eb9a7dc32a7cd4f1396e787bd94200c3997c72c1dbe028587bd76/py4j-0.10.7-py2.py3-none-any.whl (197kB)\n",
      "\u001b[K     |████████████████████████████████| 204kB 36.4MB/s \n",
      "\u001b[?25hBuilding wheels for collected packages: pyspark\n",
      "  Building wheel for pyspark (setup.py) ... \u001b[?25l\u001b[?25hdone\n",
      "  Created wheel for pyspark: filename=pyspark-2.4.5-py2.py3-none-any.whl size=218257927 sha256=1724f14836d813c498b7afeb4353bb3a12a8059787882f33331a04581fed7d34\n",
      "  Stored in directory: /root/.cache/pip/wheels/bf/db/04/61d66a5939364e756eb1c1be4ec5bdce6e04047fc7929a3c3c\n",
      "Successfully built pyspark\n",
      "Installing collected packages: py4j, pyspark\n",
      "Successfully installed py4j-0.10.7 pyspark-2.4.5\n"
     ]
    }
   ],
   "source": [
    "#Realizamos la instalación de todas las librerias y dependencias a ser usadas.\n",
    "!apt-get install openjdk-8-jdk-headless -qq > /dev/null\n",
    "!wget -q http://apache.osuosl.org/spark/spark-2.4.5/spark-2.4.5-bin-hadoop2.7.tgz\n",
    "!tar xf spark-2.4.5-bin-hadoop2.7.tgz\n",
    "!pip install -q findspark\n",
    "!pip install pyspark"
   ]
  },
  {
   "cell_type": "code",
   "execution_count": 0,
   "metadata": {
    "colab": {
     "base_uri": "https://localhost:8080/",
     "height": 34
    },
    "colab_type": "code",
    "id": "IeiLUYvjLYAx",
    "outputId": "a2a9be1c-6e23-48a8-db36-850fa60005e1"
   },
   "outputs": [
    {
     "name": "stdout",
     "output_type": "stream",
     "text": [
      "Drive already mounted at /content/gdrive; to attempt to forcibly remount, call drive.mount(\"/content/gdrive\", force_remount=True).\n"
     ]
    }
   ],
   "source": [
    "#Nos solicitaran un codigo de acceso\n",
    "import os\n",
    "os.environ[\"JAVA_HOME\"] = \"/usr/lib/jvm/java-8-openjdk-amd64\"\n",
    "os.environ[\"SPARK_HOME\"] = \"/content/spark-2.4.5-bin-hadoop2.7\"\n",
    "from google.colab import drive\n",
    "drive.mount('/content/gdrive')\n",
    "from pyspark import SparkConf, SparkContext\n",
    "conf = SparkConf().setAppName(\"app\")\n",
    "sc = SparkContext.getOrCreate();"
   ]
  },
  {
   "cell_type": "code",
   "execution_count": 0,
   "metadata": {
    "colab": {
     "base_uri": "https://localhost:8080/",
     "height": 208
    },
    "colab_type": "code",
    "id": "PhEacGa2R4qf",
    "outputId": "a143974f-98c8-4b72-d9b7-e7a697934509"
   },
   "outputs": [
    {
     "name": "stdout",
     "output_type": "stream",
     "text": [
      "--2020-03-30 20:47:39--  http://textfiles.com/stories/100west.txt\n",
      "Resolving textfiles.com (textfiles.com)... 208.86.224.90\n",
      "Connecting to textfiles.com (textfiles.com)|208.86.224.90|:80... connected.\n",
      "HTTP request sent, awaiting response... 200 OK\n",
      "Length: 20839 (20K) [text/plain]\n",
      "Saving to: ‘100west.txt.1’\n",
      "\n",
      "100west.txt.1       100%[===================>]  20.35K   112KB/s    in 0.2s    \n",
      "\n",
      "2020-03-30 20:47:40 (112 KB/s) - ‘100west.txt.1’ saved [20839/20839]\n",
      "\n"
     ]
    }
   ],
   "source": [
    "#La siguiente URL contiene el archivo que vamos a procesar para el ejercicio.\n",
    "!wget http://textfiles.com/stories/100west.txt"
   ]
  },
  {
   "cell_type": "code",
   "execution_count": 0,
   "metadata": {
    "colab": {
     "base_uri": "https://localhost:8080/",
     "height": 191
    },
    "colab_type": "code",
    "id": "vSxCDWcvR91X",
    "outputId": "d0c697ff-01a8-422c-a46c-1f9206c748e1"
   },
   "outputs": [
    {
     "data": {
      "text/plain": [
       "['',\n",
       " '',\n",
       " '                     THIS IS A SHAREWARE TRIAL PROJECT',\n",
       " '                                 ',\n",
       " '         IT IS NOT \"FREEWARE\" WE NEED YOUR SUPPORT TO CONTINUE',\n",
       " '',\n",
       " '',\n",
       " '',\n",
       " '',\n",
       " '                              100 WEST BY 53 NORTH']"
      ]
     },
     "execution_count": 8,
     "metadata": {
      "tags": []
     },
     "output_type": "execute_result"
    }
   ],
   "source": [
    "#Seleccionamos el archivo a ser procesado, el cual obtuvimos de la URL anterior.\n",
    "data = sc.textFile(\"100west.txt\")\n",
    "#Mostramos 10 lineas del archivo.\n",
    "data.take(10)"
   ]
  },
  {
   "cell_type": "code",
   "execution_count": 0,
   "metadata": {
    "colab": {},
    "colab_type": "code",
    "id": "l6OxkaaAnV8w"
   },
   "outputs": [],
   "source": [
    "#Asignamos a palabras la division por palabras del texto.\n",
    "palabras = data.flatMap(lambda data : data.split())"
   ]
  },
  {
   "cell_type": "code",
   "execution_count": 0,
   "metadata": {
    "colab": {
     "base_uri": "https://localhost:8080/",
     "height": 191
    },
    "colab_type": "code",
    "id": "PnejIVfGnb5S",
    "outputId": "64ba4007-427b-4ea7-ff99-cfc0d0af6a56"
   },
   "outputs": [
    {
     "data": {
      "text/plain": [
       "['THIS',\n",
       " 'IS',\n",
       " 'A',\n",
       " 'SHAREWARE',\n",
       " 'TRIAL',\n",
       " 'PROJECT',\n",
       " 'IT',\n",
       " 'IS',\n",
       " 'NOT',\n",
       " '\"FREEWARE\"']"
      ]
     },
     "execution_count": 12,
     "metadata": {
      "tags": []
     },
     "output_type": "execute_result"
    }
   ],
   "source": [
    "#Mostramos las primeras palabras obtenidas\n",
    "palabras.take(10)"
   ]
  },
  {
   "cell_type": "code",
   "execution_count": 0,
   "metadata": {
    "colab": {},
    "colab_type": "code",
    "id": "w2icjXXhZ6yL"
   },
   "outputs": [],
   "source": [
    "#Realizamos la normalización del documento, reemplazando caracteres especiales.\n",
    "linea = data.flatMap(lambda linea : linea.replace(\" \",\"\").replace(\".\",\"\").replace('\"','').replace(\"'\",'').replace(\"ñ\",\"n\").replace(\"ú\",\"u\").replace(\"ó\",\"o\")\n",
    ".replace(\"í\",\"i\").replace(\"é\",\"e\").replace(\"á\",\"a\").replace(\"!\",\"\").replace(\",\",\"\").lower().split())"
   ]
  },
  {
   "cell_type": "code",
   "execution_count": 0,
   "metadata": {
    "colab": {
     "base_uri": "https://localhost:8080/",
     "height": 191
    },
    "colab_type": "code",
    "id": "StFi-wnsSOMG",
    "outputId": "3acb625a-8a36-409a-818a-9655d8efdf0e"
   },
   "outputs": [
    {
     "data": {
      "text/plain": [
       "['thisisasharewaretrialproject',\n",
       " 'itisnotfreewareweneedyoursupporttocontinue',\n",
       " '100westby53north',\n",
       " 'by',\n",
       " 'jimprentice',\n",
       " 'copyright1990jimprenticebrandonmanitobacanada',\n",
       " 'northof53amagicphrasespokenmumbledorthought',\n",
       " 'inwardlybythousandsofsoulsventuringnorthwardan',\n",
       " 'imaginarylineshownonlyonmapsandlabelled53degrees',\n",
       " 'itspresenceindicatedtohighwaytravellersbyroadside']"
      ]
     },
     "execution_count": 15,
     "metadata": {
      "tags": []
     },
     "output_type": "execute_result"
    }
   ],
   "source": [
    "#Mostramos 10 datos del archivo una vez normalizado\n",
    "linea.take(10)"
   ]
  },
  {
   "cell_type": "code",
   "execution_count": 0,
   "metadata": {
    "colab": {},
    "colab_type": "code",
    "id": "Vl0es-DHeZCh"
   },
   "outputs": [],
   "source": [
    "#Asignamos a la variable letras un recorrido por cada linea del archivo\n",
    "letras = linea.map(lambda linea: (linea,1))"
   ]
  },
  {
   "cell_type": "code",
   "execution_count": 0,
   "metadata": {
    "colab": {
     "base_uri": "https://localhost:8080/",
     "height": 191
    },
    "colab_type": "code",
    "id": "f6-rukimea5S",
    "outputId": "dd5a75af-2413-4fde-b34a-80f8718cef35"
   },
   "outputs": [
    {
     "data": {
      "text/plain": [
       "[('thisisasharewaretrialproject', 1),\n",
       " ('itisnotfreewareweneedyoursupporttocontinue', 1),\n",
       " ('100westby53north', 1),\n",
       " ('by', 1),\n",
       " ('jimprentice', 1),\n",
       " ('copyright1990jimprenticebrandonmanitobacanada', 1),\n",
       " ('northof53amagicphrasespokenmumbledorthought', 1),\n",
       " ('inwardlybythousandsofsoulsventuringnorthwardan', 1),\n",
       " ('imaginarylineshownonlyonmapsandlabelled53degrees', 1),\n",
       " ('itspresenceindicatedtohighwaytravellersbyroadside', 1)]"
      ]
     },
     "execution_count": 22,
     "metadata": {
      "tags": []
     },
     "output_type": "execute_result"
    }
   ],
   "source": [
    "#Mostramos las 10 primeras lineas con un valor de 1\n",
    "letras.take(10)"
   ]
  },
  {
   "cell_type": "code",
   "execution_count": 0,
   "metadata": {
    "colab": {},
    "colab_type": "code",
    "id": "HvuTgIGbqXrx"
   },
   "outputs": [],
   "source": [
    "#Asignamos a la varible lista cada una de las lineas\n",
    "lista = letras.collect()"
   ]
  },
  {
   "cell_type": "code",
   "execution_count": 0,
   "metadata": {
    "colab": {
     "base_uri": "https://localhost:8080/",
     "height": 34
    },
    "colab_type": "code",
    "id": "gulZMb7Aren0",
    "outputId": "ca0c8cbf-1433-462b-b21f-41eb1e2a42eb"
   },
   "outputs": [
    {
     "name": "stdout",
     "output_type": "stream",
     "text": [
      "jimprentice\n"
     ]
    }
   ],
   "source": [
    "#Imprimimos una de las lineas\n",
    "print(lista[4][0])"
   ]
  },
  {
   "cell_type": "code",
   "execution_count": 0,
   "metadata": {
    "colab": {},
    "colab_type": "code",
    "id": "_Z-B276b7N8J"
   },
   "outputs": [],
   "source": [
    "#Definimos una funcióón para contar vocales en el archivo\n",
    "def VowelsU(cad):\n",
    "  suma = sum(c in {\"a\", \"A\", \"e\", \"E\", \"i\", \"I\", \"o\", \"O\", \"u\", \"U\"} for c in cad)\n",
    "  a= sum(c in{\"a\"} for c in cad)\n",
    "  e= sum(c in{\"e\"} for c in cad)\n",
    "  i= sum(c in{\"i\"} for c in cad)\n",
    "  o= sum(c in{\"o\"} for c in cad)\n",
    "  u= sum(c in{\"u\"} for c in cad) \n",
    "  return [a,e,i,o,u]"
   ]
  },
  {
   "cell_type": "code",
   "execution_count": 0,
   "metadata": {
    "colab": {},
    "colab_type": "code",
    "id": "fbrFfVWHQkP4"
   },
   "outputs": [],
   "source": [
    "#Asignamos a una lista la cantidad de repeticiones de caa vocal\n",
    "a1=0\n",
    "e1=0\n",
    "i1=0\n",
    "o1=0\n",
    "u1=0\n",
    "lst = [VowelsU(x) for x in letras.keys().collect()]\n",
    "for i in range(len(lst)-1):\n",
    "  a1+=lst[i][0]\n",
    "  e1+=lst[i][1]\n",
    "  i1+=lst[i][2]\n",
    "  o1+=lst[i][3]\n",
    "  u1+=lst[i][4]"
   ]
  },
  {
   "cell_type": "code",
   "execution_count": 57,
   "metadata": {
    "colab": {
     "base_uri": "https://localhost:8080/",
     "height": 104
    },
    "colab_type": "code",
    "id": "udOGrY8RPvHy",
    "outputId": "3d58ea32-3d1c-4ac5-80e4-89ca49b4be69"
   },
   "outputs": [
    {
     "name": "stdout",
     "output_type": "stream",
     "text": [
      "Cantidad de A: 1118\n",
      "Cantidad de E: 1841\n",
      "Cantidad de I: 982\n",
      "Cantidad de O: 1093\n",
      "Cantidad de U: 368\n"
     ]
    }
   ],
   "source": [
    "#Imprimimos el valor de repeticiones de cada vocal en el documento\n",
    "print(\"Cantidad de A: \"+str(a1))\n",
    "print(\"Cantidad de E: \"+str(e1))\n",
    "print(\"Cantidad de I: \"+str(i1))\n",
    "print(\"Cantidad de O: \"+str(o1))\n",
    "print(\"Cantidad de U: \"+str(u1))"
   ]
  },
  {
   "cell_type": "code",
   "execution_count": 55,
   "metadata": {
    "colab": {
     "base_uri": "https://localhost:8080/",
     "height": 121
    },
    "colab_type": "code",
    "id": "nwn70fjHQzA_",
    "outputId": "784e5dcc-2513-41a6-ca35-6b8e3ba14332"
   },
   "outputs": [
    {
     "name": "stdout",
     "output_type": "stream",
     "text": [
      " \n",
      "a: 4.831842576028622\n",
      "e: 2.9342748506246603\n",
      "i: 5.5010183299389\n",
      "o: 4.942360475754803\n",
      "u: 14.679347826086957\n"
     ]
    }
   ],
   "source": [
    "suma = a1+e1+i1+o1+u1\n",
    "print(\"Promedio de A por linea: \"+str(suma/a1))\n",
    "print(\"Promedio de E por linea: \"+str(suma/e1))\n",
    "print(\"Promedio de I por linea: \"+str(suma/i1))\n",
    "print(\"Promedio de O por linea: \"+str(suma/o1))\n",
    "print(\"Promedio de U por linea: \"+str(suma/u1))"
   ]
  }
 ],
 "metadata": {
  "colab": {
   "collapsed_sections": [],
   "name": "VocalesV1.ipynb",
   "provenance": []
  },
  "kernelspec": {
   "display_name": "Python 3",
   "language": "python",
   "name": "python3"
  },
  "language_info": {
   "codemirror_mode": {
    "name": "ipython",
    "version": 3
   },
   "file_extension": ".py",
   "mimetype": "text/x-python",
   "name": "python",
   "nbconvert_exporter": "python",
   "pygments_lexer": "ipython3",
   "version": "3.6.9"
  }
 },
 "nbformat": 4,
 "nbformat_minor": 1
}
