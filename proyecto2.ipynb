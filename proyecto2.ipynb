{
 "cells": [
  {
   "cell_type": "markdown",
   "metadata": {},
   "source": [
    "# Paula Oviedo & Nicolas Patalagua"
   ]
  },
  {
   "cell_type": "code",
   "execution_count": 2,
   "metadata": {},
   "outputs": [
    {
     "data": {
      "application/vnd.jupyter.widget-view+json": {
       "model_id": "2a83243295d644f3aa13ad02aa641ae0",
       "version_major": 2,
       "version_minor": 0
      },
      "text/plain": [
       "VBox()"
      ]
     },
     "metadata": {},
     "output_type": "display_data"
    },
    {
     "data": {
      "application/vnd.jupyter.widget-view+json": {
       "model_id": "",
       "version_major": 2,
       "version_minor": 0
      },
      "text/plain": [
       "FloatProgress(value=0.0, bar_style='info', description='Progress:', layout=Layout(height='25px', width='50%'),…"
      ]
     },
     "metadata": {},
     "output_type": "display_data"
    },
    {
     "name": "stdout",
     "output_type": "stream",
     "text": [
      "<SparkContext master=yarn appName=livy-session-0>"
     ]
    }
   ],
   "source": [
    "sc"
   ]
  },
  {
   "cell_type": "code",
   "execution_count": 3,
   "metadata": {},
   "outputs": [
    {
     "data": {
      "application/vnd.jupyter.widget-view+json": {
       "model_id": "59e29a2199404e8986aedc926fee0b41",
       "version_major": 2,
       "version_minor": 0
      },
      "text/plain": [
       "VBox()"
      ]
     },
     "metadata": {},
     "output_type": "display_data"
    },
    {
     "data": {
      "application/vnd.jupyter.widget-view+json": {
       "model_id": "",
       "version_major": 2,
       "version_minor": 0
      },
      "text/plain": [
       "FloatProgress(value=0.0, bar_style='info', description='Progress:', layout=Layout(height='25px', width='50%'),…"
      ]
     },
     "metadata": {},
     "output_type": "display_data"
    }
   ],
   "source": [
    "from pyspark import SparkContext\n",
    "from pyspark import SparkConf"
   ]
  },
  {
   "cell_type": "code",
   "execution_count": 73,
   "metadata": {},
   "outputs": [
    {
     "data": {
      "application/vnd.jupyter.widget-view+json": {
       "model_id": "f69f6e6c8c0c4808aed2926d6e27a0a8",
       "version_major": 2,
       "version_minor": 0
      },
      "text/plain": [
       "VBox()"
      ]
     },
     "metadata": {},
     "output_type": "display_data"
    },
    {
     "data": {
      "application/vnd.jupyter.widget-view+json": {
       "model_id": "",
       "version_major": 2,
       "version_minor": 0
      },
      "text/plain": [
       "FloatProgress(value=0.0, bar_style='info', description='Progress:', layout=Layout(height='25px', width='50%'),…"
      ]
     },
     "metadata": {},
     "output_type": "display_data"
    }
   ],
   "source": [
    "from pyspark.sql import functions as f\n",
    "import time"
   ]
  },
  {
   "cell_type": "code",
   "execution_count": 37,
   "metadata": {},
   "outputs": [
    {
     "data": {
      "application/vnd.jupyter.widget-view+json": {
       "model_id": "fecec8a07a5149c6a70abe0a39dcaf24",
       "version_major": 2,
       "version_minor": 0
      },
      "text/plain": [
       "VBox()"
      ]
     },
     "metadata": {},
     "output_type": "display_data"
    },
    {
     "data": {
      "application/vnd.jupyter.widget-view+json": {
       "model_id": "",
       "version_major": 2,
       "version_minor": 0
      },
      "text/plain": [
       "FloatProgress(value=0.0, bar_style='info', description='Progress:', layout=Layout(height='25px', width='50%'),…"
      ]
     },
     "metadata": {},
     "output_type": "display_data"
    }
   ],
   "source": [
    "df=spark.read.csv(\"s3://newyorkcitybusdata/mta_1712.csv\",header=True, inferSchema=True)\n",
    "df2=spark.read.csv(\"s3://newyorkcitybusdata/mta_1710.csv\",header=True, inferSchema=True)\n",
    "df3=spark.read.csv(\"s3://newyorkcitybusdata/mta_1708.csv\",header=True, inferSchema=True)\n",
    "df4=spark.read.csv(\"s3://newyorkcitybusdata/mta_1706.csv\",header=True, inferSchema=True)"
   ]
  },
  {
   "cell_type": "code",
   "execution_count": 38,
   "metadata": {},
   "outputs": [
    {
     "data": {
      "application/vnd.jupyter.widget-view+json": {
       "model_id": "e2d40c56df1c4ce3a894ef692d7ea8a7",
       "version_major": 2,
       "version_minor": 0
      },
      "text/plain": [
       "VBox()"
      ]
     },
     "metadata": {},
     "output_type": "display_data"
    },
    {
     "data": {
      "application/vnd.jupyter.widget-view+json": {
       "model_id": "",
       "version_major": 2,
       "version_minor": 0
      },
      "text/plain": [
       "FloatProgress(value=0.0, bar_style='info', description='Progress:', layout=Layout(height='25px', width='50%'),…"
      ]
     },
     "metadata": {},
     "output_type": "display_data"
    }
   ],
   "source": [
    "df=df.union(df2.select(\"*\"))\n",
    "df=df.union(df3.select(\"*\"))\n",
    "df=df.union(df4.select(\"*\"))\n"
   ]
  },
  {
   "cell_type": "code",
   "execution_count": 39,
   "metadata": {},
   "outputs": [
    {
     "data": {
      "application/vnd.jupyter.widget-view+json": {
       "model_id": "f1498173f65345b0af8fd52cf9dc893c",
       "version_major": 2,
       "version_minor": 0
      },
      "text/plain": [
       "VBox()"
      ]
     },
     "metadata": {},
     "output_type": "display_data"
    },
    {
     "data": {
      "application/vnd.jupyter.widget-view+json": {
       "model_id": "",
       "version_major": 2,
       "version_minor": 0
      },
      "text/plain": [
       "FloatProgress(value=0.0, bar_style='info', description='Progress:', layout=Layout(height='25px', width='50%'),…"
      ]
     },
     "metadata": {},
     "output_type": "display_data"
    },
    {
     "name": "stdout",
     "output_type": "stream",
     "text": [
      "26522430"
     ]
    }
   ],
   "source": [
    "df.count() #6461753"
   ]
  },
  {
   "cell_type": "code",
   "execution_count": 40,
   "metadata": {},
   "outputs": [
    {
     "data": {
      "application/vnd.jupyter.widget-view+json": {
       "model_id": "506bd85923c24b55b0f20a2d60061707",
       "version_major": 2,
       "version_minor": 0
      },
      "text/plain": [
       "VBox()"
      ]
     },
     "metadata": {},
     "output_type": "display_data"
    },
    {
     "data": {
      "application/vnd.jupyter.widget-view+json": {
       "model_id": "",
       "version_major": 2,
       "version_minor": 0
      },
      "text/plain": [
       "FloatProgress(value=0.0, bar_style='info', description='Progress:', layout=Layout(height='25px', width='50%'),…"
      ]
     },
     "metadata": {},
     "output_type": "display_data"
    },
    {
     "name": "stdout",
     "output_type": "stream",
     "text": [
      "root\n",
      " |-- RecordedAtTime: timestamp (nullable = true)\n",
      " |-- DirectionRef: string (nullable = true)\n",
      " |-- PublishedLineName: string (nullable = true)\n",
      " |-- OriginName: string (nullable = true)\n",
      " |-- OriginLat: string (nullable = true)\n",
      " |-- OriginLong: string (nullable = true)\n",
      " |-- DestinationName: string (nullable = true)\n",
      " |-- DestinationLat: string (nullable = true)\n",
      " |-- DestinationLong: string (nullable = true)\n",
      " |-- VehicleRef: string (nullable = true)\n",
      " |-- VehicleLocation.Latitude: double (nullable = true)\n",
      " |-- VehicleLocation.Longitude: double (nullable = true)\n",
      " |-- NextStopPointName: string (nullable = true)\n",
      " |-- ArrivalProximityText: string (nullable = true)\n",
      " |-- DistanceFromStop: string (nullable = true)\n",
      " |-- ExpectedArrivalTime: string (nullable = true)\n",
      " |-- ScheduledArrivalTime: string (nullable = true)"
     ]
    }
   ],
   "source": [
    "df.printSchema()"
   ]
  },
  {
   "cell_type": "code",
   "execution_count": 41,
   "metadata": {},
   "outputs": [
    {
     "data": {
      "application/vnd.jupyter.widget-view+json": {
       "model_id": "c8acab789dc544979b96208c41b996d8",
       "version_major": 2,
       "version_minor": 0
      },
      "text/plain": [
       "VBox()"
      ]
     },
     "metadata": {},
     "output_type": "display_data"
    },
    {
     "data": {
      "application/vnd.jupyter.widget-view+json": {
       "model_id": "",
       "version_major": 2,
       "version_minor": 0
      },
      "text/plain": [
       "FloatProgress(value=0.0, bar_style='info', description='Progress:', layout=Layout(height='25px', width='50%'),…"
      ]
     },
     "metadata": {},
     "output_type": "display_data"
    }
   ],
   "source": [
    "columns_to_drop = ['OriginLat', 'OriginLong', 'DestinationLat', 'DestinationLong', 'VehicleLocation.Latitude','VehicleLocation.Longitude']\n",
    "df = df.drop(*columns_to_drop)"
   ]
  },
  {
   "cell_type": "code",
   "execution_count": 42,
   "metadata": {},
   "outputs": [
    {
     "data": {
      "application/vnd.jupyter.widget-view+json": {
       "model_id": "526786852697474a8ec118dee5426345",
       "version_major": 2,
       "version_minor": 0
      },
      "text/plain": [
       "VBox()"
      ]
     },
     "metadata": {},
     "output_type": "display_data"
    },
    {
     "data": {
      "application/vnd.jupyter.widget-view+json": {
       "model_id": "",
       "version_major": 2,
       "version_minor": 0
      },
      "text/plain": [
       "FloatProgress(value=0.0, bar_style='info', description='Progress:', layout=Layout(height='25px', width='50%'),…"
      ]
     },
     "metadata": {},
     "output_type": "display_data"
    },
    {
     "name": "stdout",
     "output_type": "stream",
     "text": [
      "root\n",
      " |-- RecordedAtTime: timestamp (nullable = true)\n",
      " |-- DirectionRef: string (nullable = true)\n",
      " |-- PublishedLineName: string (nullable = true)\n",
      " |-- OriginName: string (nullable = true)\n",
      " |-- DestinationName: string (nullable = true)\n",
      " |-- VehicleRef: string (nullable = true)\n",
      " |-- NextStopPointName: string (nullable = true)\n",
      " |-- ArrivalProximityText: string (nullable = true)\n",
      " |-- DistanceFromStop: string (nullable = true)\n",
      " |-- ExpectedArrivalTime: string (nullable = true)\n",
      " |-- ScheduledArrivalTime: string (nullable = true)"
     ]
    }
   ],
   "source": [
    "df.printSchema()"
   ]
  },
  {
   "cell_type": "code",
   "execution_count": 43,
   "metadata": {},
   "outputs": [
    {
     "data": {
      "application/vnd.jupyter.widget-view+json": {
       "model_id": "4628e92eb228445eb2eded9c088c714c",
       "version_major": 2,
       "version_minor": 0
      },
      "text/plain": [
       "VBox()"
      ]
     },
     "metadata": {},
     "output_type": "display_data"
    },
    {
     "data": {
      "application/vnd.jupyter.widget-view+json": {
       "model_id": "",
       "version_major": 2,
       "version_minor": 0
      },
      "text/plain": [
       "FloatProgress(value=0.0, bar_style='info', description='Progress:', layout=Layout(height='25px', width='50%'),…"
      ]
     },
     "metadata": {},
     "output_type": "display_data"
    },
    {
     "name": "stdout",
     "output_type": "stream",
     "text": [
      "+-----------------+--------------------+--------------------+------+\n",
      "|PublishedLineName|          OriginName|     DestinationName| count|\n",
      "+-----------------+--------------------+--------------------+------+\n",
      "|          M15-SBS|       E 126 ST/2 AV|SELECT BUS SERVIC...|172880|\n",
      "|          Q44-SBS|  BOSTON RD/E 180 ST|SELECT BUS JAMAIC...|159056|\n",
      "|          Q44-SBS|MERRICK BL/ARCHER AV|SELECT BUS BRONX ...|158493|\n",
      "|               B6|LIVONIA AV/ASHFOR...|LTD BENSONHURST H...|130130|\n",
      "|             Bx36|   W 179 ST/BROADWAY|SOUNDVIEW PUGSLEY AV|130023|\n",
      "+-----------------+--------------------+--------------------+------+\n",
      "only showing top 5 rows"
     ]
    }
   ],
   "source": [
    "#Las 5 estaciones que mas  concurrencia \n",
    "df.groupBy('PublishedLineName','OriginName','DestinationName').count().orderBy(\"count\",ascending=False).show(5)"
   ]
  },
  {
   "cell_type": "code",
   "execution_count": 44,
   "metadata": {},
   "outputs": [
    {
     "data": {
      "application/vnd.jupyter.widget-view+json": {
       "model_id": "3be8acbbc7884b0088be32f6572ead4d",
       "version_major": 2,
       "version_minor": 0
      },
      "text/plain": [
       "VBox()"
      ]
     },
     "metadata": {},
     "output_type": "display_data"
    },
    {
     "data": {
      "application/vnd.jupyter.widget-view+json": {
       "model_id": "",
       "version_major": 2,
       "version_minor": 0
      },
      "text/plain": [
       "FloatProgress(value=0.0, bar_style='info', description='Progress:', layout=Layout(height='25px', width='50%'),…"
      ]
     },
     "metadata": {},
     "output_type": "display_data"
    },
    {
     "name": "stdout",
     "output_type": "stream",
     "text": [
      "+---+---+------+\n",
      "|mes|dia| count|\n",
      "+---+---+------+\n",
      "| 12| 01|244305|\n",
      "| 08| 01|249962|\n",
      "| 10| 01|140736|\n",
      "| 06| 01|248900|\n",
      "| 12| 02|166630|\n",
      "| 08| 02|248474|\n",
      "| 10| 02|252501|\n",
      "| 06| 02|250948|\n",
      "| 12| 03|140573|\n",
      "| 10| 03|252985|\n",
      "| 06| 03|174420|\n",
      "| 08| 03|247250|\n",
      "| 06| 04|142007|\n",
      "| 08| 04|254194|\n",
      "| 10| 04|247837|\n",
      "| 12| 04|243511|\n",
      "| 08| 05|174908|\n",
      "| 12| 05|245423|\n",
      "| 10| 05|251930|\n",
      "| 06| 05|251307|\n",
      "+---+---+------+\n",
      "only showing top 20 rows"
     ]
    }
   ],
   "source": [
    "#Conteo por dias delso trayectos que se realizaron\n",
    "fecha=df.select(f.split(\"RecordedAtTime\",\" \").getItem(0).alias(\"fecha\"))\n",
    "mes=fecha.select(f.split(\"fecha\",\"-\").getItem(1).alias(\"mes\"),f.split(\"fecha\",\"-\").getItem(2).alias(\"dia\"))\n",
    "resul=mes.groupBy(\"mes\",'dia').count().orderBy(\"mes\",ascending=True).orderBy(\"dia\",ascending=True).show()\n"
   ]
  },
  {
   "cell_type": "code",
   "execution_count": 47,
   "metadata": {},
   "outputs": [
    {
     "data": {
      "application/vnd.jupyter.widget-view+json": {
       "model_id": "2c8fc489cc81402b96bdb37895d36a61",
       "version_major": 2,
       "version_minor": 0
      },
      "text/plain": [
       "VBox()"
      ]
     },
     "metadata": {},
     "output_type": "display_data"
    },
    {
     "data": {
      "application/vnd.jupyter.widget-view+json": {
       "model_id": "",
       "version_major": 2,
       "version_minor": 0
      },
      "text/plain": [
       "FloatProgress(value=0.0, bar_style='info', description='Progress:', layout=Layout(height='25px', width='50%'),…"
      ]
     },
     "metadata": {},
     "output_type": "display_data"
    },
    {
     "name": "stdout",
     "output_type": "stream",
     "text": [
      "+----------+-----+\n",
      "|VehicleRef|count|\n",
      "+----------+-----+\n",
      "| NYCT_5857|10830|\n",
      "| NYCT_5852|10588|\n",
      "| NYCT_6047|10551|\n",
      "| NYCT_7362|10426|\n",
      "| NYCT_6037|10396|\n",
      "+----------+-----+\n",
      "only showing top 5 rows"
     ]
    }
   ],
   "source": [
    "#Los 5 veicilos que mas trayectos hicieron en los dos meses \n",
    "df.groupBy('VehicleRef').count().orderBy(\"count\",ascending=False).show(5)"
   ]
  },
  {
   "cell_type": "code",
   "execution_count": 50,
   "metadata": {},
   "outputs": [
    {
     "data": {
      "application/vnd.jupyter.widget-view+json": {
       "model_id": "4605f97be9514378952ab7a16c542322",
       "version_major": 2,
       "version_minor": 0
      },
      "text/plain": [
       "VBox()"
      ]
     },
     "metadata": {},
     "output_type": "display_data"
    },
    {
     "data": {
      "application/vnd.jupyter.widget-view+json": {
       "model_id": "",
       "version_major": 2,
       "version_minor": 0
      },
      "text/plain": [
       "FloatProgress(value=0.0, bar_style='info', description='Progress:', layout=Layout(height='25px', width='50%'),…"
      ]
     },
     "metadata": {},
     "output_type": "display_data"
    },
    {
     "name": "stdout",
     "output_type": "stream",
     "text": [
      "Veiculo con mas trayectos en Junio\n",
      "+----------+-----+\n",
      "|VehicleRef|count|\n",
      "+----------+-----+\n",
      "| NYCT_5860| 2978|\n",
      "+----------+-----+\n",
      "only showing top 1 row\n",
      "\n",
      "Veiculo con mas trayectos en Agosto\n",
      "+----------+-----+\n",
      "|VehicleRef|count|\n",
      "+----------+-----+\n",
      "| NYCT_5852| 3306|\n",
      "+----------+-----+\n",
      "only showing top 1 row\n",
      "\n",
      "Veiculo con mas trayectos en octubre\n",
      "+----------+-----+\n",
      "|VehicleRef|count|\n",
      "+----------+-----+\n",
      "| NYCT_5845| 3498|\n",
      "+----------+-----+\n",
      "only showing top 1 row\n",
      "\n",
      "Veiculo con mas trayectos en Diciembre\n",
      "+----------+-----+\n",
      "|VehicleRef|count|\n",
      "+----------+-----+\n",
      "| NYCT_4606| 2794|\n",
      "+----------+-----+\n",
      "only showing top 1 row"
     ]
    }
   ],
   "source": [
    "fecha=df.select('VehicleRef',f.split(\"RecordedAtTime\",\" \").getItem(0).alias(\"fecha\"))\n",
    "mes=fecha.select('VehicleRef',f.split(\"fecha\",\"-\").getItem(1).alias(\"mes\"))\n",
    "print(\"Veiculo con mas trayectos en Junio\")\n",
    "resul1=mes.select('VehicleRef','mes').where(\"mes='06'\").groupBy(\"VehicleRef\").count().orderBy(\"count\",ascending=False).show(1)\n",
    "print(\"Veiculo con mas trayectos en Agosto\")\n",
    "resul1=mes.select('VehicleRef','mes').where(\"mes='08'\").groupBy(\"VehicleRef\").count().orderBy(\"count\",ascending=False).show(1)\n",
    "print(\"Veiculo con mas trayectos en octubre\")\n",
    "resul1=mes.select('VehicleRef','mes').where(\"mes='10'\").groupBy(\"VehicleRef\").count().orderBy(\"count\",ascending=False).show(1)\n",
    "print(\"Veiculo con mas trayectos en Diciembre\")\n",
    "resul1=mes.select('VehicleRef','mes').where(\"mes='12'\").groupBy(\"VehicleRef\").count().orderBy(\"count\",ascending=False).show(1)\n"
   ]
  },
  {
   "cell_type": "code",
   "execution_count": 80,
   "metadata": {},
   "outputs": [
    {
     "data": {
      "application/vnd.jupyter.widget-view+json": {
       "model_id": "f5b6b67a2e5a4fa6a71ad62dcf6f9b29",
       "version_major": 2,
       "version_minor": 0
      },
      "text/plain": [
       "VBox()"
      ]
     },
     "metadata": {},
     "output_type": "display_data"
    },
    {
     "data": {
      "application/vnd.jupyter.widget-view+json": {
       "model_id": "",
       "version_major": 2,
       "version_minor": 0
      },
      "text/plain": [
       "FloatProgress(value=0.0, bar_style='info', description='Progress:', layout=Layout(height='25px', width='50%'),…"
      ]
     },
     "metadata": {},
     "output_type": "display_data"
    },
    {
     "name": "stdout",
     "output_type": "stream",
     "text": [
      "+---------------------------------------------------------------------------------------------------------------------+\n",
      "|avg((unix_timestamp(ExpectedArrivalTime, yyyy-MM-dd HH:mm:ss) - unix_timestamp(RecordedAtTime, yyyy-MM-dd HH:mm:ss)))|\n",
      "+---------------------------------------------------------------------------------------------------------------------+\n",
      "|                                                                                                    60.03478337859938|\n",
      "+---------------------------------------------------------------------------------------------------------------------+"
     ]
    }
   ],
   "source": [
    "#Timpo promedio que se trarda entre  estaciones \n",
    "\n",
    "Time=df.select(f.avg(f.unix_timestamp(\"ExpectedArrivalTime\")-f.unix_timestamp(\"RecordedAtTime\"))).show()\n",
    "\n"
   ]
  }
 ],
 "metadata": {
  "kernelspec": {
   "display_name": "PySpark",
   "language": "",
   "name": "pysparkkernel"
  },
  "language_info": {
   "codemirror_mode": {
    "name": "python",
    "version": 2
   },
   "mimetype": "text/x-python",
   "name": "pyspark",
   "pygments_lexer": "python2"
  }
 },
 "nbformat": 4,
 "nbformat_minor": 4
}
