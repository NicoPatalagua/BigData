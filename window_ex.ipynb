{
  "nbformat": 4,
  "nbformat_minor": 0,
  "metadata": {
    "kernelspec": {
      "display_name": "Python 2",
      "language": "python",
      "name": "python2"
    },
    "language_info": {
      "codemirror_mode": {
        "name": "ipython",
        "version": 2
      },
      "file_extension": ".py",
      "mimetype": "text/x-python",
      "name": "python",
      "nbconvert_exporter": "python",
      "pygments_lexer": "ipython2",
      "version": "2.7.15+"
    },
    "colab": {
      "name": "window-ex.ipynb",
      "provenance": [],
      "include_colab_link": true
    }
  },
  "cells": [
    {
      "cell_type": "markdown",
      "metadata": {
        "id": "view-in-github",
        "colab_type": "text"
      },
      "source": [
        "<a href=\"https://colab.research.google.com/github/NicoPatalagua/BigData/blob/master/window_ex.ipynb\" target=\"_parent\"><img src=\"https://colab.research.google.com/assets/colab-badge.svg\" alt=\"Open In Colab\"/></a>"
      ]
    },
    {
      "cell_type": "code",
      "metadata": {
        "id": "2NDtWSDSTWv7",
        "colab_type": "code",
        "colab": {}
      },
      "source": [
        "from pyspark.sql import functions as f\n",
        "from pyspark.sql import SparkSession\n",
        "\n",
        "spark =  SparkSession.builder.appName(\"test\").getOrCreate()"
      ],
      "execution_count": 0,
      "outputs": []
    },
    {
      "cell_type": "code",
      "metadata": {
        "id": "fNlZbHvpTWwI",
        "colab_type": "code",
        "colab": {}
      },
      "source": [
        "df_ec = spark.read.csv(\"EC.csv\", header=True, inferSchema=True)\n",
        "df_avh = spark.read.csv(\"AVH.csv\", header=True, inferSchema=True)\n",
        "df_aval = spark.read.csv(\"AVAL.csv\", header=True, inferSchema=True)"
      ],
      "execution_count": 0,
      "outputs": []
    },
    {
      "cell_type": "code",
      "metadata": {
        "id": "fIQhlHsVTWwT",
        "colab_type": "code",
        "colab": {}
      },
      "source": [
        "df = df_ec.select(f.lit(\"ECOPETROL\").alias(\"Empresa\"), \"*\")\n",
        "df = df.union(df_avh.select(f.lit(\"AVIANCA\").alias(\"Empresa\"), \"*\"))\n",
        "df = df.union(df_aval.select(f.lit(\"AVAL\").alias(\"Empresa\"), \"*\"))"
      ],
      "execution_count": 0,
      "outputs": []
    },
    {
      "cell_type": "code",
      "metadata": {
        "id": "gFMBKRC5TWwg",
        "colab_type": "code",
        "colab": {},
        "outputId": "3cfb048d-60ef-419c-a467-01ab13353265"
      },
      "source": [
        "df.groupBy(\"Empresa\").count().show()"
      ],
      "execution_count": 0,
      "outputs": [
        {
          "output_type": "stream",
          "text": [
            "+---------+-----+\n",
            "|  Empresa|count|\n",
            "+---------+-----+\n",
            "|     AVAL|  253|\n",
            "|ECOPETROL|  253|\n",
            "|  AVIANCA|  253|\n",
            "+---------+-----+\n",
            "\n"
          ],
          "name": "stdout"
        }
      ]
    },
    {
      "cell_type": "code",
      "metadata": {
        "id": "z36BjT6rTWwp",
        "colab_type": "code",
        "colab": {}
      },
      "source": [
        "from pyspark.sql import Window\n",
        "\n",
        "w  = Window.partitionBy(\"Empresa\").orderBy(df.Close.desc())"
      ],
      "execution_count": 0,
      "outputs": []
    },
    {
      "cell_type": "code",
      "metadata": {
        "id": "Pm1i83V9TWwy",
        "colab_type": "code",
        "colab": {},
        "outputId": "c18a4f02-4d89-49dc-d0f5-db0b8edd1493"
      },
      "source": [
        "df.select(\"Empresa\", \"Date\", \"Close\", f.row_number().over(w).alias(\"nrow\")) \\\n",
        ".where(\"nrow<=5\").show()"
      ],
      "execution_count": 0,
      "outputs": [
        {
          "output_type": "stream",
          "text": [
            "+---------+-------------------+---------+----+\n",
            "|  Empresa|               Date|    Close|nrow|\n",
            "+---------+-------------------+---------+----+\n",
            "|     AVAL|2020-01-14 00:00:00|     8.88|   1|\n",
            "|     AVAL|2020-01-08 00:00:00|     8.86|   2|\n",
            "|     AVAL|2020-01-09 00:00:00|     8.85|   3|\n",
            "|     AVAL|2020-01-13 00:00:00|     8.85|   4|\n",
            "|     AVAL|2020-01-06 00:00:00|     8.84|   5|\n",
            "|ECOPETROL|2019-04-08 00:00:00|21.969999|   1|\n",
            "|ECOPETROL|2019-04-01 00:00:00|21.879999|   2|\n",
            "|ECOPETROL|2019-04-10 00:00:00|21.860001|   3|\n",
            "|ECOPETROL|2019-04-02 00:00:00|    21.84|   4|\n",
            "|ECOPETROL|2019-04-03 00:00:00|    21.83|   5|\n",
            "|  AVIANCA|2020-02-19 00:00:00|      5.0|   1|\n",
            "|  AVIANCA|2020-02-20 00:00:00|      5.0|   2|\n",
            "|  AVIANCA|2020-02-12 00:00:00|     4.94|   3|\n",
            "|  AVIANCA|2020-02-04 00:00:00|     4.92|   4|\n",
            "|  AVIANCA|2020-02-05 00:00:00|     4.92|   5|\n",
            "+---------+-------------------+---------+----+\n",
            "\n"
          ],
          "name": "stdout"
        }
      ]
    },
    {
      "cell_type": "code",
      "metadata": {
        "id": "mseeh-sQTWw9",
        "colab_type": "code",
        "colab": {},
        "outputId": "4efb2e76-2cdc-45c3-e4ba-5d3dbf5f1b7e"
      },
      "source": [
        "df.select(\"Empresa\", \"Date\", \"Close\", f.max(\"Close\").over(w).alias(\"First\"))\\\n",
        ".select(\"Empresa\", \"First\").distinct().show()"
      ],
      "execution_count": 0,
      "outputs": [
        {
          "output_type": "stream",
          "text": [
            "+---------+---------+\n",
            "|  Empresa|    First|\n",
            "+---------+---------+\n",
            "|     AVAL|     8.88|\n",
            "|ECOPETROL|21.969999|\n",
            "|  AVIANCA|      5.0|\n",
            "+---------+---------+\n",
            "\n"
          ],
          "name": "stdout"
        }
      ]
    },
    {
      "cell_type": "code",
      "metadata": {
        "id": "Ji3zHKnjTWxC",
        "colab_type": "code",
        "colab": {}
      },
      "source": [
        "w  = Window.partitionBy(\"Empresa\").orderBy(\"Date\").rowsBetween(-3, 0)"
      ],
      "execution_count": 0,
      "outputs": []
    },
    {
      "cell_type": "code",
      "metadata": {
        "id": "1b_TtDI4TWxH",
        "colab_type": "code",
        "colab": {},
        "outputId": "6bede3d6-4921-4396-ba18-d91870cdfc97"
      },
      "source": [
        "df.select(\"Empresa\", \"Date\", f.sum(\"Close\").over(w).alias(\"anterior\")).show(10, False)"
      ],
      "execution_count": 0,
      "outputs": [
        {
          "output_type": "stream",
          "text": [
            "+-------+-------------------+------------------+\n",
            "|Empresa|Date               |anterior          |\n",
            "+-------+-------------------+------------------+\n",
            "|AVAL   |2019-04-10 00:00:00|8.42              |\n",
            "|AVAL   |2019-04-11 00:00:00|16.82             |\n",
            "|AVAL   |2019-04-12 00:00:00|25.16             |\n",
            "|AVAL   |2019-04-15 00:00:00|33.42             |\n",
            "|AVAL   |2019-04-16 00:00:00|33.22             |\n",
            "|AVAL   |2019-04-17 00:00:00|33.15             |\n",
            "|AVAL   |2019-04-18 00:00:00|33.050000000000004|\n",
            "|AVAL   |2019-04-22 00:00:00|33.01             |\n",
            "|AVAL   |2019-04-23 00:00:00|33.03             |\n",
            "|AVAL   |2019-04-24 00:00:00|32.760000000000005|\n",
            "+-------+-------------------+------------------+\n",
            "only showing top 10 rows\n",
            "\n"
          ],
          "name": "stdout"
        }
      ]
    }
  ]
}