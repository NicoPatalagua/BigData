{
  "nbformat": 4,
  "nbformat_minor": 0,
  "metadata": {
    "colab": {
      "name": "Vocales.ipynb",
      "provenance": [],
      "collapsed_sections": [],
      "include_colab_link": true
    },
    "kernelspec": {
      "name": "python3",
      "display_name": "Python 3"
    }
  },
  "cells": [
    {
      "cell_type": "markdown",
      "metadata": {
        "id": "view-in-github",
        "colab_type": "text"
      },
      "source": [
        "<a href=\"https://colab.research.google.com/github/NicoPatalagua/BigData/blob/master/Vocales.ipynb\" target=\"_parent\"><img src=\"https://colab.research.google.com/assets/colab-badge.svg\" alt=\"Open In Colab\"/></a>"
      ]
    },
    {
      "cell_type": "code",
      "metadata": {
        "id": "fy2RBfjAPz13",
        "colab_type": "code",
        "outputId": "a9517432-88e4-4e50-fa66-199c30abc745",
        "colab": {
          "base_uri": "https://localhost:8080/",
          "height": 263
        }
      },
      "source": [
        "!apt-get install openjdk-8-jdk-headless -qq > /dev/null\n",
        "!wget -q http://apache.osuosl.org/spark/spark-2.4.5/spark-2.4.5-bin-hadoop2.7.tgz\n",
        "!tar xf spark-2.4.5-bin-hadoop2.7.tgz\n",
        "!pip install -q findspark\n",
        "!pip install pyspark\n",
        "import os\n",
        "os.environ[\"JAVA_HOME\"] = \"/usr/lib/jvm/java-8-openjdk-amd64\"\n",
        "os.environ[\"SPARK_HOME\"] = \"/content/spark-2.4.5-bin-hadoop2.7\"\n",
        "\n",
        "from google.colab import drive\n",
        "drive.mount('/content/gdrive')\n",
        "from pyspark import SparkConf, SparkContext\n",
        "conf = SparkConf().setAppName(\"app\")\n",
        "sc = SparkContext.getOrCreate();"
      ],
      "execution_count": 0,
      "outputs": [
        {
          "output_type": "stream",
          "text": [
            "Collecting pyspark\n",
            "\u001b[?25l  Downloading https://files.pythonhosted.org/packages/9a/5a/271c416c1c2185b6cb0151b29a91fff6fcaed80173c8584ff6d20e46b465/pyspark-2.4.5.tar.gz (217.8MB)\n",
            "\u001b[K     |████████████████████████████████| 217.8MB 58kB/s \n",
            "\u001b[?25hCollecting py4j==0.10.7\n",
            "\u001b[?25l  Downloading https://files.pythonhosted.org/packages/e3/53/c737818eb9a7dc32a7cd4f1396e787bd94200c3997c72c1dbe028587bd76/py4j-0.10.7-py2.py3-none-any.whl (197kB)\n",
            "\u001b[K     |████████████████████████████████| 204kB 55.4MB/s \n",
            "\u001b[?25hBuilding wheels for collected packages: pyspark\n",
            "  Building wheel for pyspark (setup.py) ... \u001b[?25l\u001b[?25hdone\n",
            "  Created wheel for pyspark: filename=pyspark-2.4.5-py2.py3-none-any.whl size=218257927 sha256=7b2eb0a4570baae668df528615f765d8f411134dcd3e5815de3db24193d46029\n",
            "  Stored in directory: /root/.cache/pip/wheels/bf/db/04/61d66a5939364e756eb1c1be4ec5bdce6e04047fc7929a3c3c\n",
            "Successfully built pyspark\n",
            "Installing collected packages: py4j, pyspark\n",
            "Successfully installed py4j-0.10.7 pyspark-2.4.5\n"
          ],
          "name": "stdout"
        }
      ]
    },
    {
      "cell_type": "code",
      "metadata": {
        "id": "PhEacGa2R4qf",
        "colab_type": "code",
        "outputId": "450c249c-afa7-4dea-8d11-f153d7d7106b",
        "colab": {
          "base_uri": "https://localhost:8080/",
          "height": 204
        }
      },
      "source": [
        "!wget http://textfiles.com/stories/100west.txt"
      ],
      "execution_count": 0,
      "outputs": [
        {
          "output_type": "stream",
          "text": [
            "--2020-03-30 17:14:57--  http://textfiles.com/stories/100west.txt\n",
            "Resolving textfiles.com (textfiles.com)... 208.86.224.90\n",
            "Connecting to textfiles.com (textfiles.com)|208.86.224.90|:80... connected.\n",
            "HTTP request sent, awaiting response... 200 OK\n",
            "Length: 20839 (20K) [text/plain]\n",
            "Saving to: ‘100west.txt.1’\n",
            "\n",
            "\r100west.txt.1         0%[                    ]       0  --.-KB/s               \r100west.txt.1       100%[===================>]  20.35K  --.-KB/s    in 0.03s   \n",
            "\n",
            "2020-03-30 17:14:58 (634 KB/s) - ‘100west.txt.1’ saved [20839/20839]\n",
            "\n"
          ],
          "name": "stdout"
        }
      ]
    },
    {
      "cell_type": "code",
      "metadata": {
        "id": "vSxCDWcvR91X",
        "colab_type": "code",
        "outputId": "0c65ad16-eb1b-43fa-d04d-4277a7f0805b",
        "colab": {
          "base_uri": "https://localhost:8080/",
          "height": 187
        }
      },
      "source": [
        "data = sc.textFile(\"100west.txt\")\n",
        "data.take(10)"
      ],
      "execution_count": 0,
      "outputs": [
        {
          "output_type": "execute_result",
          "data": {
            "text/plain": [
              "['',\n",
              " '',\n",
              " '                     THIS IS A SHAREWARE TRIAL PROJECT',\n",
              " '                                 ',\n",
              " '         IT IS NOT \"FREEWARE\" WE NEED YOUR SUPPORT TO CONTINUE',\n",
              " '',\n",
              " '',\n",
              " '',\n",
              " '',\n",
              " '                              100 WEST BY 53 NORTH']"
            ]
          },
          "metadata": {
            "tags": []
          },
          "execution_count": 60
        }
      ]
    },
    {
      "cell_type": "code",
      "metadata": {
        "id": "l6OxkaaAnV8w",
        "colab_type": "code",
        "colab": {}
      },
      "source": [
        "palabras = data.flatMap(lambda data : data.split())"
      ],
      "execution_count": 0,
      "outputs": []
    },
    {
      "cell_type": "code",
      "metadata": {
        "id": "PnejIVfGnb5S",
        "colab_type": "code",
        "outputId": "c633b5fd-5c61-4368-ade8-cc874f13c3e4",
        "colab": {
          "base_uri": "https://localhost:8080/",
          "height": 187
        }
      },
      "source": [
        "palabras.take(10)"
      ],
      "execution_count": 0,
      "outputs": [
        {
          "output_type": "execute_result",
          "data": {
            "text/plain": [
              "['THIS',\n",
              " 'IS',\n",
              " 'A',\n",
              " 'SHAREWARE',\n",
              " 'TRIAL',\n",
              " 'PROJECT',\n",
              " 'IT',\n",
              " 'IS',\n",
              " 'NOT',\n",
              " '\"FREEWARE\"']"
            ]
          },
          "metadata": {
            "tags": []
          },
          "execution_count": 185
        }
      ]
    },
    {
      "cell_type": "code",
      "metadata": {
        "id": "w2icjXXhZ6yL",
        "colab_type": "code",
        "colab": {}
      },
      "source": [
        "linea = data.flatMap(lambda linea : linea.replace(\" \",\"\").replace(\".\",\"\").replace('\"','').replace(\"'\",'').replace(\"ñ\",\"n\").replace(\"ú\",\"u\").replace(\"ó\",\"o\")\n",
        ".replace(\"í\",\"i\").replace(\"é\",\"e\").replace(\"á\",\"a\").replace(\"!\",\"\").replace(\",\",\"\").lower().split())"
      ],
      "execution_count": 0,
      "outputs": []
    },
    {
      "cell_type": "code",
      "metadata": {
        "id": "StFi-wnsSOMG",
        "colab_type": "code",
        "outputId": "e47158c8-2457-4266-8b8f-385d94008854",
        "colab": {
          "base_uri": "https://localhost:8080/",
          "height": 187
        }
      },
      "source": [
        "linea.take(10)"
      ],
      "execution_count": 0,
      "outputs": [
        {
          "output_type": "execute_result",
          "data": {
            "text/plain": [
              "['thisisasharewaretrialproject',\n",
              " 'itisnotfreewareweneedyoursupporttocontinue',\n",
              " '100westby53north',\n",
              " 'by',\n",
              " 'jimprentice',\n",
              " 'copyright1990jimprenticebrandonmanitobacanada',\n",
              " 'northof53amagicphrasespokenmumbledorthought',\n",
              " 'inwardlybythousandsofsoulsventuringnorthwardan',\n",
              " 'imaginarylineshownonlyonmapsandlabelled53degrees',\n",
              " 'itspresenceindicatedtohighwaytravellersbyroadside']"
            ]
          },
          "metadata": {
            "tags": []
          },
          "execution_count": 191
        }
      ]
    },
    {
      "cell_type": "code",
      "metadata": {
        "id": "Vl0es-DHeZCh",
        "colab_type": "code",
        "colab": {}
      },
      "source": [
        "letras = linea.map(lambda linea: (linea,1))"
      ],
      "execution_count": 0,
      "outputs": []
    },
    {
      "cell_type": "code",
      "metadata": {
        "id": "f6-rukimea5S",
        "colab_type": "code",
        "outputId": "be337f40-de87-472f-cb06-db293c08d59b",
        "colab": {
          "base_uri": "https://localhost:8080/",
          "height": 187
        }
      },
      "source": [
        "letras.take(10)"
      ],
      "execution_count": 0,
      "outputs": [
        {
          "output_type": "execute_result",
          "data": {
            "text/plain": [
              "[('thisisasharewaretrialproject', 1),\n",
              " ('itisnotfreewareweneedyoursupporttocontinue', 1),\n",
              " ('100westby53north', 1),\n",
              " ('by', 1),\n",
              " ('jimprentice', 1),\n",
              " ('copyright1990jimprenticebrandonmanitobacanada', 1),\n",
              " ('northof53amagicphrasespokenmumbledorthought', 1),\n",
              " ('inwardlybythousandsofsoulsventuringnorthwardan', 1),\n",
              " ('imaginarylineshownonlyonmapsandlabelled53degrees', 1),\n",
              " ('itspresenceindicatedtohighwaytravellersbyroadside', 1)]"
            ]
          },
          "metadata": {
            "tags": []
          },
          "execution_count": 193
        }
      ]
    },
    {
      "cell_type": "code",
      "metadata": {
        "id": "HvuTgIGbqXrx",
        "colab_type": "code",
        "colab": {}
      },
      "source": [
        "lista = letras.collect()"
      ],
      "execution_count": 0,
      "outputs": []
    },
    {
      "cell_type": "code",
      "metadata": {
        "id": "gulZMb7Aren0",
        "colab_type": "code",
        "outputId": "69b72f3a-f91f-4cee-f927-53580307c4ae",
        "colab": {
          "base_uri": "https://localhost:8080/",
          "height": 34
        }
      },
      "source": [
        "print(lista[0][0])"
      ],
      "execution_count": 0,
      "outputs": [
        {
          "output_type": "stream",
          "text": [
            "thisisasharewaretrialproject\n"
          ],
          "name": "stdout"
        }
      ]
    },
    {
      "cell_type": "code",
      "metadata": {
        "id": "nS2w3glKsBIB",
        "colab_type": "code",
        "colab": {}
      },
      "source": [
        "def VowelsU(cad):\n",
        "  suma = sum(c in {\"a\", \"A\", \"e\", \"E\", \"i\", \"I\", \"o\", \"O\", \"u\", \"U\"} for c in cad)\n",
        "  a=sum(c in{\"a\"} for c in cad)\n",
        "  e=sum(c in{\"e\"} for c in cad)\n",
        "  i=sum(c in{\"i\"} for c in cad)\n",
        "  o=sum(c in{\"o\"} for c in cad)\n",
        "  u=sum(c in{\"u\"} for c in cad)  \n",
        "  if a!=0:\n",
        "    a = suma/a\n",
        "  if e!=0:\n",
        "    e=suma/e\n",
        "  if i!=0:\n",
        "    i = suma/i\n",
        "  if o!=0:\n",
        "    o=suma/o\n",
        "  if u != 0:\n",
        "    u = suma/u\n",
        "  return {'a':a,'e':e,'i':i,'o':o,'u':u}"
      ],
      "execution_count": 0,
      "outputs": []
    },
    {
      "cell_type": "code",
      "metadata": {
        "id": "yPHXzZpTvX2x",
        "colab_type": "code",
        "colab": {}
      },
      "source": [
        "resul = [VowelsU(a) for a in letras.keys().collect()]\n",
        "resul"
      ],
      "execution_count": 0,
      "outputs": []
    },
    {
      "cell_type": "code",
      "metadata": {
        "id": "_Z-B276b7N8J",
        "colab_type": "code",
        "colab": {}
      },
      "source": [
        "def VowelsU(cad):\n",
        "  a= sum(c in{\"a\"} for c in cad)\n",
        "  e= sum(c in{\"e\"} for c in cad)\n",
        "  i= sum(c in{\"i\"} for c in cad)\n",
        "  o= sum(c in{\"o\"} for c in cad)\n",
        "  u= sum(c in{\"u\"} for c in cad) \n",
        "  return [a,e,i,o,u]\n",
        "\n",
        "lst = [VowelsU(x) for x in letras.keys().collect()]\n",
        "for i in range(len(lst)-1):\n",
        "  a1+=lst[i][0]\n",
        "  e1+=lst[i][1]\n",
        "  i1+=lst[i][2]\n",
        "  o1+=lst[i][3]\n",
        "  u1+=lst[i][4]\n",
        "\n",
        "print(\"a: \"+str(a1))\n",
        "print(\"e: \"+str(e1))\n",
        "print(\"i: \"+str(i1))\n",
        "print(\"o: \"+str(o1))\n",
        "print(\"u: \"+str(u1))\n",
        "\n",
        "print(\" \")\n",
        "print(\"a: \"+str(len(lst)/a1))\n",
        "print(\"e: \"+str(len(lst)/e1))\n",
        "print(\"i: \"+str(len(lst)/i1))\n",
        "print(\"o: \"+str(len(lst)/o1))\n",
        "print(\"u: \"+str(len(lst)/u1))\n",
        "\n",
        "suma = a1+e1+i1+o1+u1\n",
        "print(\" \")\n",
        "print(\"a: \"+str(suma/a1))\n",
        "print(\"e: \"+str(suma/e1))\n",
        "print(\"i: \"+str(suma/i1))\n",
        "print(\"o: \"+str(suma/o1))\n",
        "print(\"u: \"+str(suma/u1))"
      ],
      "execution_count": 0,
      "outputs": []
    },
    {
      "cell_type": "code",
      "metadata": {
        "id": "-vznwLmC7hul",
        "colab_type": "code",
        "colab": {}
      },
      "source": [
        ""
      ],
      "execution_count": 0,
      "outputs": []
    }
  ]
}